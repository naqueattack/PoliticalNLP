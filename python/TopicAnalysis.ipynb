{
 "cells": [
  {
   "cell_type": "code",
   "execution_count": 35,
   "id": "aad6027d-16d1-426a-af35-0885f7b0d956",
   "metadata": {},
   "outputs": [
    {
     "name": "stderr",
     "output_type": "stream",
     "text": [
      "[nltk_data] Downloading package wordnet to\n",
      "[nltk_data]     C:\\Users\\Andrew\\AppData\\Roaming\\nltk_data...\n",
      "[nltk_data]   Package wordnet is already up-to-date!\n",
      "[nltk_data] Downloading package averaged_perceptron_tagger to\n",
      "[nltk_data]     C:\\Users\\Andrew\\AppData\\Roaming\\nltk_data...\n",
      "[nltk_data]   Package averaged_perceptron_tagger is already up-to-\n",
      "[nltk_data]       date!\n"
     ]
    }
   ],
   "source": [
    "import pandas as pd\n",
    "import numpy as np\n",
    "import string\n",
    "import nltk\n",
    "import numpy as np\n",
    "\n",
    "nltk.download('wordnet')\n",
    "nltk.download('averaged_perceptron_tagger')\n",
    "\n",
    "df = pd.read_csv(\"../data/fulldata.csv\")\n",
    "df2 = pd.read_csv(\"../data/6_14_pull.csv\")\n",
    "\n",
    "df = pd.concat([df,df2])"
   ]
  },
  {
   "cell_type": "code",
   "execution_count": 2,
   "id": "7b1367f9-7185-49eb-80a4-684556502b42",
   "metadata": {},
   "outputs": [],
   "source": [
    "from Cleaning_Topic import lowercase, unpunctuate, tokenize, lemmatize, cleaning_and_prep"
   ]
  },
  {
   "cell_type": "code",
   "execution_count": 3,
   "id": "f9ad2839-8f1d-4532-b6c2-5c53a9d04d05",
   "metadata": {},
   "outputs": [
    {
     "name": "stderr",
     "output_type": "stream",
     "text": [
      "C:\\Users\\Andrew\\Documents\\LHL\\PoliticalNLP\\python\\Cleaning_Topic.py:55: SettingWithCopyWarning: \n",
      "A value is trying to be set on a copy of a slice from a DataFrame.\n",
      "Try using .loc[row_indexer,col_indexer] = value instead\n",
      "\n",
      "See the caveats in the documentation: https://pandas.pydata.org/pandas-docs/stable/user_guide/indexing.html#returning-a-view-versus-a-copy\n",
      "  df['Political Lean'] = df['Political Lean'].replace('Liberal',1)\n",
      "C:\\Users\\Andrew\\Documents\\LHL\\PoliticalNLP\\python\\Cleaning_Topic.py:56: SettingWithCopyWarning: \n",
      "A value is trying to be set on a copy of a slice from a DataFrame.\n",
      "Try using .loc[row_indexer,col_indexer] = value instead\n",
      "\n",
      "See the caveats in the documentation: https://pandas.pydata.org/pandas-docs/stable/user_guide/indexing.html#returning-a-view-versus-a-copy\n",
      "  df['Political Lean'] = df['Political Lean'].replace('Conservative',0)\n"
     ]
    }
   ],
   "source": [
    "X, y  = cleaning_and_prep(df)"
   ]
  },
  {
   "cell_type": "code",
   "execution_count": 4,
   "id": "09bdd66d-18d5-420b-8c1d-a7a00bedad16",
   "metadata": {},
   "outputs": [],
   "source": [
    "from gensim import corpora\n",
    "\n",
    "# Convert tokenized sentences to a list of words\n",
    "tokenized_sentences = X['Title'].tolist()\n",
    "dictionary = corpora.Dictionary(tokenized_sentences)"
   ]
  },
  {
   "cell_type": "code",
   "execution_count": 5,
   "id": "61e8ad72-98ff-4021-948d-09d9a7984f01",
   "metadata": {},
   "outputs": [],
   "source": [
    "corpus = [dictionary.doc2bow(doc) for doc in tokenized_sentences]"
   ]
  },
  {
   "cell_type": "code",
   "execution_count": 6,
   "id": "6cecda9b-33a0-4e32-8755-fa41a6ee0bec",
   "metadata": {},
   "outputs": [],
   "source": [
    "from gensim.models import LdaModel\n",
    "from gensim.models import CoherenceModel"
   ]
  },
  {
   "cell_type": "code",
   "execution_count": 7,
   "id": "d4ab4ff7-0346-44f1-b313-d06a6b446066",
   "metadata": {},
   "outputs": [],
   "source": [
    "num_topics = 12\n",
    "lda_model = LdaModel(corpus, num_topics=num_topics, id2word=dictionary, passes=10)"
   ]
  },
  {
   "cell_type": "code",
   "execution_count": 8,
   "id": "e92f2840-3cc8-4d3a-835f-b7974ea55a4f",
   "metadata": {},
   "outputs": [],
   "source": [
    "topics = lda_model.show_topics(num_topics=num_topics, formatted=False)"
   ]
  },
  {
   "cell_type": "code",
   "execution_count": 9,
   "id": "b7fc60c0-5dfe-417a-91f8-ec6ddff5ded3",
   "metadata": {},
   "outputs": [
    {
     "name": "stdout",
     "output_type": "stream",
     "text": [
      "Topic 0:\n",
      "['school', 'public', 'book', 'ban', 'child', 'state', 'movement', 'right', 'event', 'politics']\n",
      "Topic 1:\n",
      "['government', 'system', 'elon', 'tucker', 'business', 'worker', 'musk', 'carlson', 'palestinian', 'pandemic']\n",
      "Topic 2:\n",
      "['police', 'pride', 'republican', 'fbi', 'ted', 'law', 'ballot', 'cruz', 'lawmaker', 'stop']\n",
      "Topic 3:\n",
      "['opinion', 'republican', 'vote', 'senate', 'plan', 'bad', '—', 'gop', 'kill', 'member']\n",
      "Topic 4:\n",
      "['ukraine', 'russia', 'war', 'putin', 'russian', 'act', 'invasion', 'force', 'report', 'fox']\n",
      "Topic 5:\n",
      "['2022', 'work', 'sen', 'covid', 'cpac', 'state', 'strike', 'midterm', 'democrat', 'many']\n",
      "Topic 6:\n",
      "['people', 'capitalism', 'socialism', 'left', 'american', 'wage', 'time', 'wrong', 'want', 'death']\n",
      "Topic 7:\n",
      "['house', 'white', '6', 'democrat', 'poll', 'former', 'gop', 'president', 'republican', 'donald']\n",
      "Topic 8:\n",
      "['social', 'democracy', 'communist', 'socialist', 'state', 'union', 'economy', 'america', 'american', 'free']\n",
      "Topic 9:\n",
      "['desantis', 'court', 'election', 'ron', 'federal', 'black', 'supreme', 'justice', 'climate', 'voting']\n",
      "Topic 10:\n",
      "['debt', 'student', 'bill', 'big', 'deal', 'city', 'tax', 'gun', 'ceiling', 'day']\n",
      "Topic 11:\n",
      "['abortion', 'woman', 'fbi', 'thought', 'prison', 'covid19', 'legal', 'police', 'called', 'vaccine']\n"
     ]
    }
   ],
   "source": [
    "for topic in topics:\n",
    "    print(f\"Topic {topic[0]}:\")\n",
    "    words = [word[0] for word in topic[1]]\n",
    "    print(words)"
   ]
  },
  {
   "cell_type": "code",
   "execution_count": 24,
   "id": "66fba18d-2d6d-420c-91f0-ab0fce74256e",
   "metadata": {},
   "outputs": [],
   "source": [
    "coherence_model_lda = CoherenceModel(model=lda_model, texts=tokenized_sentences, dictionary=dictionary, coherence='c_v')\n",
    "coherence_score = coherence_model_lda.get_coherence()\n",
    "\n",
    "def topic_assignment(text):\n",
    "    bow_vector = dictionary.doc2bow(text)\n",
    "    topic_distribution = lda_model.get_document_topics(bow_vector)\n",
    "    topic_assignment = max(topic_distribution, key=lambda x: x[1])[0]\n",
    "    return topic_assignment\n",
    "\n",
    "X['Topic'] = X['Title'].apply(topic_assignment)"
   ]
  },
  {
   "cell_type": "code",
   "execution_count": 11,
   "id": "f42e24c6-1a8e-489f-bd78-5585be4b9445",
   "metadata": {},
   "outputs": [
    {
     "data": {
      "text/plain": [
       "0.376168290542803"
      ]
     },
     "execution_count": 11,
     "metadata": {},
     "output_type": "execute_result"
    }
   ],
   "source": [
    "coherence_score"
   ]
  },
  {
   "cell_type": "code",
   "execution_count": 36,
   "id": "def4f3c9-1361-41f3-82fd-c58bc1f108db",
   "metadata": {},
   "outputs": [],
   "source": [
    "df = df.merge(X['Topic'], how = 'left', left_index = True, right_index=True)"
   ]
  },
  {
   "cell_type": "code",
   "execution_count": 43,
   "id": "77fbefef-6117-4d20-8353-2faff84307fc",
   "metadata": {},
   "outputs": [
    {
     "data": {
      "text/html": [
       "<div>\n",
       "<style scoped>\n",
       "    .dataframe tbody tr th:only-of-type {\n",
       "        vertical-align: middle;\n",
       "    }\n",
       "\n",
       "    .dataframe tbody tr th {\n",
       "        vertical-align: top;\n",
       "    }\n",
       "\n",
       "    .dataframe thead th {\n",
       "        text-align: right;\n",
       "    }\n",
       "</style>\n",
       "<table border=\"1\" class=\"dataframe\">\n",
       "  <thead>\n",
       "    <tr style=\"text-align: right;\">\n",
       "      <th></th>\n",
       "      <th>Title</th>\n",
       "      <th>Topic</th>\n",
       "    </tr>\n",
       "  </thead>\n",
       "  <tbody>\n",
       "    <tr>\n",
       "      <th>8</th>\n",
       "      <td>Every city have to government their resources and give best quality producen to a country environment. And stop financing Political partis which cost 100x govermant spending.</td>\n",
       "      <td>1</td>\n",
       "    </tr>\n",
       "    <tr>\n",
       "      <th>8</th>\n",
       "      <td>The IRS Allows Eco-Terrorists to Crowdsource Harassment of Senators | Frontpage Mag</td>\n",
       "      <td>1</td>\n",
       "    </tr>\n",
       "    <tr>\n",
       "      <th>24</th>\n",
       "      <td>Alan Kelly resigns as Irish Labour Party leader</td>\n",
       "      <td>1</td>\n",
       "    </tr>\n",
       "    <tr>\n",
       "      <th>24</th>\n",
       "      <td>Fighting Woke</td>\n",
       "      <td>1</td>\n",
       "    </tr>\n",
       "    <tr>\n",
       "      <th>35</th>\n",
       "      <td>Coverage of China’s Covid-Zero Strategy and Manufacturing Consent</td>\n",
       "      <td>1</td>\n",
       "    </tr>\n",
       "    <tr>\n",
       "      <th>35</th>\n",
       "      <td>ISO Opinions</td>\n",
       "      <td>1</td>\n",
       "    </tr>\n",
       "    <tr>\n",
       "      <th>65</th>\n",
       "      <td>Rick Scott (FL) the richest senator, released his 11 point plan. First words are “Our kids will say the pledge of allegiance, salute the Flag”</td>\n",
       "      <td>1</td>\n",
       "    </tr>\n",
       "    <tr>\n",
       "      <th>65</th>\n",
       "      <td>Sen. Ron Johnson to Newsmax: Evidence Against Biden Keeps Mounting</td>\n",
       "      <td>1</td>\n",
       "    </tr>\n",
       "    <tr>\n",
       "      <th>78</th>\n",
       "      <td>Russia does not threaten Hungary, lets stay out of the war! Statement of the Hungarian Worker's Party</td>\n",
       "      <td>1</td>\n",
       "    </tr>\n",
       "    <tr>\n",
       "      <th>78</th>\n",
       "      <td>Opinion | Trump’s Boxes and Clinton’s Sock Drawer</td>\n",
       "      <td>1</td>\n",
       "    </tr>\n",
       "    <tr>\n",
       "      <th>162</th>\n",
       "      <td>Unidad by Pablo Neruda</td>\n",
       "      <td>1</td>\n",
       "    </tr>\n",
       "    <tr>\n",
       "      <th>162</th>\n",
       "      <td>Ha!!!</td>\n",
       "      <td>1</td>\n",
       "    </tr>\n",
       "    <tr>\n",
       "      <th>182</th>\n",
       "      <td>John Oliver Says George W. Bush Should ‘Shut the Fuck Up’ About Russia’s Ukraine Invasion</td>\n",
       "      <td>1</td>\n",
       "    </tr>\n",
       "    <tr>\n",
       "      <th>182</th>\n",
       "      <td>Conservative patriots in Central Africa</td>\n",
       "      <td>1</td>\n",
       "    </tr>\n",
       "    <tr>\n",
       "      <th>183</th>\n",
       "      <td>Question on UN resolution against nazism that the US &amp; Ukraine voted against</td>\n",
       "      <td>1</td>\n",
       "    </tr>\n",
       "    <tr>\n",
       "      <th>183</th>\n",
       "      <td>They're a little slow</td>\n",
       "      <td>1</td>\n",
       "    </tr>\n",
       "    <tr>\n",
       "      <th>226</th>\n",
       "      <td>Now That The Election is Over, What Do I Want To See Happen To Trump Supporters?</td>\n",
       "      <td>1</td>\n",
       "    </tr>\n",
       "    <tr>\n",
       "      <th>226</th>\n",
       "      <td>What do you think of the former president being indicted?</td>\n",
       "      <td>1</td>\n",
       "    </tr>\n",
       "    <tr>\n",
       "      <th>227</th>\n",
       "      <td>UPS slashed pay for part-time workers by up to $6 per hour, prompting a rapid response from UPS workers nationwide. On February 23, over 500 Teamsters from across Northern and Central California convened at UPS’ San Francisco building to protest the pay cut</td>\n",
       "      <td>1</td>\n",
       "    </tr>\n",
       "    <tr>\n",
       "      <th>227</th>\n",
       "      <td>McCarthy destroys CNN (again)</td>\n",
       "      <td>1</td>\n",
       "    </tr>\n",
       "  </tbody>\n",
       "</table>\n",
       "</div>"
      ],
      "text/plain": [
       "                                                                                                                                                                                                                                                                 Title  \\\n",
       "8                                                                                       Every city have to government their resources and give best quality producen to a country environment. And stop financing Political partis which cost 100x govermant spending.   \n",
       "8                                                                                                                                                                                  The IRS Allows Eco-Terrorists to Crowdsource Harassment of Senators | Frontpage Mag   \n",
       "24                                                                                                                                                                                                                     Alan Kelly resigns as Irish Labour Party leader   \n",
       "24                                                                                                                                                                                                                                                       Fighting Woke   \n",
       "35                                                                                                                                                                                                   Coverage of China’s Covid-Zero Strategy and Manufacturing Consent   \n",
       "35                                                                                                                                                                                                                                                        ISO Opinions   \n",
       "65                                                                                                                      Rick Scott (FL) the richest senator, released his 11 point plan. First words are “Our kids will say the pledge of allegiance, salute the Flag”   \n",
       "65                                                                                                                                                                                                  Sen. Ron Johnson to Newsmax: Evidence Against Biden Keeps Mounting   \n",
       "78                                                                                                                                                               Russia does not threaten Hungary, lets stay out of the war! Statement of the Hungarian Worker's Party   \n",
       "78                                                                                                                                                                                                                   Opinion | Trump’s Boxes and Clinton’s Sock Drawer   \n",
       "162                                                                                                                                                                                                                                             Unidad by Pablo Neruda   \n",
       "162                                                                                                                                                                                                                                                              Ha!!!   \n",
       "182                                                                                                                                                                          John Oliver Says George W. Bush Should ‘Shut the Fuck Up’ About Russia’s Ukraine Invasion   \n",
       "182                                                                                                                                                                                                                            Conservative patriots in Central Africa   \n",
       "183                                                                                                                                                                                       Question on UN resolution against nazism that the US & Ukraine voted against   \n",
       "183                                                                                                                                                                                                                                              They're a little slow   \n",
       "226                                                                                                                                                                                   Now That The Election is Over, What Do I Want To See Happen To Trump Supporters?   \n",
       "226                                                                                                                                                                                                          What do you think of the former president being indicted?   \n",
       "227  UPS slashed pay for part-time workers by up to $6 per hour, prompting a rapid response from UPS workers nationwide. On February 23, over 500 Teamsters from across Northern and Central California convened at UPS’ San Francisco building to protest the pay cut   \n",
       "227                                                                                                                                                                                                                                      McCarthy destroys CNN (again)   \n",
       "\n",
       "     Topic  \n",
       "8        1  \n",
       "8        1  \n",
       "24       1  \n",
       "24       1  \n",
       "35       1  \n",
       "35       1  \n",
       "65       1  \n",
       "65       1  \n",
       "78       1  \n",
       "78       1  \n",
       "162      1  \n",
       "162      1  \n",
       "182      1  \n",
       "182      1  \n",
       "183      1  \n",
       "183      1  \n",
       "226      1  \n",
       "226      1  \n",
       "227      1  \n",
       "227      1  "
      ]
     },
     "execution_count": 43,
     "metadata": {},
     "output_type": "execute_result"
    }
   ],
   "source": [
    "pd.set_option('display.max_colwidth', None)\n",
    "df[df['Topic']==1][['Title','Topic']].head(20)"
   ]
  },
  {
   "cell_type": "code",
   "execution_count": null,
   "id": "b27371f5-5fa1-4771-99b0-7b1a58e3b91e",
   "metadata": {},
   "outputs": [],
   "source": []
  }
 ],
 "metadata": {
  "kernelspec": {
   "display_name": "new_env",
   "language": "python",
   "name": "new_env"
  },
  "language_info": {
   "codemirror_mode": {
    "name": "ipython",
    "version": 3
   },
   "file_extension": ".py",
   "mimetype": "text/x-python",
   "name": "python",
   "nbconvert_exporter": "python",
   "pygments_lexer": "ipython3",
   "version": "3.9.16"
  }
 },
 "nbformat": 4,
 "nbformat_minor": 5
}
