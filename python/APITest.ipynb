{
 "cells": [
  {
   "cell_type": "code",
   "execution_count": 3,
   "id": "aed1e426-8979-4515-b640-ca939ecda3de",
   "metadata": {},
   "outputs": [
    {
     "name": "stdout",
     "output_type": "stream",
     "text": [
      "Collecting praw\n",
      "  Downloading praw-7.7.0-py3-none-any.whl (189 kB)\n",
      "     -------------------------------------- 189.4/189.4 kB 2.3 MB/s eta 0:00:00\n",
      "Requirement already satisfied: websocket-client>=0.54.0 in d:\\anaconda\\lib\\site-packages (from praw) (0.58.0)\n",
      "Collecting update-checker>=0.18\n",
      "  Downloading update_checker-0.18.0-py3-none-any.whl (7.0 kB)\n",
      "Collecting prawcore<3,>=2.1\n",
      "  Downloading prawcore-2.3.0-py3-none-any.whl (16 kB)\n",
      "Requirement already satisfied: requests<3.0,>=2.6.0 in d:\\anaconda\\lib\\site-packages (from prawcore<3,>=2.1->praw) (2.28.1)\n",
      "Requirement already satisfied: six in d:\\anaconda\\lib\\site-packages (from websocket-client>=0.54.0->praw) (1.16.0)\n",
      "Requirement already satisfied: idna<4,>=2.5 in d:\\anaconda\\lib\\site-packages (from requests<3.0,>=2.6.0->prawcore<3,>=2.1->praw) (3.4)\n",
      "Requirement already satisfied: charset-normalizer<3,>=2 in d:\\anaconda\\lib\\site-packages (from requests<3.0,>=2.6.0->prawcore<3,>=2.1->praw) (2.0.4)\n",
      "Requirement already satisfied: urllib3<1.27,>=1.21.1 in d:\\anaconda\\lib\\site-packages (from requests<3.0,>=2.6.0->prawcore<3,>=2.1->praw) (1.26.14)\n",
      "Requirement already satisfied: certifi>=2017.4.17 in d:\\anaconda\\lib\\site-packages (from requests<3.0,>=2.6.0->prawcore<3,>=2.1->praw) (2023.5.7)\n",
      "Installing collected packages: update-checker, prawcore, praw\n",
      "Successfully installed praw-7.7.0 prawcore-2.3.0 update-checker-0.18.0\n",
      "Note: you may need to restart the kernel to use updated packages.\n"
     ]
    }
   ],
   "source": [
    "%pip install praw"
   ]
  },
  {
   "cell_type": "code",
   "execution_count": 10,
   "id": "4723433e-44f5-489c-ba24-b971656d8443",
   "metadata": {},
   "outputs": [],
   "source": [
    "import praw\n",
    "import pandas as pd\n",
    "\n",
    "def reddit_pull(subreddit, tag):\n",
    "    # Create a Reddit instance\n",
    "    reddit = praw.Reddit(\n",
    "        client_id='7RXgU0jwE9m8yHjy4rPpng',\n",
    "        client_secret='1eiT64G_imzQdjaS357idybjMedozw',\n",
    "        user_agent='Mozilla/5.0 (Windows NT 10.0; Win64; x64) AppleWebKit/537.36 (KHTML, like Gecko) Chrome/114.0.0.0 Safari/537.36',\n",
    "    )\n",
    "\n",
    "    # Choose the subreddit you want to pull posts from\n",
    "    subreddit = reddit.subreddit(subreddit)\n",
    "\n",
    "    # Get the top 1000 posts from the subreddit\n",
    "    new_posts = subreddit.new(limit=1000)\n",
    "    hot_posts = subreddit.hot(limit=1000)\n",
    "\n",
    "    # Create lists to store post information\n",
    "    titles = []\n",
    "    upvotes = []\n",
    "    num_comments = []\n",
    "\n",
    "    # Iterate over the posts and retrieve desired information\n",
    "    for post in new_posts:\n",
    "        titles.append(post.title)\n",
    "        upvotes.append(post.score)\n",
    "        num_comments.append(post.num_comments)\n",
    "    \n",
    "    for post in hot_posts:\n",
    "        titles.append(post.title)\n",
    "        upvotes.append(post.score)\n",
    "        num_comments.append(post.num_comments)\n",
    "        \n",
    "    # Create a dataframe from the lists\n",
    "    data = {\n",
    "        'Title': titles,\n",
    "        'Upvotes': upvotes,\n",
    "        'Number of Comments': num_comments\n",
    "    }\n",
    "    df = pd.DataFrame(data)\n",
    "    df['Political Lean'] = tag\n",
    "    return df"
   ]
  },
  {
   "cell_type": "code",
   "execution_count": 13,
   "id": "9c8bc84f-cd14-4074-a31a-5ccb7161652a",
   "metadata": {},
   "outputs": [],
   "source": [
    "subreddit_list = ['Conservative', 'Libertarian', 'Socialism', 'Progressive', 'Democrats', 'Liberal', 'Republican', 'Democratic Socialism', 'Anarcho Capitalism']\n",
    "tag_list = ['Conservative', 'Conservative', 'Liberal', 'Liberal', 'Liberal', 'Liberal', 'Conservative', 'Liberal', 'Conservative']\n",
    "\n",
    "def new_data(subreddits, tags):\n",
    "    for i in range(len(subreddit_list)):\n",
    "        if i == 0:\n",
    "            try: \n",
    "                df = reddit_pull(subreddit_list[i], tag_list[i])\n",
    "            except:\n",
    "                continue\n",
    "        else: \n",
    "            try:\n",
    "                new_df = reddit_pull(subreddit_list[i], tag_list[i])\n",
    "                df = pd.concat([df, new_df],axis=0)\n",
    "            except:\n",
    "                continue\n",
    "    return df\n"
   ]
  },
  {
   "cell_type": "code",
   "execution_count": 15,
   "id": "e445ab72-2acc-4964-984f-7fd5e760b069",
   "metadata": {},
   "outputs": [],
   "source": [
    "df = new_data(subreddit_list, tag_list)"
   ]
  },
  {
   "cell_type": "code",
   "execution_count": 20,
   "id": "2f05e19d-c1ba-4d59-a687-d3926ff46523",
   "metadata": {},
   "outputs": [],
   "source": [
    "df = df.rename({'Upvotes':'Score','Number of Comments':'Num of Comments'},axis=1)"
   ]
  },
  {
   "cell_type": "code",
   "execution_count": 25,
   "id": "7a3c3a67-fb36-4d4b-88f6-265b97b26ec5",
   "metadata": {},
   "outputs": [],
   "source": [
    "df.drop_duplicates(inplace=True)"
   ]
  },
  {
   "cell_type": "code",
   "execution_count": 27,
   "id": "125bc477-25f6-4e75-b254-b99fc0d48cb1",
   "metadata": {},
   "outputs": [],
   "source": [
    "df.to_csv('../data/6_14_pull.csv', index=False)"
   ]
  },
  {
   "cell_type": "code",
   "execution_count": null,
   "id": "f8c5b521-8702-454f-8889-56af58b25e72",
   "metadata": {},
   "outputs": [],
   "source": []
  }
 ],
 "metadata": {
  "kernelspec": {
   "display_name": "LHL_env",
   "language": "python",
   "name": "lhl_env"
  },
  "language_info": {
   "codemirror_mode": {
    "name": "ipython",
    "version": 3
   },
   "file_extension": ".py",
   "mimetype": "text/x-python",
   "name": "python",
   "nbconvert_exporter": "python",
   "pygments_lexer": "ipython3",
   "version": "3.10.9"
  }
 },
 "nbformat": 4,
 "nbformat_minor": 5
}
