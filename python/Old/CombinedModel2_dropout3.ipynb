{
 "cells": [
  {
   "cell_type": "code",
   "execution_count": 1,
   "id": "67233b73-f1a2-4cab-a395-0acf30fb4ff0",
   "metadata": {},
   "outputs": [
    {
     "name": "stderr",
     "output_type": "stream",
     "text": [
      "[nltk_data] Downloading package wordnet to\n",
      "[nltk_data]     C:\\Users\\Andrew\\AppData\\Roaming\\nltk_data...\n",
      "[nltk_data]   Package wordnet is already up-to-date!\n",
      "[nltk_data] Downloading package averaged_perceptron_tagger to\n",
      "[nltk_data]     C:\\Users\\Andrew\\AppData\\Roaming\\nltk_data...\n",
      "[nltk_data]   Package averaged_perceptron_tagger is already up-to-\n",
      "[nltk_data]       date!\n"
     ]
    }
   ],
   "source": [
    "import pandas as pd\n",
    "import numpy as np\n",
    "import string\n",
    "import nltk\n",
    "nltk.download('wordnet')\n",
    "nltk.download('averaged_perceptron_tagger')\n",
    "\n",
    "df = pd.read_csv(\"../data/fulldata.csv\")\n",
    "df2 = pd.read_csv(\"../data/6_14_pull.csv\")\n",
    "\n",
    "df = pd.concat([df,df2])"
   ]
  },
  {
   "cell_type": "code",
   "execution_count": 2,
   "id": "a16c2532-c2f2-48f7-84f6-7f9e0049ea0b",
   "metadata": {},
   "outputs": [],
   "source": [
    "from Cleaning import lowercase, unpunctuate, tokenize, lemmatize, count_capitalized_words, create_other_var, cleaning_and_prep, stack_vectors"
   ]
  },
  {
   "cell_type": "code",
   "execution_count": 3,
   "id": "bb47f54a-ec57-4308-a10d-62853364b7f4",
   "metadata": {},
   "outputs": [
    {
     "name": "stderr",
     "output_type": "stream",
     "text": [
      "C:\\Users\\Andrew\\Documents\\LHL\\PoliticalNLP\\python\\Cleaning.py:127: SettingWithCopyWarning: \n",
      "A value is trying to be set on a copy of a slice from a DataFrame.\n",
      "Try using .loc[row_indexer,col_indexer] = value instead\n",
      "\n",
      "See the caveats in the documentation: https://pandas.pydata.org/pandas-docs/stable/user_guide/indexing.html#returning-a-view-versus-a-copy\n",
      "  df['Political Lean'] = df['Political Lean'].replace('Liberal',1)\n",
      "C:\\Users\\Andrew\\Documents\\LHL\\PoliticalNLP\\python\\Cleaning.py:128: SettingWithCopyWarning: \n",
      "A value is trying to be set on a copy of a slice from a DataFrame.\n",
      "Try using .loc[row_indexer,col_indexer] = value instead\n",
      "\n",
      "See the caveats in the documentation: https://pandas.pydata.org/pandas-docs/stable/user_guide/indexing.html#returning-a-view-versus-a-copy\n",
      "  df['Political Lean'] = df['Political Lean'].replace('Conservative',0)\n"
     ]
    }
   ],
   "source": [
    "X_train, X_test, y_train, y_test = cleaning_and_prep(df)"
   ]
  },
  {
   "cell_type": "code",
   "execution_count": 4,
   "id": "4c07ff43-bee3-4c11-9e29-29c25764a85d",
   "metadata": {},
   "outputs": [],
   "source": [
    "X_train_vec, X_test_vec, X_train, X_test = stack_vectors(X_train,X_test)"
   ]
  },
  {
   "cell_type": "code",
   "execution_count": 6,
   "id": "83645586-d576-4de0-ae1e-d3897c0b206b",
   "metadata": {},
   "outputs": [
    {
     "name": "stdout",
     "output_type": "stream",
     "text": [
      "Epoch 1/100\n",
      "763/763 [==============================] - 8s 7ms/step - loss: 0.6202 - accuracy: 0.6481 - auc: 0.7128 - val_loss: 0.5812 - val_accuracy: 0.6879 - val_auc: 0.7755\n",
      "Epoch 2/100\n",
      "763/763 [==============================] - 5s 7ms/step - loss: 0.5813 - accuracy: 0.6815 - auc: 0.7589 - val_loss: 0.5576 - val_accuracy: 0.7156 - val_auc: 0.7918\n",
      "Epoch 3/100\n",
      "763/763 [==============================] - 5s 7ms/step - loss: 0.5685 - accuracy: 0.6927 - auc: 0.7714 - val_loss: 0.5558 - val_accuracy: 0.7137 - val_auc: 0.7952\n",
      "Epoch 4/100\n",
      "763/763 [==============================] - 5s 7ms/step - loss: 0.5608 - accuracy: 0.6985 - auc: 0.7781 - val_loss: 0.5495 - val_accuracy: 0.7230 - val_auc: 0.8007\n",
      "Epoch 5/100\n",
      "763/763 [==============================] - 6s 7ms/step - loss: 0.5546 - accuracy: 0.7042 - auc: 0.7841 - val_loss: 0.5479 - val_accuracy: 0.7214 - val_auc: 0.7997\n",
      "Epoch 6/100\n",
      "763/763 [==============================] - 5s 7ms/step - loss: 0.5495 - accuracy: 0.7086 - auc: 0.7888 - val_loss: 0.5427 - val_accuracy: 0.7147 - val_auc: 0.7999\n",
      "Epoch 7/100\n",
      "763/763 [==============================] - 5s 7ms/step - loss: 0.5463 - accuracy: 0.7099 - auc: 0.7915 - val_loss: 0.5340 - val_accuracy: 0.7293 - val_auc: 0.8090\n",
      "Epoch 8/100\n",
      "763/763 [==============================] - 5s 7ms/step - loss: 0.5401 - accuracy: 0.7148 - auc: 0.7972 - val_loss: 0.5302 - val_accuracy: 0.7302 - val_auc: 0.8117\n",
      "Epoch 9/100\n",
      "763/763 [==============================] - 5s 7ms/step - loss: 0.5390 - accuracy: 0.7158 - auc: 0.7992 - val_loss: 0.5338 - val_accuracy: 0.7242 - val_auc: 0.8104\n",
      "Epoch 10/100\n",
      "763/763 [==============================] - 5s 7ms/step - loss: 0.5363 - accuracy: 0.7170 - auc: 0.8011 - val_loss: 0.5279 - val_accuracy: 0.7288 - val_auc: 0.8157\n",
      "Epoch 11/100\n",
      "763/763 [==============================] - 5s 7ms/step - loss: 0.5313 - accuracy: 0.7231 - auc: 0.8050 - val_loss: 0.5198 - val_accuracy: 0.7349 - val_auc: 0.8210\n",
      "Epoch 12/100\n",
      "763/763 [==============================] - 5s 7ms/step - loss: 0.5278 - accuracy: 0.7233 - auc: 0.8081 - val_loss: 0.5213 - val_accuracy: 0.7293 - val_auc: 0.8184\n",
      "Epoch 13/100\n",
      "763/763 [==============================] - 5s 7ms/step - loss: 0.5255 - accuracy: 0.7253 - auc: 0.8111 - val_loss: 0.5171 - val_accuracy: 0.7316 - val_auc: 0.8220\n",
      "Epoch 14/100\n",
      "763/763 [==============================] - 5s 7ms/step - loss: 0.5215 - accuracy: 0.7315 - auc: 0.8139 - val_loss: 0.5154 - val_accuracy: 0.7360 - val_auc: 0.8238\n",
      "Epoch 15/100\n",
      "763/763 [==============================] - 6s 7ms/step - loss: 0.5212 - accuracy: 0.7316 - auc: 0.8154 - val_loss: 0.5134 - val_accuracy: 0.7369 - val_auc: 0.8226\n",
      "Epoch 16/100\n",
      "763/763 [==============================] - 5s 7ms/step - loss: 0.5173 - accuracy: 0.7315 - auc: 0.8175 - val_loss: 0.5131 - val_accuracy: 0.7441 - val_auc: 0.8257\n",
      "Epoch 17/100\n",
      "763/763 [==============================] - 5s 7ms/step - loss: 0.5137 - accuracy: 0.7350 - auc: 0.8208 - val_loss: 0.5064 - val_accuracy: 0.7355 - val_auc: 0.8279\n",
      "Epoch 18/100\n",
      "763/763 [==============================] - 6s 8ms/step - loss: 0.5126 - accuracy: 0.7396 - auc: 0.8217 - val_loss: 0.5151 - val_accuracy: 0.7358 - val_auc: 0.8212\n",
      "Epoch 19/100\n",
      "763/763 [==============================] - 6s 8ms/step - loss: 0.5097 - accuracy: 0.7389 - auc: 0.8235 - val_loss: 0.5022 - val_accuracy: 0.7511 - val_auc: 0.8341\n",
      "Epoch 20/100\n",
      "763/763 [==============================] - 5s 7ms/step - loss: 0.5114 - accuracy: 0.7420 - auc: 0.8240 - val_loss: 0.5062 - val_accuracy: 0.7414 - val_auc: 0.8295\n",
      "Epoch 21/100\n",
      "763/763 [==============================] - 5s 7ms/step - loss: 0.5048 - accuracy: 0.7403 - auc: 0.8279 - val_loss: 0.5019 - val_accuracy: 0.7448 - val_auc: 0.8328\n",
      "Epoch 22/100\n",
      "763/763 [==============================] - 5s 7ms/step - loss: 0.5052 - accuracy: 0.7437 - auc: 0.8287 - val_loss: 0.5015 - val_accuracy: 0.7404 - val_auc: 0.8313\n",
      "Epoch 23/100\n",
      "763/763 [==============================] - 5s 7ms/step - loss: 0.5022 - accuracy: 0.7436 - auc: 0.8298 - val_loss: 0.4965 - val_accuracy: 0.7460 - val_auc: 0.8362\n",
      "Epoch 24/100\n",
      "763/763 [==============================] - 5s 7ms/step - loss: 0.5000 - accuracy: 0.7464 - auc: 0.8315 - val_loss: 0.4992 - val_accuracy: 0.7448 - val_auc: 0.8357\n",
      "Epoch 25/100\n",
      "763/763 [==============================] - 5s 7ms/step - loss: 0.4986 - accuracy: 0.7461 - auc: 0.8330 - val_loss: 0.4930 - val_accuracy: 0.7437 - val_auc: 0.8387\n",
      "Epoch 26/100\n",
      "763/763 [==============================] - 5s 7ms/step - loss: 0.4974 - accuracy: 0.7466 - auc: 0.8341 - val_loss: 0.4943 - val_accuracy: 0.7462 - val_auc: 0.8370\n",
      "Epoch 27/100\n",
      "763/763 [==============================] - 5s 7ms/step - loss: 0.4939 - accuracy: 0.7497 - auc: 0.8360 - val_loss: 0.4962 - val_accuracy: 0.7411 - val_auc: 0.8358\n",
      "Epoch 28/100\n",
      "763/763 [==============================] - 6s 8ms/step - loss: 0.4939 - accuracy: 0.7493 - auc: 0.8363 - val_loss: 0.4938 - val_accuracy: 0.7509 - val_auc: 0.8380\n",
      "Epoch 29/100\n",
      "763/763 [==============================] - 6s 7ms/step - loss: 0.4916 - accuracy: 0.7497 - auc: 0.8376 - val_loss: 0.4931 - val_accuracy: 0.7469 - val_auc: 0.8389\n",
      "135/135 [==============================] - 0s 2ms/step\n",
      "ROC-AUC: 0.8340683401010893\n",
      "Accuracy: 0.7511028558161134\n"
     ]
    },
    {
     "data": {
      "text/plain": [
       "<Axes: >"
      ]
     },
     "execution_count": 6,
     "metadata": {},
     "output_type": "execute_result"
    },
    {
     "data": {
      "image/png": "[encoded data removed]",
      "text/plain": [
       "<Figure size 640x480 with 2 Axes>"
      ]
     },
     "metadata": {},
     "output_type": "display_data"
    }
   ],
   "source": [
    "from keras.models import Model\n",
    "from keras.layers import Dense, LSTM, Dropout, Input, concatenate\n",
    "from keras.callbacks import EarlyStopping\n",
    "from sklearn.metrics import roc_auc_score, accuracy_score\n",
    "\n",
    "dropout=0.3\n",
    "lstm_units = 256\n",
    "lstm_units2 = 128\n",
    "dense_units = 64\n",
    "\n",
    "\n",
    "# First branch for the LSTM\n",
    "lstm_input = Input(shape=(1, 100))\n",
    "lstm_output = LSTM(units=lstm_units, return_sequences=True, activation='relu')(lstm_input)\n",
    "lstm_output = Dropout(dropout)(lstm_output)\n",
    "lstm_output = LSTM(units=lstm_units2, activation='relu')(lstm_output)\n",
    "lstm_output = Dropout(dropout)(lstm_output)\n",
    "\n",
    "# Second branch for the dense layers\n",
    "dense_input = Input(shape=(5,))\n",
    "dense_output = Dense(units=dense_units, activation='relu')(dense_input)\n",
    "dense_output = Dropout(dropout)(dense_output)\n",
    "\n",
    "# Concatenate the outputs from both branches\n",
    "combined = concatenate([lstm_output, dense_output])\n",
    "\n",
    "combined = Dense(units = dense_units, activation='relu')(combined)\n",
    "\n",
    "# Final output layer\n",
    "output = Dense(units=1, activation='sigmoid')(combined)\n",
    "\n",
    "# Create the model\n",
    "model = Model(inputs=[lstm_input, dense_input], outputs=output)\n",
    "model.compile(optimizer='adam', loss='binary_crossentropy', metrics=['accuracy', 'AUC'])\n",
    "\n",
    "# Define the early stopping callback\n",
    "early_stopping = EarlyStopping(monitor='val_accuracy', patience=10, restore_best_weights=True)\n",
    "\n",
    "# Train the model with both LSTM and dense input\n",
    "model.fit([X_train_vec, X_train], y_train, epochs=100, batch_size=32,\n",
    "          validation_data=([X_test_vec, X_test], y_test),\n",
    "          callbacks=[early_stopping])\n",
    "\n",
    "# Predict and evaluate\n",
    "y_pred = model.predict([X_test_vec, X_test])\n",
    "roc_auc = roc_auc_score(y_test, y_pred)\n",
    "\n",
    "y_pred_class = (y_pred > .5).astype(int)\n",
    "accuracy = accuracy_score(y_test,y_pred_class)\n",
    "print('ROC-AUC:', roc_auc)\n",
    "print('Accuracy:', accuracy)\n",
    "\n",
    "from sklearn.metrics import confusion_matrix\n",
    "import seaborn as sns\n",
    "\n",
    "matrix = confusion_matrix(y_test, y_pred_class)\n",
    "\n",
    "sns.heatmap(matrix/np.sum(matrix), annot=True, fmt='.2%', cmap='Blues')"
   ]
  },
  {
   "cell_type": "code",
   "execution_count": null,
   "id": "59dc53ff-9c21-466a-8e9f-f10b3833b0ee",
   "metadata": {},
   "outputs": [],
   "source": [
    "#model containing character length, number of capital words, upvotes and # of comments\n",
    "#Model 2 adds POS tagging and standard scaling of variables\n",
    "#Only left in proper nouns as others decreased performance"
   ]
  },
  {
   "cell_type": "code",
   "execution_count": null,
   "id": "77a3b55f-1112-4739-b2cf-337ce0205e57",
   "metadata": {},
   "outputs": [],
   "source": [
    "import numpy as np\n",
    "import pandas as pd\n",
    "from imblearn.over_sampling import RandomOverSampler\n",
    "from sklearn.utils import shuffle\n",
    "from sklearn.model_selection import train_test_split\n",
    "from gensim.models import Word2Vec\n",
    "\n",
    "#create extra variables for later\n",
    "df_other_var = create_other_var(df)\n",
    "\n",
    "#Create simple dataframe with only text and predictor\n",
    "df = df[['Title','Political Lean']] \n",
    "\n",
    "#dummy code predictor\n",
    "df['Political Lean'] = df['Political Lean'].replace('Liberal',1)\n",
    "df['Political Lean'] = df['Political Lean'].replace('Conservative',0)\n",
    "\n",
    "df = df.rename({'Political Lean':'y'},axis=1) #replace column name for simplicity\n",
    "\n",
    "df = pd.concat([df,df_other_var],axis=1)\n",
    "\n",
    "df = df[df['Length']>=15]\n",
    "\n",
    "#Split into X & y\n",
    "X = df.drop(['y'],axis=1)\n",
    "y = df['y']\n",
    "\n",
    "#oversample minority class\n",
    "oversample = RandomOverSampler(sampling_strategy='minority', random_state=13)\n",
    "X, y = oversample.fit_resample(X, y)"
   ]
  },
  {
   "cell_type": "code",
   "execution_count": null,
   "id": "eed9495c-923f-474f-9f74-dd19b9ac4074",
   "metadata": {},
   "outputs": [],
   "source": [
    "loss_df = X_test.merge(X[['Title']],left_index=True,right_index=True,how='left')\n",
    "loss_df = loss_df.merge(y,left_index=True,right_index=True,how='left')\n",
    "predictions = pd.DataFrame(y_pred, columns = ['prob'])\n",
    "loss_df = pd.concat([loss_df,predictions.set_index(loss_df.index)],axis=1)\n",
    "loss_df['prob'] = abs(loss_df['prob']-.5)"
   ]
  },
  {
   "cell_type": "code",
   "execution_count": null,
   "id": "83928af4-ce6f-427f-89a2-874bc4d50d9b",
   "metadata": {},
   "outputs": [],
   "source": [
    "loss_df.sort_values(by='prob').head(50)"
   ]
  },
  {
   "cell_type": "code",
   "execution_count": null,
   "id": "b4ea316a-dd0e-403b-941b-a187813ce181",
   "metadata": {},
   "outputs": [],
   "source": []
  }
 ],
 "metadata": {
  "kernelspec": {
   "display_name": "LHL_env",
   "language": "python",
   "name": "lhl_env"
  },
  "language_info": {
   "codemirror_mode": {
    "name": "ipython",
    "version": 3
   },
   "file_extension": ".py",
   "mimetype": "text/x-python",
   "name": "python",
   "nbconvert_exporter": "python",
   "pygments_lexer": "ipython3",
   "version": "3.10.9"
  }
 },
 "nbformat": 4,
 "nbformat_minor": 5
}
