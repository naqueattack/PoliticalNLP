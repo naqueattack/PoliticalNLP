{
 "cells": [
  {
   "cell_type": "code",
   "execution_count": 1,
   "id": "67233b73-f1a2-4cab-a395-0acf30fb4ff0",
   "metadata": {},
   "outputs": [
    {
     "name": "stderr",
     "output_type": "stream",
     "text": [
      "[nltk_data] Downloading package wordnet to\n",
      "[nltk_data]     C:\\Users\\Andrew\\AppData\\Roaming\\nltk_data...\n",
      "[nltk_data]   Package wordnet is already up-to-date!\n",
      "[nltk_data] Downloading package averaged_perceptron_tagger to\n",
      "[nltk_data]     C:\\Users\\Andrew\\AppData\\Roaming\\nltk_data...\n",
      "[nltk_data]   Package averaged_perceptron_tagger is already up-to-\n",
      "[nltk_data]       date!\n"
     ]
    }
   ],
   "source": [
    "import pandas as pd\n",
    "import numpy as np\n",
    "import string\n",
    "import nltk\n",
    "nltk.download('wordnet')\n",
    "nltk.download('averaged_perceptron_tagger')\n",
    "\n",
    "df = pd.read_csv(\"../data/fulldata.csv\")"
   ]
  },
  {
   "cell_type": "code",
   "execution_count": 2,
   "id": "a16c2532-c2f2-48f7-84f6-7f9e0049ea0b",
   "metadata": {},
   "outputs": [],
   "source": [
    "from Cleaning import lowercase, unpunctuate, tokenize, lemmatize, count_capitalized_words, create_other_var, cleaning_and_prep, stack_vectors"
   ]
  },
  {
   "cell_type": "code",
   "execution_count": 3,
   "id": "bb47f54a-ec57-4308-a10d-62853364b7f4",
   "metadata": {},
   "outputs": [
    {
     "name": "stderr",
     "output_type": "stream",
     "text": [
      "C:\\Users\\Andrew\\Documents\\LHL\\PoliticalNLP\\python\\Cleaning.py:116: SettingWithCopyWarning: \n",
      "A value is trying to be set on a copy of a slice from a DataFrame.\n",
      "Try using .loc[row_indexer,col_indexer] = value instead\n",
      "\n",
      "See the caveats in the documentation: https://pandas.pydata.org/pandas-docs/stable/user_guide/indexing.html#returning-a-view-versus-a-copy\n",
      "  df['Political Lean'] = df['Political Lean'].replace('Liberal',1)\n",
      "C:\\Users\\Andrew\\Documents\\LHL\\PoliticalNLP\\python\\Cleaning.py:117: SettingWithCopyWarning: \n",
      "A value is trying to be set on a copy of a slice from a DataFrame.\n",
      "Try using .loc[row_indexer,col_indexer] = value instead\n",
      "\n",
      "See the caveats in the documentation: https://pandas.pydata.org/pandas-docs/stable/user_guide/indexing.html#returning-a-view-versus-a-copy\n",
      "  df['Political Lean'] = df['Political Lean'].replace('Conservative',0)\n"
     ]
    }
   ],
   "source": [
    "X_train, X_test, y_train, y_test = cleaning_and_prep(df)"
   ]
  },
  {
   "cell_type": "code",
   "execution_count": 4,
   "id": "4c07ff43-bee3-4c11-9e29-29c25764a85d",
   "metadata": {},
   "outputs": [],
   "source": [
    "X_train_vec, X_test_vec, X_train, X_test = stack_vectors(X_train,X_test)"
   ]
  },
  {
   "cell_type": "code",
   "execution_count": 5,
   "id": "83645586-d576-4de0-ae1e-d3897c0b206b",
   "metadata": {},
   "outputs": [
    {
     "name": "stdout",
     "output_type": "stream",
     "text": [
      "Epoch 1/100\n",
      "433/433 [==============================] - 15s 24ms/step - loss: 0.6437 - accuracy: 0.6068 - auc: 0.6600 - val_loss: 0.6070 - val_accuracy: 0.6667 - val_auc: 0.7322\n",
      "Epoch 2/100\n",
      "433/433 [==============================] - 8s 19ms/step - loss: 0.6098 - accuracy: 0.6616 - auc: 0.7285 - val_loss: 0.5802 - val_accuracy: 0.6879 - val_auc: 0.7671\n",
      "Epoch 3/100\n",
      "433/433 [==============================] - 8s 18ms/step - loss: 0.5871 - accuracy: 0.6782 - auc: 0.7546 - val_loss: 0.5609 - val_accuracy: 0.7035 - val_auc: 0.7841\n",
      "Epoch 4/100\n",
      "433/433 [==============================] - 7s 17ms/step - loss: 0.5740 - accuracy: 0.6876 - auc: 0.7684 - val_loss: 0.5464 - val_accuracy: 0.7129 - val_auc: 0.7929\n",
      "Epoch 5/100\n",
      "433/433 [==============================] - 7s 17ms/step - loss: 0.5636 - accuracy: 0.6910 - auc: 0.7752 - val_loss: 0.5492 - val_accuracy: 0.7092 - val_auc: 0.7898\n",
      "Epoch 6/100\n",
      "433/433 [==============================] - 8s 17ms/step - loss: 0.5552 - accuracy: 0.7021 - auc: 0.7827 - val_loss: 0.5498 - val_accuracy: 0.6949 - val_auc: 0.7943\n",
      "Epoch 7/100\n",
      "433/433 [==============================] - 8s 17ms/step - loss: 0.5522 - accuracy: 0.7080 - auc: 0.7876 - val_loss: 0.5427 - val_accuracy: 0.7170 - val_auc: 0.7985\n",
      "Epoch 8/100\n",
      "433/433 [==============================] - 8s 18ms/step - loss: 0.5525 - accuracy: 0.7031 - auc: 0.7871 - val_loss: 0.5397 - val_accuracy: 0.7157 - val_auc: 0.8023\n",
      "Epoch 9/100\n",
      "433/433 [==============================] - 8s 18ms/step - loss: 0.5508 - accuracy: 0.7096 - auc: 0.7898 - val_loss: 0.5354 - val_accuracy: 0.7190 - val_auc: 0.8038\n",
      "Epoch 10/100\n",
      "433/433 [==============================] - 8s 18ms/step - loss: 0.5476 - accuracy: 0.7068 - auc: 0.7918 - val_loss: 0.5359 - val_accuracy: 0.7162 - val_auc: 0.8048\n",
      "Epoch 11/100\n",
      "433/433 [==============================] - 8s 18ms/step - loss: 0.5430 - accuracy: 0.7150 - auc: 0.7965 - val_loss: 0.5401 - val_accuracy: 0.7186 - val_auc: 0.8030\n",
      "Epoch 12/100\n",
      "433/433 [==============================] - 8s 18ms/step - loss: 0.5431 - accuracy: 0.7116 - auc: 0.7972 - val_loss: 0.5436 - val_accuracy: 0.7121 - val_auc: 0.8055\n",
      "Epoch 13/100\n",
      "433/433 [==============================] - 8s 18ms/step - loss: 0.5417 - accuracy: 0.7091 - auc: 0.7961 - val_loss: 0.5340 - val_accuracy: 0.7129 - val_auc: 0.8042\n",
      "Epoch 14/100\n",
      "433/433 [==============================] - 8s 18ms/step - loss: 0.5403 - accuracy: 0.7145 - auc: 0.7981 - val_loss: 0.5319 - val_accuracy: 0.7272 - val_auc: 0.8093\n",
      "Epoch 15/100\n",
      "433/433 [==============================] - 7s 17ms/step - loss: 0.5383 - accuracy: 0.7159 - auc: 0.8015 - val_loss: 0.5355 - val_accuracy: 0.7215 - val_auc: 0.8053\n",
      "Epoch 16/100\n",
      "433/433 [==============================] - 8s 19ms/step - loss: 0.5378 - accuracy: 0.7193 - auc: 0.8014 - val_loss: 0.5326 - val_accuracy: 0.7252 - val_auc: 0.8059\n",
      "Epoch 17/100\n",
      "433/433 [==============================] - 7s 17ms/step - loss: 0.5355 - accuracy: 0.7152 - auc: 0.8023 - val_loss: 0.5318 - val_accuracy: 0.7125 - val_auc: 0.8077\n",
      "Epoch 18/100\n",
      "433/433 [==============================] - 7s 17ms/step - loss: 0.5359 - accuracy: 0.7207 - auc: 0.8031 - val_loss: 0.5438 - val_accuracy: 0.7035 - val_auc: 0.8016\n",
      "Epoch 19/100\n",
      "433/433 [==============================] - 7s 17ms/step - loss: 0.5305 - accuracy: 0.7193 - auc: 0.8069 - val_loss: 0.5256 - val_accuracy: 0.7235 - val_auc: 0.8105\n",
      "Epoch 20/100\n",
      "433/433 [==============================] - 7s 17ms/step - loss: 0.5356 - accuracy: 0.7179 - auc: 0.8034 - val_loss: 0.5252 - val_accuracy: 0.7194 - val_auc: 0.8122\n",
      "Epoch 21/100\n",
      "433/433 [==============================] - 7s 17ms/step - loss: 0.5306 - accuracy: 0.7184 - auc: 0.8067 - val_loss: 0.5248 - val_accuracy: 0.7239 - val_auc: 0.8118\n",
      "Epoch 22/100\n",
      "433/433 [==============================] - 7s 17ms/step - loss: 0.5316 - accuracy: 0.7236 - auc: 0.8064 - val_loss: 0.5229 - val_accuracy: 0.7276 - val_auc: 0.8116\n",
      "Epoch 23/100\n",
      "433/433 [==============================] - 7s 17ms/step - loss: 0.5275 - accuracy: 0.7199 - auc: 0.8085 - val_loss: 0.5225 - val_accuracy: 0.7235 - val_auc: 0.8135\n",
      "Epoch 24/100\n",
      "433/433 [==============================] - 7s 17ms/step - loss: 0.5299 - accuracy: 0.7206 - auc: 0.8066 - val_loss: 0.5245 - val_accuracy: 0.7247 - val_auc: 0.8114\n",
      "Epoch 25/100\n",
      "433/433 [==============================] - 8s 18ms/step - loss: 0.5322 - accuracy: 0.7196 - auc: 0.8058 - val_loss: 0.5260 - val_accuracy: 0.7321 - val_auc: 0.8105\n",
      "Epoch 26/100\n",
      "433/433 [==============================] - 7s 17ms/step - loss: 0.5250 - accuracy: 0.7228 - auc: 0.8112 - val_loss: 0.5175 - val_accuracy: 0.7247 - val_auc: 0.8151\n",
      "Epoch 27/100\n",
      "433/433 [==============================] - 7s 17ms/step - loss: 0.5285 - accuracy: 0.7184 - auc: 0.8070 - val_loss: 0.5200 - val_accuracy: 0.7272 - val_auc: 0.8153\n",
      "Epoch 28/100\n",
      "433/433 [==============================] - 7s 17ms/step - loss: 0.5253 - accuracy: 0.7225 - auc: 0.8098 - val_loss: 0.5164 - val_accuracy: 0.7202 - val_auc: 0.8163\n",
      "Epoch 29/100\n",
      "433/433 [==============================] - 7s 17ms/step - loss: 0.5245 - accuracy: 0.7265 - auc: 0.8116 - val_loss: 0.5172 - val_accuracy: 0.7333 - val_auc: 0.8193\n",
      "Epoch 30/100\n",
      "433/433 [==============================] - 8s 18ms/step - loss: 0.5231 - accuracy: 0.7241 - auc: 0.8124 - val_loss: 0.5166 - val_accuracy: 0.7243 - val_auc: 0.8178\n",
      "Epoch 31/100\n",
      "433/433 [==============================] - 8s 18ms/step - loss: 0.5247 - accuracy: 0.7272 - auc: 0.8115 - val_loss: 0.5154 - val_accuracy: 0.7284 - val_auc: 0.8205\n",
      "Epoch 32/100\n",
      "433/433 [==============================] - 8s 19ms/step - loss: 0.5237 - accuracy: 0.7282 - auc: 0.8127 - val_loss: 0.5203 - val_accuracy: 0.7292 - val_auc: 0.8148\n",
      "Epoch 33/100\n",
      "433/433 [==============================] - 8s 18ms/step - loss: 0.5211 - accuracy: 0.7278 - auc: 0.8142 - val_loss: 0.5170 - val_accuracy: 0.7342 - val_auc: 0.8174\n",
      "Epoch 34/100\n",
      "433/433 [==============================] - 8s 18ms/step - loss: 0.5219 - accuracy: 0.7240 - auc: 0.8122 - val_loss: 0.5176 - val_accuracy: 0.7198 - val_auc: 0.8175\n",
      "Epoch 35/100\n",
      "433/433 [==============================] - 7s 17ms/step - loss: 0.5227 - accuracy: 0.7267 - auc: 0.8128 - val_loss: 0.5205 - val_accuracy: 0.7288 - val_auc: 0.8194\n",
      "Epoch 36/100\n",
      "433/433 [==============================] - 8s 18ms/step - loss: 0.5200 - accuracy: 0.7272 - auc: 0.8151 - val_loss: 0.5143 - val_accuracy: 0.7301 - val_auc: 0.8189\n",
      "Epoch 37/100\n",
      "433/433 [==============================] - 9s 20ms/step - loss: 0.5214 - accuracy: 0.7298 - auc: 0.8145 - val_loss: 0.5130 - val_accuracy: 0.7305 - val_auc: 0.8211\n",
      "Epoch 38/100\n",
      "433/433 [==============================] - 9s 22ms/step - loss: 0.5197 - accuracy: 0.7301 - auc: 0.8175 - val_loss: 0.5163 - val_accuracy: 0.7260 - val_auc: 0.8188\n",
      "Epoch 39/100\n",
      "433/433 [==============================] - 9s 20ms/step - loss: 0.5182 - accuracy: 0.7280 - auc: 0.8165 - val_loss: 0.5127 - val_accuracy: 0.7297 - val_auc: 0.8225\n",
      "Epoch 40/100\n",
      "433/433 [==============================] - 11s 24ms/step - loss: 0.5178 - accuracy: 0.7295 - auc: 0.8163 - val_loss: 0.5187 - val_accuracy: 0.7182 - val_auc: 0.8160\n",
      "Epoch 41/100\n",
      "433/433 [==============================] - 9s 22ms/step - loss: 0.5193 - accuracy: 0.7248 - auc: 0.8140 - val_loss: 0.5136 - val_accuracy: 0.7260 - val_auc: 0.8189\n",
      "Epoch 42/100\n",
      "433/433 [==============================] - 9s 20ms/step - loss: 0.5175 - accuracy: 0.7299 - auc: 0.8169 - val_loss: 0.5220 - val_accuracy: 0.7247 - val_auc: 0.8169\n",
      "Epoch 43/100\n",
      "433/433 [==============================] - 12s 27ms/step - loss: 0.5191 - accuracy: 0.7267 - auc: 0.8148 - val_loss: 0.5157 - val_accuracy: 0.7276 - val_auc: 0.8175\n",
      "77/77 [==============================] - 1s 6ms/step\n",
      "ROC-AUC: 0.8173935212074332\n"
     ]
    },
    {
     "data": {
      "text/plain": [
       "<Axes: >"
      ]
     },
     "execution_count": 5,
     "metadata": {},
     "output_type": "execute_result"
    },
    {
     "data": {
      "image/png": "[encoded data removed]",
      "text/plain": [
       "<Figure size 640x480 with 2 Axes>"
      ]
     },
     "metadata": {},
     "output_type": "display_data"
    }
   ],
   "source": [
    "from keras.models import Model\n",
    "from keras.layers import Dense, LSTM, Dropout, Input, concatenate\n",
    "from keras.callbacks import EarlyStopping\n",
    "from sklearn.metrics import roc_auc_score, accuracy_score\n",
    "\n",
    "# First branch for the LSTM\n",
    "lstm_input = Input(shape=(1, 100))\n",
    "lstm_output = LSTM(units=256, return_sequences=True, activation='relu')(lstm_input)\n",
    "lstm_output = Dropout(0.2)(lstm_output)\n",
    "lstm_output = LSTM(units=256, return_sequences=True, activation='relu')(lstm_output)\n",
    "lstm_output = Dropout(0.2)(lstm_output)\n",
    "lstm_output = LSTM(units=128, return_sequences=True, activation='relu')(lstm_output)\n",
    "lstm_output = Dropout(0.2)(lstm_output)\n",
    "lstm_output = LSTM(units=64, activation='relu')(lstm_output)\n",
    "lstm_output = Dropout(0.2)(lstm_output)\n",
    "\n",
    "# Second branch for the dense layers\n",
    "dense_input = Input(shape=(5,))\n",
    "dense_output = Dense(units=64, activation='relu')(dense_input)\n",
    "dense_output = Dropout(0.2)(dense_output)\n",
    "dense_output = Dense(units=32, activation='relu')(dense_output)\n",
    "dense_output = Dropout(0.2)(dense_output)\n",
    "\n",
    "# Concatenate the outputs from both branches\n",
    "combined = concatenate([lstm_output, dense_output])\n",
    "\n",
    "combined = Dense(units = 64, activation='relu')(combined)\n",
    "\n",
    "# Final output layer\n",
    "output = Dense(units=1, activation='sigmoid')(combined)\n",
    "\n",
    "# Create the model\n",
    "model = Model(inputs=[lstm_input, dense_input], outputs=output)\n",
    "model.compile(optimizer='adam', loss='binary_crossentropy', metrics=['accuracy', 'AUC'])\n",
    "\n",
    "# Define the early stopping callback\n",
    "early_stopping = EarlyStopping(monitor='val_accuracy', patience=10, restore_best_weights=True)\n",
    "\n",
    "# Train the model with both LSTM and dense input\n",
    "model.fit([X_train_vec, X_train], y_train, epochs=100, batch_size=32,\n",
    "          validation_data=([X_test_vec, X_test], y_test),\n",
    "          callbacks=[early_stopping])\n",
    "\n",
    "# Predict and evaluate\n",
    "y_pred = model.predict([X_test_vec, X_test])\n",
    "roc_auc = roc_auc_score(y_test, y_pred)\n",
    "accuracy = accuracy_score(y_test,y_pred)\n",
    "print('ROC-AUC:', roc_auc)\n",
    "print('Accuracy:', accuracy)\n",
    "\n",
    "from sklearn.metrics import confusion_matrix\n",
    "import seaborn as sns\n",
    "y_pred_class = (y_pred > .5).astype(int)\n",
    "matrix = confusion_matrix(y_test, y_pred_class)\n",
    "\n",
    "sns.heatmap(matrix/np.sum(matrix), annot=True, fmt='.2%', cmap='Blues')"
   ]
  },
  {
   "cell_type": "code",
   "execution_count": 6,
   "id": "59dc53ff-9c21-466a-8e9f-f10b3833b0ee",
   "metadata": {},
   "outputs": [],
   "source": [
    "#model containing character length, number of capital words, upvotes and # of comments\n",
    "#Model 2 adds POS tagging and standard scaling of variables\n",
    "#Only left in proper nouns as others decreased performance"
   ]
  },
  {
   "cell_type": "code",
   "execution_count": 7,
   "id": "77a3b55f-1112-4739-b2cf-337ce0205e57",
   "metadata": {},
   "outputs": [],
   "source": [
    "import numpy as np\n",
    "import pandas as pd\n",
    "from imblearn.over_sampling import RandomOverSampler\n",
    "from sklearn.utils import shuffle\n",
    "from sklearn.model_selection import train_test_split\n",
    "from gensim.models import Word2Vec\n",
    "\n",
    "#create extra variables for later\n",
    "df_other_var = create_other_var(df)\n",
    "\n",
    "#Create simple dataframe with only text and predictor\n",
    "df = df[['Title','Political Lean']] \n",
    "\n",
    "#dummy code predictor\n",
    "df['Political Lean'] = df['Political Lean'].replace('Liberal',1)\n",
    "df['Political Lean'] = df['Political Lean'].replace('Conservative',0)\n",
    "\n",
    "df = df.rename({'Political Lean':'y'},axis=1) #replace column name for simplicity\n",
    "\n",
    "df = pd.concat([df,df_other_var],axis=1)\n",
    "\n",
    "df = df[df['Length']>=15]\n",
    "\n",
    "#Split into X & y\n",
    "X = df.drop(['y'],axis=1)\n",
    "y = df['y']\n",
    "\n",
    "#oversample minority class\n",
    "oversample = RandomOverSampler(sampling_strategy='minority', random_state=13)\n",
    "X, y = oversample.fit_resample(X, y)"
   ]
  },
  {
   "cell_type": "code",
   "execution_count": 8,
   "id": "eed9495c-923f-474f-9f74-dd19b9ac4074",
   "metadata": {},
   "outputs": [
    {
     "ename": "AttributeError",
     "evalue": "'numpy.ndarray' object has no attribute 'merge'",
     "output_type": "error",
     "traceback": [
      "\u001b[1;31m---------------------------------------------------------------------------\u001b[0m",
      "\u001b[1;31mAttributeError\u001b[0m                            Traceback (most recent call last)",
      "Cell \u001b[1;32mIn[8], line 1\u001b[0m\n\u001b[1;32m----> 1\u001b[0m loss_df \u001b[38;5;241m=\u001b[39m \u001b[43mX_test\u001b[49m\u001b[38;5;241;43m.\u001b[39;49m\u001b[43mmerge\u001b[49m(X[[\u001b[38;5;124m'\u001b[39m\u001b[38;5;124mTitle\u001b[39m\u001b[38;5;124m'\u001b[39m]],left_index\u001b[38;5;241m=\u001b[39m\u001b[38;5;28;01mTrue\u001b[39;00m,right_index\u001b[38;5;241m=\u001b[39m\u001b[38;5;28;01mTrue\u001b[39;00m,how\u001b[38;5;241m=\u001b[39m\u001b[38;5;124m'\u001b[39m\u001b[38;5;124mleft\u001b[39m\u001b[38;5;124m'\u001b[39m)\n\u001b[0;32m      2\u001b[0m loss_df \u001b[38;5;241m=\u001b[39m loss_df\u001b[38;5;241m.\u001b[39mmerge(y,left_index\u001b[38;5;241m=\u001b[39m\u001b[38;5;28;01mTrue\u001b[39;00m,right_index\u001b[38;5;241m=\u001b[39m\u001b[38;5;28;01mTrue\u001b[39;00m,how\u001b[38;5;241m=\u001b[39m\u001b[38;5;124m'\u001b[39m\u001b[38;5;124mleft\u001b[39m\u001b[38;5;124m'\u001b[39m)\n\u001b[0;32m      3\u001b[0m predictions \u001b[38;5;241m=\u001b[39m pd\u001b[38;5;241m.\u001b[39mDataFrame(y_pred, columns \u001b[38;5;241m=\u001b[39m [\u001b[38;5;124m'\u001b[39m\u001b[38;5;124mprob\u001b[39m\u001b[38;5;124m'\u001b[39m])\n",
      "\u001b[1;31mAttributeError\u001b[0m: 'numpy.ndarray' object has no attribute 'merge'"
     ]
    }
   ],
   "source": [
    "loss_df = X_test.merge(X[['Title']],left_index=True,right_index=True,how='left')\n",
    "loss_df = loss_df.merge(y,left_index=True,right_index=True,how='left')\n",
    "predictions = pd.DataFrame(y_pred, columns = ['prob'])\n",
    "loss_df = pd.concat([loss_df,predictions.set_index(loss_df.index)],axis=1)\n",
    "loss_df['prob'] = abs(loss_df['prob']-.5)"
   ]
  },
  {
   "cell_type": "code",
   "execution_count": null,
   "id": "83928af4-ce6f-427f-89a2-874bc4d50d9b",
   "metadata": {},
   "outputs": [],
   "source": [
    "loss_df.sort_values(by='prob').head(50)"
   ]
  },
  {
   "cell_type": "code",
   "execution_count": null,
   "id": "b4ea316a-dd0e-403b-941b-a187813ce181",
   "metadata": {},
   "outputs": [],
   "source": []
  }
 ],
 "metadata": {
  "kernelspec": {
   "display_name": "LHL_env",
   "language": "python",
   "name": "lhl_env"
  },
  "language_info": {
   "codemirror_mode": {
    "name": "ipython",
    "version": 3
   },
   "file_extension": ".py",
   "mimetype": "text/x-python",
   "name": "python",
   "nbconvert_exporter": "python",
   "pygments_lexer": "ipython3",
   "version": "3.10.9"
  }
 },
 "nbformat": 4,
 "nbformat_minor": 5
}
