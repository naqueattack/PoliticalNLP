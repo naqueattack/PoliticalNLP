{
 "cells": [
  {
   "cell_type": "code",
   "execution_count": 1,
   "id": "011c0a41-646b-49ee-95b1-f12c10865306",
   "metadata": {},
   "outputs": [
    {
     "data": {
      "text/html": [
       "<div>\n",
       "<style scoped>\n",
       "    .dataframe tbody tr th:only-of-type {\n",
       "        vertical-align: middle;\n",
       "    }\n",
       "\n",
       "    .dataframe tbody tr th {\n",
       "        vertical-align: top;\n",
       "    }\n",
       "\n",
       "    .dataframe thead th {\n",
       "        text-align: right;\n",
       "    }\n",
       "</style>\n",
       "<table border=\"1\" class=\"dataframe\">\n",
       "  <thead>\n",
       "    <tr style=\"text-align: right;\">\n",
       "      <th></th>\n",
       "      <th>Title</th>\n",
       "      <th>Political Lean</th>\n",
       "      <th>Score</th>\n",
       "      <th>Id</th>\n",
       "      <th>Subreddit</th>\n",
       "      <th>URL</th>\n",
       "      <th>Num of Comments</th>\n",
       "      <th>Text</th>\n",
       "      <th>Date Created</th>\n",
       "    </tr>\n",
       "  </thead>\n",
       "  <tbody>\n",
       "    <tr>\n",
       "      <th>0</th>\n",
       "      <td>No matter who someone is, how they look like, ...</td>\n",
       "      <td>Liberal</td>\n",
       "      <td>1</td>\n",
       "      <td>t5fybt</td>\n",
       "      <td>socialism</td>\n",
       "      <td>https://v.redd.it/ng5fyl7hp2l81</td>\n",
       "      <td>0</td>\n",
       "      <td>NaN</td>\n",
       "      <td>1.646272e+09</td>\n",
       "    </tr>\n",
       "    <tr>\n",
       "      <th>1</th>\n",
       "      <td>Biden speech draws 38.2 million U.S. TV viewers</td>\n",
       "      <td>Liberal</td>\n",
       "      <td>6</td>\n",
       "      <td>t5fqdn</td>\n",
       "      <td>democrats</td>\n",
       "      <td>https://www.reuters.com/world/us/biden-speech-...</td>\n",
       "      <td>1</td>\n",
       "      <td>NaN</td>\n",
       "      <td>1.646271e+09</td>\n",
       "    </tr>\n",
       "    <tr>\n",
       "      <th>2</th>\n",
       "      <td>State of the union</td>\n",
       "      <td>Liberal</td>\n",
       "      <td>1</td>\n",
       "      <td>t5fj9a</td>\n",
       "      <td>DemocraticSocialism</td>\n",
       "      <td>https://www.reddit.com/r/DemocraticSocialism/c...</td>\n",
       "      <td>1</td>\n",
       "      <td>Who watched the state of the union last night ...</td>\n",
       "      <td>1.646270e+09</td>\n",
       "    </tr>\n",
       "    <tr>\n",
       "      <th>3</th>\n",
       "      <td>We Should Just Give Poor People Money</td>\n",
       "      <td>Liberal</td>\n",
       "      <td>7</td>\n",
       "      <td>t5f7n9</td>\n",
       "      <td>SocialDemocracy</td>\n",
       "      <td>https://youtu.be/a80kRjpubG0</td>\n",
       "      <td>3</td>\n",
       "      <td>NaN</td>\n",
       "      <td>1.646270e+09</td>\n",
       "    </tr>\n",
       "    <tr>\n",
       "      <th>4</th>\n",
       "      <td>Do it for the Dew</td>\n",
       "      <td>Liberal</td>\n",
       "      <td>6</td>\n",
       "      <td>t5es2c</td>\n",
       "      <td>democrats</td>\n",
       "      <td>https://i.redd.it/drmunn90f2l81.jpg</td>\n",
       "      <td>1</td>\n",
       "      <td>NaN</td>\n",
       "      <td>1.646268e+09</td>\n",
       "    </tr>\n",
       "  </tbody>\n",
       "</table>\n",
       "</div>"
      ],
      "text/plain": [
       "                                               Title Political Lean  Score  \\\n",
       "0  No matter who someone is, how they look like, ...        Liberal      1   \n",
       "1    Biden speech draws 38.2 million U.S. TV viewers        Liberal      6   \n",
       "2                                 State of the union        Liberal      1   \n",
       "3              We Should Just Give Poor People Money        Liberal      7   \n",
       "4                                  Do it for the Dew        Liberal      6   \n",
       "\n",
       "       Id            Subreddit  \\\n",
       "0  t5fybt            socialism   \n",
       "1  t5fqdn            democrats   \n",
       "2  t5fj9a  DemocraticSocialism   \n",
       "3  t5f7n9      SocialDemocracy   \n",
       "4  t5es2c            democrats   \n",
       "\n",
       "                                                 URL  Num of Comments  \\\n",
       "0                    https://v.redd.it/ng5fyl7hp2l81                0   \n",
       "1  https://www.reuters.com/world/us/biden-speech-...                1   \n",
       "2  https://www.reddit.com/r/DemocraticSocialism/c...                1   \n",
       "3                       https://youtu.be/a80kRjpubG0                3   \n",
       "4                https://i.redd.it/drmunn90f2l81.jpg                1   \n",
       "\n",
       "                                                Text  Date Created  \n",
       "0                                                NaN  1.646272e+09  \n",
       "1                                                NaN  1.646271e+09  \n",
       "2  Who watched the state of the union last night ...  1.646270e+09  \n",
       "3                                                NaN  1.646270e+09  \n",
       "4                                                NaN  1.646268e+09  "
      ]
     },
     "execution_count": 1,
     "metadata": {},
     "output_type": "execute_result"
    }
   ],
   "source": [
    "import pandas as pd\n",
    "import numpy as np\n",
    "\n",
    "df = pd.read_csv(\"../data/fulldata.csv\")\n",
    "df.head()"
   ]
  },
  {
   "cell_type": "code",
   "execution_count": 2,
   "id": "14971203-ac6b-471e-aef8-81242e3bba61",
   "metadata": {},
   "outputs": [
    {
     "data": {
      "text/html": [
       "<div>\n",
       "<style scoped>\n",
       "    .dataframe tbody tr th:only-of-type {\n",
       "        vertical-align: middle;\n",
       "    }\n",
       "\n",
       "    .dataframe tbody tr th {\n",
       "        vertical-align: top;\n",
       "    }\n",
       "\n",
       "    .dataframe thead th {\n",
       "        text-align: right;\n",
       "    }\n",
       "</style>\n",
       "<table border=\"1\" class=\"dataframe\">\n",
       "  <thead>\n",
       "    <tr style=\"text-align: right;\">\n",
       "      <th></th>\n",
       "      <th>Score</th>\n",
       "      <th>Num of Comments</th>\n",
       "      <th>Date Created</th>\n",
       "    </tr>\n",
       "  </thead>\n",
       "  <tbody>\n",
       "    <tr>\n",
       "      <th>count</th>\n",
       "      <td>12854.000000</td>\n",
       "      <td>12854.000000</td>\n",
       "      <td>1.285400e+04</td>\n",
       "    </tr>\n",
       "    <tr>\n",
       "      <th>mean</th>\n",
       "      <td>118.558270</td>\n",
       "      <td>19.055936</td>\n",
       "      <td>1.622576e+09</td>\n",
       "    </tr>\n",
       "    <tr>\n",
       "      <th>std</th>\n",
       "      <td>498.888034</td>\n",
       "      <td>60.381567</td>\n",
       "      <td>6.112838e+07</td>\n",
       "    </tr>\n",
       "    <tr>\n",
       "      <th>min</th>\n",
       "      <td>0.000000</td>\n",
       "      <td>0.000000</td>\n",
       "      <td>1.231048e+09</td>\n",
       "    </tr>\n",
       "    <tr>\n",
       "      <th>25%</th>\n",
       "      <td>3.000000</td>\n",
       "      <td>1.000000</td>\n",
       "      <td>1.632132e+09</td>\n",
       "    </tr>\n",
       "    <tr>\n",
       "      <th>50%</th>\n",
       "      <td>12.000000</td>\n",
       "      <td>3.000000</td>\n",
       "      <td>1.642030e+09</td>\n",
       "    </tr>\n",
       "    <tr>\n",
       "      <th>75%</th>\n",
       "      <td>65.000000</td>\n",
       "      <td>15.000000</td>\n",
       "      <td>1.645107e+09</td>\n",
       "    </tr>\n",
       "    <tr>\n",
       "      <th>max</th>\n",
       "      <td>25055.000000</td>\n",
       "      <td>2150.000000</td>\n",
       "      <td>1.646272e+09</td>\n",
       "    </tr>\n",
       "  </tbody>\n",
       "</table>\n",
       "</div>"
      ],
      "text/plain": [
       "              Score  Num of Comments  Date Created\n",
       "count  12854.000000     12854.000000  1.285400e+04\n",
       "mean     118.558270        19.055936  1.622576e+09\n",
       "std      498.888034        60.381567  6.112838e+07\n",
       "min        0.000000         0.000000  1.231048e+09\n",
       "25%        3.000000         1.000000  1.632132e+09\n",
       "50%       12.000000         3.000000  1.642030e+09\n",
       "75%       65.000000        15.000000  1.645107e+09\n",
       "max    25055.000000      2150.000000  1.646272e+09"
      ]
     },
     "execution_count": 2,
     "metadata": {},
     "output_type": "execute_result"
    }
   ],
   "source": [
    "df.describe()"
   ]
  },
  {
   "cell_type": "code",
   "execution_count": 3,
   "id": "932e4f02-3545-434f-a875-7d470c0ad277",
   "metadata": {},
   "outputs": [
    {
     "name": "stderr",
     "output_type": "stream",
     "text": [
      "C:\\Users\\Andrew\\AppData\\Local\\Temp\\ipykernel_17056\\95519498.py:5: SettingWithCopyWarning: \n",
      "A value is trying to be set on a copy of a slice from a DataFrame.\n",
      "Try using .loc[row_indexer,col_indexer] = value instead\n",
      "\n",
      "See the caveats in the documentation: https://pandas.pydata.org/pandas-docs/stable/user_guide/indexing.html#returning-a-view-versus-a-copy\n",
      "  df_simple['Political Lean'] = df_simple['Political Lean'].replace('Liberal',1)\n",
      "C:\\Users\\Andrew\\AppData\\Local\\Temp\\ipykernel_17056\\95519498.py:6: SettingWithCopyWarning: \n",
      "A value is trying to be set on a copy of a slice from a DataFrame.\n",
      "Try using .loc[row_indexer,col_indexer] = value instead\n",
      "\n",
      "See the caveats in the documentation: https://pandas.pydata.org/pandas-docs/stable/user_guide/indexing.html#returning-a-view-versus-a-copy\n",
      "  df_simple['Political Lean'] = df_simple['Political Lean'].replace('Conservative',0)\n"
     ]
    }
   ],
   "source": [
    "#Create simple dataframe with only text and predictor\n",
    "df_simple = df[['Title','Political Lean']] \n",
    "\n",
    "#dummy code predictor\n",
    "df_simple['Political Lean'] = df_simple['Political Lean'].replace('Liberal',1)\n",
    "df_simple['Political Lean'] = df_simple['Political Lean'].replace('Conservative',0)\n",
    "\n",
    "df_simple = df_simple.rename({'Political Lean':'y'},axis=1) #replace column name for simplicity"
   ]
  },
  {
   "cell_type": "code",
   "execution_count": 5,
   "id": "60ea2a4d-6316-46ca-9040-a09a1396db68",
   "metadata": {},
   "outputs": [],
   "source": [
    "df_simple['length'] = df_simple['Title'].apply(lambda x: len(x))\n",
    "df_simple = df_simple[df_simple['length']>=15]"
   ]
  },
  {
   "cell_type": "code",
   "execution_count": 6,
   "id": "1706dc47-9b07-45dc-baed-44f9bb108c2a",
   "metadata": {},
   "outputs": [],
   "source": [
    "X = df_simple.drop(['y','length'],axis=1)\n",
    "y = df_simple['y']"
   ]
  },
  {
   "cell_type": "code",
   "execution_count": 8,
   "id": "85e07341-c353-462c-91b1-cc0e91024341",
   "metadata": {},
   "outputs": [],
   "source": [
    "from imblearn.over_sampling import RandomOverSampler\n",
    "oversample = RandomOverSampler(sampling_strategy='minority', random_state=13)\n",
    "X, y = oversample.fit_resample(X, y)"
   ]
  },
  {
   "cell_type": "code",
   "execution_count": 9,
   "id": "f9381fc6-7166-4e7c-9672-30985a00b473",
   "metadata": {},
   "outputs": [],
   "source": [
    "from sklearn.utils import shuffle\n",
    "X, y = shuffle(X,y, random_state=13)"
   ]
  },
  {
   "cell_type": "code",
   "execution_count": 10,
   "id": "ab7009c1-d945-4386-8089-5bebd76c026d",
   "metadata": {
    "tags": []
   },
   "outputs": [
    {
     "name": "stderr",
     "output_type": "stream",
     "text": [
      "[nltk_data] Downloading package stopwords to\n",
      "[nltk_data]     C:\\Users\\Andrew\\AppData\\Roaming\\nltk_data...\n",
      "[nltk_data]   Package stopwords is already up-to-date!\n",
      "[nltk_data] Downloading package wordnet to\n",
      "[nltk_data]     C:\\Users\\Andrew\\AppData\\Roaming\\nltk_data...\n",
      "[nltk_data]   Package wordnet is already up-to-date!\n"
     ]
    }
   ],
   "source": [
    "import string \n",
    "\n",
    "def lowercase(text):\n",
    "    return text.lower()\n",
    "\n",
    "def unpunctuate(text):\n",
    "    text = \"\".join([char for char in text if char not in string.punctuation])\n",
    "    return text\n",
    "\n",
    "import nltk\n",
    "nltk.download('stopwords')\n",
    "\n",
    "from nltk.corpus import stopwords\n",
    "\n",
    "def remove_stopwords(tokenized_text):\n",
    "    ENGstopwords = stopwords.words('english')\n",
    "    text = [word for word in tokenized_text if word not in ENGstopwords]\n",
    "    return text\n",
    "\n",
    "def tokenize(text):\n",
    "    tokens = text.split()\n",
    "    return tokens\n",
    "\n",
    "nltk.download('wordnet')\n",
    "from nltk.stem import WordNetLemmatizer\n",
    "  \n",
    "lemmatizer = WordNetLemmatizer() \n",
    "\n",
    "def lemmatize(text):\n",
    "    lemtext = []\n",
    "    for word in text: \n",
    "        lemword = lemmatizer.lemmatize(word)\n",
    "        lemtext.append(lemword)\n",
    "    return lemtext"
   ]
  },
  {
   "cell_type": "code",
   "execution_count": 11,
   "id": "951d5d01-11f8-41c4-84d1-002f43ca7d1e",
   "metadata": {},
   "outputs": [],
   "source": [
    "X['Title'] = X['Title'].apply(lowercase)\n",
    "X['Title'] = X['Title'].apply(unpunctuate)\n",
    "X['Title'] = X['Title'].apply(tokenize)\n",
    "# X['Title'] = X['Title'].apply(remove_stopwords)\n",
    "X['Title'] = X['Title'].apply(lemmatize)"
   ]
  },
  {
   "cell_type": "code",
   "execution_count": 12,
   "id": "3b700fd3-c2e1-4067-8c7f-7eb59cb2b8e3",
   "metadata": {},
   "outputs": [],
   "source": [
    "all_words = X['Title'].tolist()\n",
    "\n",
    "from gensim.models import Word2Vec\n",
    "\n",
    "word2vec = Word2Vec(all_words)"
   ]
  },
  {
   "cell_type": "code",
   "execution_count": 13,
   "id": "cf6342f6-7759-44c3-8237-437c79293af2",
   "metadata": {},
   "outputs": [],
   "source": [
    "def get_vector(word_list):\n",
    "    vector = np.zeros(word2vec.vector_size)  # Create an empty vector of appropriate size\n",
    "    count = 0  # Initialize a count variable\n",
    "    for word in word_list:\n",
    "        if word in word2vec.wv:\n",
    "            vector += word2vec.wv[word]  # Add the word vector to the overall vector\n",
    "            count += 1  # Increment the count\n",
    "    if count != 0:\n",
    "        vector /= count  # Divide the vector by the count to get the average\n",
    "    return vector"
   ]
  },
  {
   "cell_type": "code",
   "execution_count": 14,
   "id": "3fee07f8-f0a6-4888-b1a8-884567b89e1c",
   "metadata": {},
   "outputs": [],
   "source": [
    "X['Title'] = X['Title'].apply(get_vector)"
   ]
  },
  {
   "cell_type": "code",
   "execution_count": 15,
   "id": "a489ad4f-83c7-490a-93a9-5d2293853b84",
   "metadata": {},
   "outputs": [],
   "source": [
    "# Convert the vector column to a list of lists\n",
    "vector_list = X['Title'].tolist()\n",
    "\n",
    "# Convert the list of lists to a NumPy array with float32 data type\n",
    "vector_array = np.array(vector_list, dtype=np.float32)\n",
    "\n",
    "word_vectors = word2vec.wv.vectors"
   ]
  },
  {
   "cell_type": "code",
   "execution_count": 16,
   "id": "ca7f2045-3da3-4bf3-95fe-c405a3344b01",
   "metadata": {},
   "outputs": [
    {
     "name": "stdout",
     "output_type": "stream",
     "text": [
      "(4729, 100)\n",
      "(16300, 100)\n"
     ]
    }
   ],
   "source": [
    "print(word_vectors.shape)\n",
    "print(vector_array.shape)"
   ]
  },
  {
   "cell_type": "code",
   "execution_count": 17,
   "id": "3b52fb6f-c818-4601-979b-fa1a1c1d5f7f",
   "metadata": {},
   "outputs": [],
   "source": [
    "from sklearn.model_selection import train_test_split \n",
    "import numpy as np\n",
    "X = X['Title']\n",
    "X_train, X_test, y_train, y_test = train_test_split(X,y, test_size=.15)"
   ]
  },
  {
   "cell_type": "code",
   "execution_count": 18,
   "id": "1a132c2c-c46b-47e0-893a-dc1c12e50785",
   "metadata": {},
   "outputs": [],
   "source": [
    "X_train = np.stack(X_train.values)\n",
    "X_test = np.stack(X_test.values)"
   ]
  },
  {
   "cell_type": "code",
   "execution_count": 19,
   "id": "c5c66a12-ab09-406f-97e2-440cd588fa89",
   "metadata": {},
   "outputs": [],
   "source": [
    "X_train = np.reshape(X_train, (X_train.shape[0], 1, 100))\n",
    "X_test = np.reshape(X_test, (X_test.shape[0], 1, 100))"
   ]
  },
  {
   "cell_type": "code",
   "execution_count": 20,
   "id": "8609a731-0485-42f4-8e1e-b92517df8207",
   "metadata": {},
   "outputs": [
    {
     "name": "stdout",
     "output_type": "stream",
     "text": [
      "Epoch 1/100\n",
      "433/433 [==============================] - 12s 18ms/step - loss: 0.6922 - accuracy: 0.5126 - auc: 0.5203 - val_loss: 0.6928 - val_accuracy: 0.5640 - val_auc: 0.5814\n",
      "Epoch 2/100\n",
      "433/433 [==============================] - 7s 17ms/step - loss: 0.6804 - accuracy: 0.5654 - auc: 0.5833 - val_loss: 0.6774 - val_accuracy: 0.5726 - val_auc: 0.6182\n",
      "Epoch 3/100\n",
      "433/433 [==============================] - 8s 19ms/step - loss: 0.6748 - accuracy: 0.5670 - auc: 0.5992 - val_loss: 0.6655 - val_accuracy: 0.5853 - val_auc: 0.6297\n",
      "Epoch 4/100\n",
      "433/433 [==============================] - 8s 19ms/step - loss: 0.6710 - accuracy: 0.5726 - auc: 0.6101 - val_loss: 0.6634 - val_accuracy: 0.5853 - val_auc: 0.6347\n",
      "Epoch 5/100\n",
      "433/433 [==============================] - 8s 18ms/step - loss: 0.6684 - accuracy: 0.5761 - auc: 0.6163 - val_loss: 0.6674 - val_accuracy: 0.5832 - val_auc: 0.6326\n",
      "Epoch 6/100\n",
      "433/433 [==============================] - 9s 20ms/step - loss: 0.6673 - accuracy: 0.5789 - auc: 0.6194 - val_loss: 0.6705 - val_accuracy: 0.5800 - val_auc: 0.6344\n",
      "Epoch 7/100\n",
      "433/433 [==============================] - 8s 19ms/step - loss: 0.6647 - accuracy: 0.5857 - auc: 0.6260 - val_loss: 0.6712 - val_accuracy: 0.5812 - val_auc: 0.6370\n",
      "Epoch 8/100\n",
      "433/433 [==============================] - 8s 18ms/step - loss: 0.6660 - accuracy: 0.5844 - auc: 0.6225 - val_loss: 0.6607 - val_accuracy: 0.5951 - val_auc: 0.6424\n",
      "Epoch 9/100\n",
      "433/433 [==============================] - 8s 20ms/step - loss: 0.6643 - accuracy: 0.5837 - auc: 0.6264 - val_loss: 0.6592 - val_accuracy: 0.5881 - val_auc: 0.6383\n",
      "Epoch 10/100\n",
      "433/433 [==============================] - 8s 17ms/step - loss: 0.6647 - accuracy: 0.5880 - auc: 0.6270 - val_loss: 0.6572 - val_accuracy: 0.5922 - val_auc: 0.6439\n",
      "Epoch 11/100\n",
      "433/433 [==============================] - 8s 18ms/step - loss: 0.6641 - accuracy: 0.5851 - auc: 0.6278 - val_loss: 0.6630 - val_accuracy: 0.5804 - val_auc: 0.6406\n",
      "Epoch 12/100\n",
      "433/433 [==============================] - 8s 18ms/step - loss: 0.6634 - accuracy: 0.5916 - auc: 0.6305 - val_loss: 0.6598 - val_accuracy: 0.5947 - val_auc: 0.6416\n",
      "Epoch 13/100\n",
      "433/433 [==============================] - 9s 20ms/step - loss: 0.6621 - accuracy: 0.5895 - auc: 0.6307 - val_loss: 0.6574 - val_accuracy: 0.5894 - val_auc: 0.6457\n",
      "Epoch 14/100\n",
      "433/433 [==============================] - 9s 20ms/step - loss: 0.6619 - accuracy: 0.5869 - auc: 0.6310 - val_loss: 0.6603 - val_accuracy: 0.5865 - val_auc: 0.6440\n",
      "Epoch 15/100\n",
      "433/433 [==============================] - 9s 21ms/step - loss: 0.6609 - accuracy: 0.5931 - auc: 0.6356 - val_loss: 0.6545 - val_accuracy: 0.5984 - val_auc: 0.6466\n",
      "Epoch 16/100\n",
      "433/433 [==============================] - 9s 20ms/step - loss: 0.6581 - accuracy: 0.5956 - auc: 0.6413 - val_loss: 0.6583 - val_accuracy: 0.5988 - val_auc: 0.6424\n",
      "Epoch 17/100\n",
      "433/433 [==============================] - 8s 19ms/step - loss: 0.6594 - accuracy: 0.5934 - auc: 0.6392 - val_loss: 0.6545 - val_accuracy: 0.5906 - val_auc: 0.6464\n",
      "Epoch 18/100\n",
      "433/433 [==============================] - 8s 18ms/step - loss: 0.6589 - accuracy: 0.5907 - auc: 0.6399 - val_loss: 0.6579 - val_accuracy: 0.5922 - val_auc: 0.6488\n",
      "Epoch 19/100\n",
      "433/433 [==============================] - 7s 17ms/step - loss: 0.6575 - accuracy: 0.5929 - auc: 0.6424 - val_loss: 0.6699 - val_accuracy: 0.5763 - val_auc: 0.6472\n",
      "Epoch 20/100\n",
      "433/433 [==============================] - 7s 17ms/step - loss: 0.6581 - accuracy: 0.5953 - auc: 0.6423 - val_loss: 0.6538 - val_accuracy: 0.6065 - val_auc: 0.6508\n",
      "Epoch 21/100\n",
      "433/433 [==============================] - 7s 17ms/step - loss: 0.6580 - accuracy: 0.5990 - auc: 0.6433 - val_loss: 0.6576 - val_accuracy: 0.5980 - val_auc: 0.6484\n",
      "Epoch 22/100\n",
      "433/433 [==============================] - 7s 17ms/step - loss: 0.6571 - accuracy: 0.6035 - auc: 0.6449 - val_loss: 0.6564 - val_accuracy: 0.5975 - val_auc: 0.6513\n",
      "Epoch 23/100\n",
      "433/433 [==============================] - 12s 28ms/step - loss: 0.6586 - accuracy: 0.5984 - auc: 0.6407 - val_loss: 0.6701 - val_accuracy: 0.5767 - val_auc: 0.6472\n",
      "Epoch 24/100\n",
      "433/433 [==============================] - 13s 30ms/step - loss: 0.6564 - accuracy: 0.5996 - auc: 0.6436 - val_loss: 0.6559 - val_accuracy: 0.6008 - val_auc: 0.6517\n",
      "Epoch 25/100\n",
      "433/433 [==============================] - 12s 29ms/step - loss: 0.6553 - accuracy: 0.6028 - auc: 0.6480 - val_loss: 0.6560 - val_accuracy: 0.6008 - val_auc: 0.6515\n",
      "77/77 [==============================] - 1s 7ms/step\n",
      "ROC-AUC: 0.651039686916113\n"
     ]
    }
   ],
   "source": [
    "from keras.models import Sequential\n",
    "from keras.layers import Dense\n",
    "from keras.layers import LSTM\n",
    "from keras.layers import Dropout\n",
    "from keras.callbacks import EarlyStopping\n",
    "from sklearn.metrics import roc_auc_score\n",
    "\n",
    "classifier = Sequential()\n",
    "\n",
    "classifier.add(LSTM(units = 256, return_sequences = True, activation = 'relu', input_shape = (1, 100)))\n",
    "classifier.add(Dropout(0.2))\n",
    "\n",
    "classifier.add(LSTM(units = 256, return_sequences = True, activation = 'relu'))\n",
    "classifier.add(Dropout(0.2))\n",
    "\n",
    "classifier.add(LSTM(units = 128, return_sequences = True, activation = 'relu'))\n",
    "classifier.add(Dropout(0.2))\n",
    "\n",
    "classifier.add(LSTM(units = 64, activation = 'relu'))\n",
    "classifier.add(Dropout(0.2))\n",
    "\n",
    "classifier.add(Dense(units = 1, activation='sigmoid'))\n",
    "\n",
    "classifier.compile(optimizer = 'adam', loss = 'binary_crossentropy', metrics = ['accuracy', 'AUC'])\n",
    "\n",
    "early_stopping = EarlyStopping(monitor='val_loss', patience=5, restore_best_weights=True)\n",
    "classifier.fit(X_train, y_train, epochs = 100, batch_size = 32, validation_data = (X_test,y_test), callbacks = [early_stopping])\n",
    "                                                                                \n",
    "y_pred = classifier.predict(X_test)\n",
    "roc_auc = roc_auc_score(y_test, y_pred)\n",
    "print('ROC-AUC:', roc_auc)                                                                              "
   ]
  },
  {
   "cell_type": "code",
   "execution_count": 21,
   "id": "bae0ef19-15a6-4029-b3a7-43031856da41",
   "metadata": {},
   "outputs": [
    {
     "data": {
      "text/plain": [
       "<Axes: >"
      ]
     },
     "execution_count": 21,
     "metadata": {},
     "output_type": "execute_result"
    },
    {
     "data": {
      "image/png": "[encoded data removed]",
      "text/plain": [
       "<Figure size 640x480 with 2 Axes>"
      ]
     },
     "metadata": {},
     "output_type": "display_data"
    }
   ],
   "source": [
    "from sklearn.metrics import confusion_matrix\n",
    "import seaborn as sns\n",
    "y_pred_class = (y_pred > .5).astype(int)\n",
    "matrix = confusion_matrix(y_test, y_pred_class)\n",
    "\n",
    "sns.heatmap(matrix/np.sum(matrix), annot=True, fmt='.2%', cmap='Blues')"
   ]
  },
  {
   "cell_type": "code",
   "execution_count": 22,
   "id": "e4dcf920-54ac-462e-8c40-4ff5b151b1dd",
   "metadata": {},
   "outputs": [
    {
     "data": {
      "text/plain": [
       "array([[714, 523],\n",
       "       [439, 769]], dtype=int64)"
      ]
     },
     "execution_count": 22,
     "metadata": {},
     "output_type": "execute_result"
    }
   ],
   "source": [
    "matrix"
   ]
  },
  {
   "cell_type": "code",
   "execution_count": null,
   "id": "94e3827e-dedc-4daf-bf4f-6dc2b2c0caee",
   "metadata": {},
   "outputs": [],
   "source": []
  }
 ],
 "metadata": {
  "kernelspec": {
   "display_name": "LHL_env",
   "language": "python",
   "name": "lhl_env"
  },
  "language_info": {
   "codemirror_mode": {
    "name": "ipython",
    "version": 3
   },
   "file_extension": ".py",
   "mimetype": "text/x-python",
   "name": "python",
   "nbconvert_exporter": "python",
   "pygments_lexer": "ipython3",
   "version": "3.10.9"
  }
 },
 "nbformat": 4,
 "nbformat_minor": 5
}
