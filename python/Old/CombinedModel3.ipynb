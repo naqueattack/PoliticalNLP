{
 "cells": [
  {
   "cell_type": "code",
   "execution_count": 1,
   "id": "67233b73-f1a2-4cab-a395-0acf30fb4ff0",
   "metadata": {},
   "outputs": [
    {
     "name": "stderr",
     "output_type": "stream",
     "text": [
      "[nltk_data] Downloading package wordnet to\n",
      "[nltk_data]     C:\\Users\\Andrew\\AppData\\Roaming\\nltk_data...\n",
      "[nltk_data]   Package wordnet is already up-to-date!\n",
      "[nltk_data] Downloading package averaged_perceptron_tagger to\n",
      "[nltk_data]     C:\\Users\\Andrew\\AppData\\Roaming\\nltk_data...\n",
      "[nltk_data]   Package averaged_perceptron_tagger is already up-to-\n",
      "[nltk_data]       date!\n"
     ]
    }
   ],
   "source": [
    "import pandas as pd\n",
    "import numpy as np\n",
    "import string\n",
    "import nltk\n",
    "nltk.download('wordnet')\n",
    "nltk.download('averaged_perceptron_tagger')\n",
    "\n",
    "df = pd.read_csv(\"../data/fulldata.csv\")"
   ]
  },
  {
   "cell_type": "code",
   "execution_count": 2,
   "id": "a16c2532-c2f2-48f7-84f6-7f9e0049ea0b",
   "metadata": {},
   "outputs": [],
   "source": [
    "from Cleaning import lowercase, unpunctuate, tokenize, lemmatize, count_capitalized_words, create_other_var, cleaning_and_prep, stack_vectors, count_punctuations"
   ]
  },
  {
   "cell_type": "code",
   "execution_count": 3,
   "id": "bb47f54a-ec57-4308-a10d-62853364b7f4",
   "metadata": {},
   "outputs": [
    {
     "name": "stderr",
     "output_type": "stream",
     "text": [
      "C:\\Users\\Andrew\\Documents\\LHL\\PoliticalNLP\\python\\Cleaning.py:125: SettingWithCopyWarning: \n",
      "A value is trying to be set on a copy of a slice from a DataFrame.\n",
      "Try using .loc[row_indexer,col_indexer] = value instead\n",
      "\n",
      "See the caveats in the documentation: https://pandas.pydata.org/pandas-docs/stable/user_guide/indexing.html#returning-a-view-versus-a-copy\n",
      "  df['Political Lean'] = df['Political Lean'].replace('Liberal',1)\n",
      "C:\\Users\\Andrew\\Documents\\LHL\\PoliticalNLP\\python\\Cleaning.py:126: SettingWithCopyWarning: \n",
      "A value is trying to be set on a copy of a slice from a DataFrame.\n",
      "Try using .loc[row_indexer,col_indexer] = value instead\n",
      "\n",
      "See the caveats in the documentation: https://pandas.pydata.org/pandas-docs/stable/user_guide/indexing.html#returning-a-view-versus-a-copy\n",
      "  df['Political Lean'] = df['Political Lean'].replace('Conservative',0)\n"
     ]
    }
   ],
   "source": [
    "X_train, X_test, y_train, y_test = cleaning_and_prep(df)"
   ]
  },
  {
   "cell_type": "code",
   "execution_count": 4,
   "id": "4c07ff43-bee3-4c11-9e29-29c25764a85d",
   "metadata": {},
   "outputs": [],
   "source": [
    "X_train_vec, X_test_vec, X_train, X_test = stack_vectors(X_train,X_test)"
   ]
  },
  {
   "cell_type": "code",
   "execution_count": 5,
   "id": "83645586-d576-4de0-ae1e-d3897c0b206b",
   "metadata": {},
   "outputs": [
    {
     "name": "stdout",
     "output_type": "stream",
     "text": [
      "Epoch 1/100\n",
      "441/441 [==============================] - 14s 22ms/step - loss: 0.6521 - accuracy: 0.5986 - auc: 0.6509 - val_loss: 0.6111 - val_accuracy: 0.6369 - val_auc: 0.7557\n",
      "Epoch 2/100\n",
      "441/441 [==============================] - 9s 20ms/step - loss: 0.6047 - accuracy: 0.6670 - auc: 0.7396 - val_loss: 0.5605 - val_accuracy: 0.7117 - val_auc: 0.7889\n",
      "Epoch 3/100\n",
      "441/441 [==============================] - 9s 20ms/step - loss: 0.5797 - accuracy: 0.6788 - auc: 0.7582 - val_loss: 0.5502 - val_accuracy: 0.7016 - val_auc: 0.7931\n",
      "Epoch 4/100\n",
      "441/441 [==============================] - 9s 20ms/step - loss: 0.5754 - accuracy: 0.6865 - auc: 0.7638 - val_loss: 0.5453 - val_accuracy: 0.7133 - val_auc: 0.7999\n",
      "Epoch 5/100\n",
      "441/441 [==============================] - 9s 20ms/step - loss: 0.5643 - accuracy: 0.6910 - auc: 0.7730 - val_loss: 0.5459 - val_accuracy: 0.6988 - val_auc: 0.8020\n",
      "Epoch 6/100\n",
      "441/441 [==============================] - 9s 21ms/step - loss: 0.5617 - accuracy: 0.6893 - auc: 0.7745 - val_loss: 0.5378 - val_accuracy: 0.7149 - val_auc: 0.8035\n",
      "Epoch 7/100\n",
      "441/441 [==============================] - 9s 20ms/step - loss: 0.5543 - accuracy: 0.7029 - auc: 0.7838 - val_loss: 0.5362 - val_accuracy: 0.7133 - val_auc: 0.8039\n",
      "Epoch 8/100\n",
      "441/441 [==============================] - 9s 20ms/step - loss: 0.5550 - accuracy: 0.7023 - auc: 0.7850 - val_loss: 0.5376 - val_accuracy: 0.7181 - val_auc: 0.8011\n",
      "Epoch 9/100\n",
      "441/441 [==============================] - 9s 20ms/step - loss: 0.5522 - accuracy: 0.7090 - auc: 0.7883 - val_loss: 0.5315 - val_accuracy: 0.7165 - val_auc: 0.8070\n",
      "Epoch 10/100\n",
      "441/441 [==============================] - 9s 20ms/step - loss: 0.5491 - accuracy: 0.7052 - auc: 0.7904 - val_loss: 0.5365 - val_accuracy: 0.7077 - val_auc: 0.8115\n",
      "Epoch 11/100\n",
      "441/441 [==============================] - 9s 20ms/step - loss: 0.5465 - accuracy: 0.7106 - auc: 0.7926 - val_loss: 0.5238 - val_accuracy: 0.7298 - val_auc: 0.8126\n",
      "Epoch 12/100\n",
      "441/441 [==============================] - 9s 20ms/step - loss: 0.5410 - accuracy: 0.7121 - auc: 0.7965 - val_loss: 0.5282 - val_accuracy: 0.7226 - val_auc: 0.8075\n",
      "Epoch 13/100\n",
      "441/441 [==============================] - 9s 20ms/step - loss: 0.5406 - accuracy: 0.7152 - auc: 0.7987 - val_loss: 0.5349 - val_accuracy: 0.7222 - val_auc: 0.8045\n",
      "Epoch 14/100\n",
      "441/441 [==============================] - 9s 20ms/step - loss: 0.5404 - accuracy: 0.7131 - auc: 0.7970 - val_loss: 0.5315 - val_accuracy: 0.7141 - val_auc: 0.8088\n",
      "Epoch 15/100\n",
      "441/441 [==============================] - 9s 20ms/step - loss: 0.5387 - accuracy: 0.7155 - auc: 0.7980 - val_loss: 0.5216 - val_accuracy: 0.7310 - val_auc: 0.8116\n",
      "Epoch 16/100\n",
      "441/441 [==============================] - 9s 20ms/step - loss: 0.5363 - accuracy: 0.7179 - auc: 0.8017 - val_loss: 0.5234 - val_accuracy: 0.7234 - val_auc: 0.8128\n",
      "Epoch 17/100\n",
      "441/441 [==============================] - 9s 20ms/step - loss: 0.5335 - accuracy: 0.7214 - auc: 0.8042 - val_loss: 0.5214 - val_accuracy: 0.7250 - val_auc: 0.8139\n",
      "Epoch 18/100\n",
      "441/441 [==============================] - 9s 20ms/step - loss: 0.5332 - accuracy: 0.7194 - auc: 0.8057 - val_loss: 0.5288 - val_accuracy: 0.7201 - val_auc: 0.8069\n",
      "Epoch 19/100\n",
      "441/441 [==============================] - 9s 20ms/step - loss: 0.5296 - accuracy: 0.7249 - auc: 0.8078 - val_loss: 0.5181 - val_accuracy: 0.7318 - val_auc: 0.8177\n",
      "Epoch 20/100\n",
      "441/441 [==============================] - 9s 20ms/step - loss: 0.5285 - accuracy: 0.7219 - auc: 0.8083 - val_loss: 0.5170 - val_accuracy: 0.7278 - val_auc: 0.8167\n",
      "Epoch 21/100\n",
      "441/441 [==============================] - 9s 20ms/step - loss: 0.5263 - accuracy: 0.7252 - auc: 0.8107 - val_loss: 0.5227 - val_accuracy: 0.7226 - val_auc: 0.8164\n",
      "Epoch 22/100\n",
      "441/441 [==============================] - 10s 22ms/step - loss: 0.5272 - accuracy: 0.7255 - auc: 0.8093 - val_loss: 0.5244 - val_accuracy: 0.7197 - val_auc: 0.8090\n",
      "Epoch 23/100\n",
      "441/441 [==============================] - 9s 20ms/step - loss: 0.5263 - accuracy: 0.7250 - auc: 0.8102 - val_loss: 0.5290 - val_accuracy: 0.7149 - val_auc: 0.8176\n",
      "Epoch 24/100\n",
      "441/441 [==============================] - 9s 20ms/step - loss: 0.5251 - accuracy: 0.7249 - auc: 0.8103 - val_loss: 0.5182 - val_accuracy: 0.7254 - val_auc: 0.8168\n",
      "Epoch 25/100\n",
      "441/441 [==============================] - 9s 20ms/step - loss: 0.5232 - accuracy: 0.7276 - auc: 0.8121 - val_loss: 0.5218 - val_accuracy: 0.7310 - val_auc: 0.8162\n",
      "Epoch 26/100\n",
      "441/441 [==============================] - 9s 20ms/step - loss: 0.5239 - accuracy: 0.7272 - auc: 0.8116 - val_loss: 0.5159 - val_accuracy: 0.7338 - val_auc: 0.8184\n",
      "Epoch 27/100\n",
      "441/441 [==============================] - 9s 20ms/step - loss: 0.5200 - accuracy: 0.7282 - auc: 0.8148 - val_loss: 0.5270 - val_accuracy: 0.7093 - val_auc: 0.8169\n",
      "Epoch 28/100\n",
      "441/441 [==============================] - 9s 20ms/step - loss: 0.5201 - accuracy: 0.7275 - auc: 0.8143 - val_loss: 0.5174 - val_accuracy: 0.7310 - val_auc: 0.8192\n",
      "Epoch 29/100\n",
      "441/441 [==============================] - 9s 20ms/step - loss: 0.5208 - accuracy: 0.7293 - auc: 0.8149 - val_loss: 0.5161 - val_accuracy: 0.7326 - val_auc: 0.8186\n",
      "Epoch 30/100\n",
      "441/441 [==============================] - 9s 20ms/step - loss: 0.5212 - accuracy: 0.7272 - auc: 0.8138 - val_loss: 0.5230 - val_accuracy: 0.7234 - val_auc: 0.8171\n",
      "Epoch 31/100\n",
      "441/441 [==============================] - 9s 20ms/step - loss: 0.5209 - accuracy: 0.7275 - auc: 0.8135 - val_loss: 0.5250 - val_accuracy: 0.7093 - val_auc: 0.8182\n",
      "Epoch 32/100\n",
      "441/441 [==============================] - 9s 20ms/step - loss: 0.5185 - accuracy: 0.7302 - auc: 0.8163 - val_loss: 0.5146 - val_accuracy: 0.7250 - val_auc: 0.8223\n",
      "Epoch 33/100\n",
      "441/441 [==============================] - 9s 20ms/step - loss: 0.5199 - accuracy: 0.7274 - auc: 0.8150 - val_loss: 0.5217 - val_accuracy: 0.7205 - val_auc: 0.8196\n",
      "Epoch 34/100\n",
      "441/441 [==============================] - 9s 21ms/step - loss: 0.5165 - accuracy: 0.7287 - auc: 0.8174 - val_loss: 0.5197 - val_accuracy: 0.7169 - val_auc: 0.8177\n",
      "Epoch 35/100\n",
      "441/441 [==============================] - 9s 20ms/step - loss: 0.5173 - accuracy: 0.7296 - auc: 0.8166 - val_loss: 0.5139 - val_accuracy: 0.7330 - val_auc: 0.8204\n",
      "Epoch 36/100\n",
      "441/441 [==============================] - 9s 20ms/step - loss: 0.5151 - accuracy: 0.7309 - auc: 0.8207 - val_loss: 0.5180 - val_accuracy: 0.7234 - val_auc: 0.8163\n",
      "78/78 [==============================] - 1s 3ms/step\n",
      "ROC-AUC: 0.8182967708535559\n",
      "Accuracy: 0.733815842380378\n"
     ]
    },
    {
     "data": {
      "text/plain": [
       "<Axes: >"
      ]
     },
     "execution_count": 5,
     "metadata": {},
     "output_type": "execute_result"
    },
    {
     "data": {
      "image/png": "[encoded data removed]",
      "text/plain": [
       "<Figure size 640x480 with 2 Axes>"
      ]
     },
     "metadata": {},
     "output_type": "display_data"
    }
   ],
   "source": [
    "from keras.models import Model\n",
    "from keras.layers import Dense, LSTM, Dropout, Input, concatenate\n",
    "from keras.callbacks import EarlyStopping\n",
    "from sklearn.metrics import roc_auc_score, accuracy_score\n",
    "\n",
    "# First branch for the LSTM\n",
    "lstm_input = Input(shape=(1, 100))\n",
    "lstm_output = LSTM(units=256, return_sequences=True, activation='relu')(lstm_input)\n",
    "lstm_output = Dropout(0.2)(lstm_output)\n",
    "lstm_output = LSTM(units=256, return_sequences=True, activation='relu')(lstm_output)\n",
    "lstm_output = Dropout(0.2)(lstm_output)\n",
    "lstm_output = LSTM(units=128, return_sequences=True, activation='relu')(lstm_output)\n",
    "lstm_output = Dropout(0.2)(lstm_output)\n",
    "lstm_output = LSTM(units=64, activation='relu')(lstm_output)\n",
    "lstm_output = Dropout(0.2)(lstm_output)\n",
    "\n",
    "# Second branch for the dense layers\n",
    "dense_input = Input(shape=(6,))\n",
    "dense_output = Dense(units=64, activation='relu')(dense_input)\n",
    "dense_output = Dropout(0.2)(dense_output)\n",
    "dense_output = Dense(units=32, activation='relu')(dense_output)\n",
    "dense_output = Dropout(0.2)(dense_output)\n",
    "\n",
    "# Concatenate the outputs from both branches\n",
    "combined = concatenate([lstm_output, dense_output])\n",
    "\n",
    "combined = Dense(units = 64, activation='relu')(combined)\n",
    "\n",
    "# Final output layer\n",
    "output = Dense(units=1, activation='sigmoid')(combined)\n",
    "\n",
    "# Create the model\n",
    "model = Model(inputs=[lstm_input, dense_input], outputs=output)\n",
    "model.compile(optimizer='adam', loss='binary_crossentropy', metrics=['accuracy', 'AUC'])\n",
    "\n",
    "# Define the early stopping callback\n",
    "early_stopping = EarlyStopping(monitor='val_accuracy', patience=10, restore_best_weights=True)\n",
    "\n",
    "# Train the model with both LSTM and dense input\n",
    "model.fit([X_train_vec, X_train], y_train, epochs=100, batch_size=32,\n",
    "          validation_data=([X_test_vec, X_test], y_test),\n",
    "          callbacks=[early_stopping])\n",
    "\n",
    "# Predict and evaluate\n",
    "y_pred = model.predict([X_test_vec, X_test])\n",
    "roc_auc = roc_auc_score(y_test, y_pred)\n",
    "\n",
    "y_pred_class = (y_pred > .5).astype(int)\n",
    "accuracy = accuracy_score(y_test,y_pred_class)\n",
    "\n",
    "print('ROC-AUC:', roc_auc)\n",
    "print('Accuracy:', accuracy)\n",
    "\n",
    "from sklearn.metrics import confusion_matrix\n",
    "import seaborn as sns\n",
    "\n",
    "matrix = confusion_matrix(y_test, y_pred_class)\n",
    "\n",
    "sns.heatmap(matrix/np.sum(matrix), annot=True, fmt='.2%', cmap='Blues')"
   ]
  },
  {
   "cell_type": "code",
   "execution_count": 6,
   "id": "59dc53ff-9c21-466a-8e9f-f10b3833b0ee",
   "metadata": {},
   "outputs": [],
   "source": [
    "#model containing character length, number of capital words, upvotes and # of comments\n",
    "#Model 2 adds POS tagging and standard scaling of variables\n",
    "#Only left in proper nouns as others decreased performance\n",
    "#Model 3: Tried adding # of words, # of punctuation marks to no effect"
   ]
  },
  {
   "cell_type": "code",
   "execution_count": 7,
   "id": "77a3b55f-1112-4739-b2cf-337ce0205e57",
   "metadata": {},
   "outputs": [],
   "source": [
    "import numpy as np\n",
    "import pandas as pd\n",
    "from imblearn.over_sampling import RandomOverSampler\n",
    "from sklearn.utils import shuffle\n",
    "from sklearn.model_selection import train_test_split\n",
    "from gensim.models import Word2Vec\n",
    "\n",
    "#create extra variables for later\n",
    "df_other_var = create_other_var(df)\n",
    "\n",
    "#Create simple dataframe with only text and predictor\n",
    "df = df[['Title','Political Lean']] \n",
    "\n",
    "#dummy code predictor\n",
    "df['Political Lean'] = df['Political Lean'].replace('Liberal',1)\n",
    "df['Political Lean'] = df['Political Lean'].replace('Conservative',0)\n",
    "\n",
    "df = df.rename({'Political Lean':'y'},axis=1) #replace column name for simplicity\n",
    "\n",
    "df = pd.concat([df,df_other_var],axis=1)\n",
    "\n",
    "df = df[df['Length']>=15]\n",
    "\n",
    "#Split into X & y\n",
    "X = df.drop(['y'],axis=1)\n",
    "y = df['y']\n",
    "\n",
    "#oversample minority class\n",
    "oversample = RandomOverSampler(sampling_strategy='minority', random_state=13)\n",
    "X, y = oversample.fit_resample(X, y)"
   ]
  },
  {
   "cell_type": "code",
   "execution_count": 8,
   "id": "eed9495c-923f-474f-9f74-dd19b9ac4074",
   "metadata": {},
   "outputs": [
    {
     "ename": "AttributeError",
     "evalue": "'numpy.ndarray' object has no attribute 'merge'",
     "output_type": "error",
     "traceback": [
      "\u001b[1;31m---------------------------------------------------------------------------\u001b[0m",
      "\u001b[1;31mAttributeError\u001b[0m                            Traceback (most recent call last)",
      "Cell \u001b[1;32mIn[8], line 1\u001b[0m\n\u001b[1;32m----> 1\u001b[0m loss_df \u001b[38;5;241m=\u001b[39m \u001b[43mX_test\u001b[49m\u001b[38;5;241;43m.\u001b[39;49m\u001b[43mmerge\u001b[49m(X[[\u001b[38;5;124m'\u001b[39m\u001b[38;5;124mTitle\u001b[39m\u001b[38;5;124m'\u001b[39m]],left_index\u001b[38;5;241m=\u001b[39m\u001b[38;5;28;01mTrue\u001b[39;00m,right_index\u001b[38;5;241m=\u001b[39m\u001b[38;5;28;01mTrue\u001b[39;00m,how\u001b[38;5;241m=\u001b[39m\u001b[38;5;124m'\u001b[39m\u001b[38;5;124mleft\u001b[39m\u001b[38;5;124m'\u001b[39m)\n\u001b[0;32m      2\u001b[0m loss_df \u001b[38;5;241m=\u001b[39m loss_df\u001b[38;5;241m.\u001b[39mmerge(y,left_index\u001b[38;5;241m=\u001b[39m\u001b[38;5;28;01mTrue\u001b[39;00m,right_index\u001b[38;5;241m=\u001b[39m\u001b[38;5;28;01mTrue\u001b[39;00m,how\u001b[38;5;241m=\u001b[39m\u001b[38;5;124m'\u001b[39m\u001b[38;5;124mleft\u001b[39m\u001b[38;5;124m'\u001b[39m)\n\u001b[0;32m      3\u001b[0m predictions \u001b[38;5;241m=\u001b[39m pd\u001b[38;5;241m.\u001b[39mDataFrame(y_pred, columns \u001b[38;5;241m=\u001b[39m [\u001b[38;5;124m'\u001b[39m\u001b[38;5;124mprob\u001b[39m\u001b[38;5;124m'\u001b[39m])\n",
      "\u001b[1;31mAttributeError\u001b[0m: 'numpy.ndarray' object has no attribute 'merge'"
     ]
    }
   ],
   "source": [
    "loss_df = X_test.merge(X[['Title']],left_index=True,right_index=True,how='left')\n",
    "loss_df = loss_df.merge(y,left_index=True,right_index=True,how='left')\n",
    "predictions = pd.DataFrame(y_pred, columns = ['prob'])\n",
    "loss_df = pd.concat([loss_df,predictions.set_index(loss_df.index)],axis=1)\n",
    "loss_df['prob'] = abs(loss_df['prob']-.5)"
   ]
  },
  {
   "cell_type": "code",
   "execution_count": null,
   "id": "83928af4-ce6f-427f-89a2-874bc4d50d9b",
   "metadata": {},
   "outputs": [],
   "source": [
    "loss_df.sort_values(by='prob').head(50)"
   ]
  },
  {
   "cell_type": "code",
   "execution_count": null,
   "id": "b4ea316a-dd0e-403b-941b-a187813ce181",
   "metadata": {},
   "outputs": [],
   "source": []
  }
 ],
 "metadata": {
  "kernelspec": {
   "display_name": "LHL_env",
   "language": "python",
   "name": "lhl_env"
  },
  "language_info": {
   "codemirror_mode": {
    "name": "ipython",
    "version": 3
   },
   "file_extension": ".py",
   "mimetype": "text/x-python",
   "name": "python",
   "nbconvert_exporter": "python",
   "pygments_lexer": "ipython3",
   "version": "3.10.9"
  }
 },
 "nbformat": 4,
 "nbformat_minor": 5
}
