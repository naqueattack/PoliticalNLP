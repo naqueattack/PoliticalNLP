{
 "cells": [
  {
   "cell_type": "code",
   "execution_count": 1,
   "id": "67233b73-f1a2-4cab-a395-0acf30fb4ff0",
   "metadata": {},
   "outputs": [
    {
     "name": "stderr",
     "output_type": "stream",
     "text": [
      "[nltk_data] Downloading package wordnet to\n",
      "[nltk_data]     C:\\Users\\Andrew\\AppData\\Roaming\\nltk_data...\n",
      "[nltk_data]   Package wordnet is already up-to-date!\n",
      "[nltk_data] Downloading package averaged_perceptron_tagger to\n",
      "[nltk_data]     C:\\Users\\Andrew\\AppData\\Roaming\\nltk_data...\n",
      "[nltk_data]   Package averaged_perceptron_tagger is already up-to-\n",
      "[nltk_data]       date!\n"
     ]
    }
   ],
   "source": [
    "import pandas as pd\n",
    "import numpy as np\n",
    "import string\n",
    "import nltk\n",
    "nltk.download('wordnet')\n",
    "nltk.download('averaged_perceptron_tagger')\n",
    "\n",
    "df = pd.read_csv(\"../data/fulldata.csv\")\n",
    "df2 = pd.read_csv(\"../data/6_14_pull.csv\")\n",
    "\n",
    "df = pd.concat([df,df2])"
   ]
  },
  {
   "cell_type": "code",
   "execution_count": 2,
   "id": "a16c2532-c2f2-48f7-84f6-7f9e0049ea0b",
   "metadata": {},
   "outputs": [],
   "source": [
    "from Cleaning import lowercase, unpunctuate, tokenize, lemmatize, count_capitalized_words, create_other_var, cleaning_and_prep, stack_vectors"
   ]
  },
  {
   "cell_type": "code",
   "execution_count": 3,
   "id": "bb47f54a-ec57-4308-a10d-62853364b7f4",
   "metadata": {},
   "outputs": [
    {
     "name": "stderr",
     "output_type": "stream",
     "text": [
      "C:\\Users\\Andrew\\Documents\\LHL\\PoliticalNLP\\python\\Cleaning.py:127: SettingWithCopyWarning: \n",
      "A value is trying to be set on a copy of a slice from a DataFrame.\n",
      "Try using .loc[row_indexer,col_indexer] = value instead\n",
      "\n",
      "See the caveats in the documentation: https://pandas.pydata.org/pandas-docs/stable/user_guide/indexing.html#returning-a-view-versus-a-copy\n",
      "  df['Political Lean'] = df['Political Lean'].replace('Liberal',1)\n",
      "C:\\Users\\Andrew\\Documents\\LHL\\PoliticalNLP\\python\\Cleaning.py:128: SettingWithCopyWarning: \n",
      "A value is trying to be set on a copy of a slice from a DataFrame.\n",
      "Try using .loc[row_indexer,col_indexer] = value instead\n",
      "\n",
      "See the caveats in the documentation: https://pandas.pydata.org/pandas-docs/stable/user_guide/indexing.html#returning-a-view-versus-a-copy\n",
      "  df['Political Lean'] = df['Political Lean'].replace('Conservative',0)\n"
     ]
    }
   ],
   "source": [
    "X_train, X_test, y_train, y_test = cleaning_and_prep(df)"
   ]
  },
  {
   "cell_type": "code",
   "execution_count": 4,
   "id": "4c07ff43-bee3-4c11-9e29-29c25764a85d",
   "metadata": {},
   "outputs": [],
   "source": [
    "X_train_vec, X_test_vec, X_train, X_test = stack_vectors(X_train,X_test)"
   ]
  },
  {
   "cell_type": "code",
   "execution_count": 12,
   "id": "76664392-4b7e-49b9-95b7-69d5c51c9a7f",
   "metadata": {},
   "outputs": [],
   "source": [
    "X_train_vec = np.reshape(X_train_vec, (X_train_vec.shape[0], 100, 1))\n",
    "X_test_vec = np.reshape(X_test_vec, (X_test_vec.shape[0], 100, 1))"
   ]
  },
  {
   "cell_type": "code",
   "execution_count": 13,
   "id": "83645586-d576-4de0-ae1e-d3897c0b206b",
   "metadata": {},
   "outputs": [
    {
     "name": "stdout",
     "output_type": "stream",
     "text": [
      "Epoch 1/100\n",
      "763/763 [==============================] - 75s 95ms/step - loss: 0.6411 - accuracy: 0.6257 - auc: 0.6824 - val_loss: 0.5912 - val_accuracy: 0.6819 - val_auc: 0.7681\n",
      "Epoch 2/100\n",
      "763/763 [==============================] - 73s 96ms/step - loss: 0.5843 - accuracy: 0.6799 - auc: 0.7549 - val_loss: 0.5581 - val_accuracy: 0.7137 - val_auc: 0.7907\n",
      "Epoch 3/100\n",
      "763/763 [==============================] - 74s 97ms/step - loss: 0.5673 - accuracy: 0.6973 - auc: 0.7743 - val_loss: 0.5595 - val_accuracy: 0.7158 - val_auc: 0.7967\n",
      "Epoch 4/100\n",
      "763/763 [==============================] - 76s 99ms/step - loss: 0.5600 - accuracy: 0.7021 - auc: 0.7817 - val_loss: 0.5513 - val_accuracy: 0.7256 - val_auc: 0.7986\n",
      "Epoch 5/100\n",
      "763/763 [==============================] - 76s 99ms/step - loss: 0.5533 - accuracy: 0.7077 - auc: 0.7876 - val_loss: 0.5426 - val_accuracy: 0.7214 - val_auc: 0.8039\n",
      "Epoch 6/100\n",
      "763/763 [==============================] - 73s 96ms/step - loss: 0.5476 - accuracy: 0.7115 - auc: 0.7919 - val_loss: 0.5324 - val_accuracy: 0.7290 - val_auc: 0.8125\n",
      "Epoch 7/100\n",
      "763/763 [==============================] - 72s 95ms/step - loss: 0.5453 - accuracy: 0.7148 - auc: 0.7949 - val_loss: 0.5599 - val_accuracy: 0.7135 - val_auc: 0.7967\n",
      "Epoch 8/100\n",
      "763/763 [==============================] - 75s 98ms/step - loss: 0.5401 - accuracy: 0.7186 - auc: 0.7996 - val_loss: 0.5278 - val_accuracy: 0.7328 - val_auc: 0.8173\n",
      "Epoch 9/100\n",
      "763/763 [==============================] - 73s 95ms/step - loss: 0.5377 - accuracy: 0.7216 - auc: 0.8017 - val_loss: 0.5255 - val_accuracy: 0.7397 - val_auc: 0.8182\n",
      "Epoch 10/100\n",
      "763/763 [==============================] - 72s 94ms/step - loss: 0.5342 - accuracy: 0.7228 - auc: 0.8044 - val_loss: 0.5229 - val_accuracy: 0.7469 - val_auc: 0.8221\n",
      "Epoch 11/100\n",
      "763/763 [==============================] - 74s 97ms/step - loss: 0.5282 - accuracy: 0.7292 - auc: 0.8088 - val_loss: 0.5167 - val_accuracy: 0.7407 - val_auc: 0.8241\n",
      "Epoch 12/100\n",
      "763/763 [==============================] - 71s 93ms/step - loss: 0.5264 - accuracy: 0.7278 - auc: 0.8108 - val_loss: 0.5145 - val_accuracy: 0.7407 - val_auc: 0.8257\n",
      "Epoch 13/100\n",
      "763/763 [==============================] - 75s 99ms/step - loss: 0.5231 - accuracy: 0.7282 - auc: 0.8133 - val_loss: 0.5172 - val_accuracy: 0.7455 - val_auc: 0.8251\n",
      "Epoch 14/100\n",
      "763/763 [==============================] - 76s 99ms/step - loss: 0.5212 - accuracy: 0.7327 - auc: 0.8163 - val_loss: 0.5101 - val_accuracy: 0.7495 - val_auc: 0.8292\n",
      "Epoch 15/100\n",
      "763/763 [==============================] - 77s 100ms/step - loss: 0.5127 - accuracy: 0.7379 - auc: 0.8218 - val_loss: 0.5111 - val_accuracy: 0.7476 - val_auc: 0.8269\n",
      "Epoch 16/100\n",
      "763/763 [==============================] - 77s 101ms/step - loss: 9.2369 - accuracy: 0.7296 - auc: 0.8108 - val_loss: 0.5235 - val_accuracy: 0.7332 - val_auc: 0.8190\n",
      "Epoch 17/100\n",
      "763/763 [==============================] - 71s 94ms/step - loss: 0.5241 - accuracy: 0.7314 - auc: 0.8137 - val_loss: 0.5133 - val_accuracy: 0.7404 - val_auc: 0.8290\n",
      "Epoch 18/100\n",
      "763/763 [==============================] - 75s 98ms/step - loss: 0.5165 - accuracy: 0.7379 - auc: 0.8207 - val_loss: 0.5052 - val_accuracy: 0.7469 - val_auc: 0.8330\n",
      "Epoch 19/100\n",
      "763/763 [==============================] - 76s 100ms/step - loss: 0.5132 - accuracy: 0.7379 - auc: 0.8219 - val_loss: 0.5010 - val_accuracy: 0.7441 - val_auc: 0.8352\n",
      "Epoch 20/100\n",
      "763/763 [==============================] - 78s 103ms/step - loss: 0.5108 - accuracy: 0.7392 - auc: 0.8234 - val_loss: 0.5077 - val_accuracy: 0.7474 - val_auc: 0.8317\n",
      "Epoch 21/100\n",
      "763/763 [==============================] - 77s 101ms/step - loss: 0.5081 - accuracy: 0.7409 - auc: 0.8258 - val_loss: 0.5039 - val_accuracy: 0.7490 - val_auc: 0.8350\n",
      "Epoch 22/100\n",
      "763/763 [==============================] - 76s 100ms/step - loss: 0.5036 - accuracy: 0.7435 - auc: 0.8298 - val_loss: 0.4995 - val_accuracy: 0.7455 - val_auc: 0.8385\n",
      "Epoch 23/100\n",
      "763/763 [==============================] - 73s 96ms/step - loss: 0.5032 - accuracy: 0.7444 - auc: 0.8301 - val_loss: 0.4953 - val_accuracy: 0.7530 - val_auc: 0.8393\n",
      "Epoch 24/100\n",
      "763/763 [==============================] - 72s 95ms/step - loss: 0.5001 - accuracy: 0.7472 - auc: 0.8317 - val_loss: 0.4968 - val_accuracy: 0.7485 - val_auc: 0.8394\n",
      "Epoch 25/100\n",
      "763/763 [==============================] - 72s 94ms/step - loss: 0.4967 - accuracy: 0.7497 - auc: 0.8343 - val_loss: 0.4986 - val_accuracy: 0.7518 - val_auc: 0.8389\n",
      "Epoch 26/100\n",
      "763/763 [==============================] - 74s 97ms/step - loss: 0.4953 - accuracy: 0.7484 - auc: 0.8352 - val_loss: 0.4937 - val_accuracy: 0.7578 - val_auc: 0.8418\n",
      "Epoch 27/100\n",
      "763/763 [==============================] - 73s 96ms/step - loss: 0.4954 - accuracy: 0.7499 - auc: 0.8355 - val_loss: 0.4892 - val_accuracy: 0.7534 - val_auc: 0.8451\n",
      "Epoch 28/100\n",
      "763/763 [==============================] - 75s 98ms/step - loss: 0.4891 - accuracy: 0.7507 - auc: 0.8393 - val_loss: 0.4992 - val_accuracy: 0.7481 - val_auc: 0.8391\n",
      "Epoch 29/100\n",
      "763/763 [==============================] - 73s 95ms/step - loss: 0.4913 - accuracy: 0.7543 - auc: 0.8396 - val_loss: 0.4924 - val_accuracy: 0.7511 - val_auc: 0.8460\n",
      "Epoch 30/100\n",
      "763/763 [==============================] - 71s 94ms/step - loss: 0.4879 - accuracy: 0.7533 - auc: 0.8418 - val_loss: 0.4882 - val_accuracy: 0.7562 - val_auc: 0.8437\n",
      "Epoch 31/100\n",
      "763/763 [==============================] - 70s 91ms/step - loss: 0.4855 - accuracy: 0.7531 - auc: 0.8420 - val_loss: 0.4835 - val_accuracy: 0.7636 - val_auc: 0.8473\n",
      "Epoch 32/100\n",
      "763/763 [==============================] - 73s 95ms/step - loss: 0.8148 - accuracy: 0.7342 - auc: 0.8181 - val_loss: 0.5012 - val_accuracy: 0.7518 - val_auc: 0.8360\n",
      "Epoch 33/100\n",
      "763/763 [==============================] - 70s 92ms/step - loss: 0.5060 - accuracy: 0.7418 - auc: 0.8267 - val_loss: 0.5007 - val_accuracy: 0.7557 - val_auc: 0.8371\n",
      "Epoch 34/100\n",
      "763/763 [==============================] - 72s 94ms/step - loss: 0.5032 - accuracy: 0.7441 - auc: 0.8296 - val_loss: 0.4959 - val_accuracy: 0.7555 - val_auc: 0.8388\n",
      "Epoch 35/100\n",
      "763/763 [==============================] - 72s 95ms/step - loss: 0.5011 - accuracy: 0.7441 - auc: 0.8304 - val_loss: 0.4956 - val_accuracy: 0.7518 - val_auc: 0.8420\n",
      "Epoch 36/100\n",
      "763/763 [==============================] - 74s 97ms/step - loss: 0.4953 - accuracy: 0.7477 - auc: 0.8351 - val_loss: 0.4902 - val_accuracy: 0.7553 - val_auc: 0.8428\n",
      "Epoch 37/100\n",
      "763/763 [==============================] - 73s 96ms/step - loss: 0.4954 - accuracy: 0.7455 - auc: 0.8346 - val_loss: 0.4907 - val_accuracy: 0.7539 - val_auc: 0.8410\n",
      "Epoch 38/100\n",
      "763/763 [==============================] - 71s 93ms/step - loss: 0.4913 - accuracy: 0.7499 - auc: 0.8374 - val_loss: 0.4885 - val_accuracy: 0.7590 - val_auc: 0.8440\n",
      "Epoch 39/100\n",
      "763/763 [==============================] - 73s 96ms/step - loss: 0.4899 - accuracy: 0.7543 - auc: 0.8403 - val_loss: 0.4988 - val_accuracy: 0.7546 - val_auc: 0.8408\n",
      "Epoch 40/100\n",
      "763/763 [==============================] - 73s 96ms/step - loss: 0.4876 - accuracy: 0.7550 - auc: 0.8412 - val_loss: 0.4847 - val_accuracy: 0.7574 - val_auc: 0.8471\n",
      "Epoch 41/100\n",
      "763/763 [==============================] - 71s 93ms/step - loss: 0.4842 - accuracy: 0.7535 - auc: 0.8429 - val_loss: 0.4872 - val_accuracy: 0.7653 - val_auc: 0.8473\n",
      "Epoch 42/100\n",
      "763/763 [==============================] - 72s 95ms/step - loss: 0.4844 - accuracy: 0.7554 - auc: 0.8434 - val_loss: 0.4874 - val_accuracy: 0.7616 - val_auc: 0.8451\n",
      "Epoch 43/100\n",
      "763/763 [==============================] - 73s 95ms/step - loss: 0.4836 - accuracy: 0.7570 - auc: 0.8446 - val_loss: 0.4873 - val_accuracy: 0.7534 - val_auc: 0.8477\n",
      "Epoch 44/100\n",
      "763/763 [==============================] - 74s 97ms/step - loss: 0.4806 - accuracy: 0.7584 - auc: 0.8460 - val_loss: 0.4852 - val_accuracy: 0.7609 - val_auc: 0.8459\n",
      "Epoch 45/100\n",
      "763/763 [==============================] - 74s 97ms/step - loss: 0.4795 - accuracy: 0.7578 - auc: 0.8470 - val_loss: 0.4967 - val_accuracy: 0.7629 - val_auc: 0.8466\n",
      "Epoch 46/100\n",
      "763/763 [==============================] - 74s 97ms/step - loss: 0.4737 - accuracy: 0.7632 - auc: 0.8512 - val_loss: 0.4810 - val_accuracy: 0.7671 - val_auc: 0.8502\n",
      "Epoch 47/100\n",
      "763/763 [==============================] - 74s 97ms/step - loss: 0.4751 - accuracy: 0.7636 - auc: 0.8500 - val_loss: 0.4810 - val_accuracy: 0.7653 - val_auc: 0.8516\n",
      "Epoch 48/100\n",
      "763/763 [==============================] - 74s 97ms/step - loss: 0.4725 - accuracy: 0.7632 - auc: 0.8516 - val_loss: 0.4810 - val_accuracy: 0.7646 - val_auc: 0.8511\n",
      "Epoch 49/100\n",
      "763/763 [==============================] - 75s 99ms/step - loss: 0.4721 - accuracy: 0.7644 - auc: 0.8521 - val_loss: 0.4820 - val_accuracy: 0.7592 - val_auc: 0.8517\n",
      "Epoch 50/100\n",
      "763/763 [==============================] - 71s 93ms/step - loss: 0.4711 - accuracy: 0.7624 - auc: 0.8532 - val_loss: 0.4752 - val_accuracy: 0.7648 - val_auc: 0.8514\n",
      "Epoch 51/100\n",
      "763/763 [==============================] - 73s 96ms/step - loss: 0.4670 - accuracy: 0.7681 - auc: 0.8556 - val_loss: 0.4722 - val_accuracy: 0.7660 - val_auc: 0.8562\n",
      "Epoch 52/100\n",
      "763/763 [==============================] - 74s 97ms/step - loss: 0.8016 - accuracy: 0.7559 - auc: 0.8449 - val_loss: 0.5087 - val_accuracy: 0.7395 - val_auc: 0.8300\n",
      "Epoch 53/100\n",
      "763/763 [==============================] - 74s 97ms/step - loss: 0.5030 - accuracy: 0.7458 - auc: 0.8304 - val_loss: 0.4862 - val_accuracy: 0.7548 - val_auc: 0.8468\n",
      "Epoch 54/100\n",
      "763/763 [==============================] - 84s 110ms/step - loss: 22.1316 - accuracy: 0.7256 - auc: 0.8068 - val_loss: 0.5099 - val_accuracy: 0.7404 - val_auc: 0.8311\n",
      "Epoch 55/100\n",
      "763/763 [==============================] - 82s 108ms/step - loss: 0.5177 - accuracy: 0.7341 - auc: 0.8187 - val_loss: 0.5035 - val_accuracy: 0.7427 - val_auc: 0.8327\n",
      "Epoch 56/100\n",
      "763/763 [==============================] - 79s 104ms/step - loss: 0.5252 - accuracy: 0.7290 - auc: 0.8133 - val_loss: 0.5091 - val_accuracy: 0.7427 - val_auc: 0.8324\n",
      "135/135 [==============================] - 5s 32ms/step\n",
      "ROC-AUC: 0.8502750619687774\n",
      "Accuracy: 0.7671232876712328\n"
     ]
    },
    {
     "data": {
      "text/plain": [
       "<Axes: >"
      ]
     },
     "execution_count": 13,
     "metadata": {},
     "output_type": "execute_result"
    },
    {
     "data": {
      "image/png": "[encoded data removed]",
      "text/plain": [
       "<Figure size 640x480 with 2 Axes>"
      ]
     },
     "metadata": {},
     "output_type": "display_data"
    }
   ],
   "source": [
    "from keras.models import Model\n",
    "from keras.layers import Dense, LSTM, Dropout, Input, concatenate, Conv1D, MaxPooling1D\n",
    "from keras.callbacks import EarlyStopping\n",
    "from sklearn.metrics import roc_auc_score, accuracy_score\n",
    "\n",
    "# First branch for the CNN and LSTM\n",
    "cnn_input = Input(shape=(100, 1))\n",
    "cnn_output = Conv1D(filters=64, kernel_size=3, activation='relu')(cnn_input)\n",
    "cnn_output = MaxPooling1D(pool_size=2)(cnn_output)\n",
    "cnn_output = LSTM(units=256, return_sequences=True, activation='relu')(cnn_output)\n",
    "cnn_output = Dropout(0.2)(cnn_output)\n",
    "cnn_output = LSTM(units=128, activation='relu')(cnn_output)\n",
    "cnn_output = Dropout(0.2)(cnn_output)\n",
    "\n",
    "# Second branch for the dense layers\n",
    "dense_input = Input(shape=(5,))\n",
    "dense_output = Dense(units=64, activation='relu')(dense_input)\n",
    "dense_output = Dropout(0.2)(dense_output)\n",
    "\n",
    "# Concatenate the outputs from both branches\n",
    "combined = concatenate([cnn_output, dense_output])\n",
    "\n",
    "combined = Dense(units = 64, activation='relu')(combined)\n",
    "\n",
    "# Final output layer\n",
    "output = Dense(units=1, activation='sigmoid')(combined)\n",
    "\n",
    "# Create the model\n",
    "model = Model(inputs=[cnn_input, dense_input], outputs=output)\n",
    "model.compile(optimizer='adam', loss='binary_crossentropy', metrics=['accuracy', 'AUC'])\n",
    "\n",
    "# Define the early stopping callback\n",
    "early_stopping = EarlyStopping(monitor='val_accuracy', patience=10, restore_best_weights=True)\n",
    "\n",
    "# Train the model with both LSTM and dense input\n",
    "model.fit([X_train_vec, X_train], y_train, epochs=100, batch_size=32,\n",
    "          validation_data=([X_test_vec, X_test], y_test),\n",
    "          callbacks=[early_stopping])\n",
    "\n",
    "# Predict and evaluate\n",
    "y_pred = model.predict([X_test_vec, X_test])\n",
    "roc_auc = roc_auc_score(y_test, y_pred)\n",
    "\n",
    "y_pred_class = (y_pred > .5).astype(int)\n",
    "accuracy = accuracy_score(y_test,y_pred_class)\n",
    "print('ROC-AUC:', roc_auc)\n",
    "print('Accuracy:', accuracy)\n",
    "\n",
    "from sklearn.metrics import confusion_matrix\n",
    "import seaborn as sns\n",
    "\n",
    "matrix = confusion_matrix(y_test, y_pred_class)\n",
    "\n",
    "sns.heatmap(matrix/np.sum(matrix), annot=True, fmt='.2%', cmap='Blues')"
   ]
  },
  {
   "cell_type": "code",
   "execution_count": null,
   "id": "59dc53ff-9c21-466a-8e9f-f10b3833b0ee",
   "metadata": {},
   "outputs": [],
   "source": [
    "#model containing character length, number of capital words, upvotes and # of comments\n",
    "#Model 2 adds POS tagging and standard scaling of variables\n",
    "#Only left in proper nouns as others decreased performance"
   ]
  },
  {
   "cell_type": "code",
   "execution_count": null,
   "id": "77a3b55f-1112-4739-b2cf-337ce0205e57",
   "metadata": {},
   "outputs": [],
   "source": [
    "import numpy as np\n",
    "import pandas as pd\n",
    "from imblearn.over_sampling import RandomOverSampler\n",
    "from sklearn.utils import shuffle\n",
    "from sklearn.model_selection import train_test_split\n",
    "from gensim.models import Word2Vec\n",
    "\n",
    "#create extra variables for later\n",
    "df_other_var = create_other_var(df)\n",
    "\n",
    "#Create simple dataframe with only text and predictor\n",
    "df = df[['Title','Political Lean']] \n",
    "\n",
    "#dummy code predictor\n",
    "df['Political Lean'] = df['Political Lean'].replace('Liberal',1)\n",
    "df['Political Lean'] = df['Political Lean'].replace('Conservative',0)\n",
    "\n",
    "df = df.rename({'Political Lean':'y'},axis=1) #replace column name for simplicity\n",
    "\n",
    "df = pd.concat([df,df_other_var],axis=1)\n",
    "\n",
    "df = df[df['Length']>=15]\n",
    "\n",
    "#Split into X & y\n",
    "X = df.drop(['y'],axis=1)\n",
    "y = df['y']\n",
    "\n",
    "#oversample minority class\n",
    "oversample = RandomOverSampler(sampling_strategy='minority', random_state=13)\n",
    "X, y = oversample.fit_resample(X, y)"
   ]
  },
  {
   "cell_type": "code",
   "execution_count": null,
   "id": "eed9495c-923f-474f-9f74-dd19b9ac4074",
   "metadata": {},
   "outputs": [],
   "source": [
    "loss_df = X_test.merge(X[['Title']],left_index=True,right_index=True,how='left')\n",
    "loss_df = loss_df.merge(y,left_index=True,right_index=True,how='left')\n",
    "predictions = pd.DataFrame(y_pred, columns = ['prob'])\n",
    "loss_df = pd.concat([loss_df,predictions.set_index(loss_df.index)],axis=1)\n",
    "loss_df['prob'] = abs(loss_df['prob']-.5)"
   ]
  },
  {
   "cell_type": "code",
   "execution_count": null,
   "id": "83928af4-ce6f-427f-89a2-874bc4d50d9b",
   "metadata": {},
   "outputs": [],
   "source": [
    "loss_df.sort_values(by='prob').head(50)"
   ]
  },
  {
   "cell_type": "code",
   "execution_count": null,
   "id": "b4ea316a-dd0e-403b-941b-a187813ce181",
   "metadata": {},
   "outputs": [],
   "source": []
  }
 ],
 "metadata": {
  "kernelspec": {
   "display_name": "LHL_env",
   "language": "python",
   "name": "lhl_env"
  },
  "language_info": {
   "codemirror_mode": {
    "name": "ipython",
    "version": 3
   },
   "file_extension": ".py",
   "mimetype": "text/x-python",
   "name": "python",
   "nbconvert_exporter": "python",
   "pygments_lexer": "ipython3",
   "version": "3.10.9"
  }
 },
 "nbformat": 4,
 "nbformat_minor": 5
}
