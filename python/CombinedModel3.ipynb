{
 "cells": [
  {
   "cell_type": "code",
   "execution_count": 1,
   "id": "67233b73-f1a2-4cab-a395-0acf30fb4ff0",
   "metadata": {},
   "outputs": [
    {
     "name": "stderr",
     "output_type": "stream",
     "text": [
      "[nltk_data] Downloading package wordnet to\n",
      "[nltk_data]     C:\\Users\\Andrew\\AppData\\Roaming\\nltk_data...\n",
      "[nltk_data]   Package wordnet is already up-to-date!\n",
      "[nltk_data] Downloading package averaged_perceptron_tagger to\n",
      "[nltk_data]     C:\\Users\\Andrew\\AppData\\Roaming\\nltk_data...\n",
      "[nltk_data]   Package averaged_perceptron_tagger is already up-to-\n",
      "[nltk_data]       date!\n"
     ]
    }
   ],
   "source": [
    "import pandas as pd\n",
    "import numpy as np\n",
    "import string\n",
    "import nltk\n",
    "nltk.download('wordnet')\n",
    "nltk.download('averaged_perceptron_tagger')\n",
    "\n",
    "df = pd.read_csv(\"../data/fulldata.csv\")"
   ]
  },
  {
   "cell_type": "code",
   "execution_count": 2,
   "id": "a16c2532-c2f2-48f7-84f6-7f9e0049ea0b",
   "metadata": {},
   "outputs": [],
   "source": [
    "from Cleaning import lowercase, unpunctuate, tokenize, lemmatize, count_capitalized_words, create_other_var, cleaning_and_prep, stack_vectors"
   ]
  },
  {
   "cell_type": "code",
   "execution_count": 3,
   "id": "bb47f54a-ec57-4308-a10d-62853364b7f4",
   "metadata": {},
   "outputs": [
    {
     "name": "stderr",
     "output_type": "stream",
     "text": [
      "C:\\Users\\Andrew\\Documents\\LHL\\PoliticalNLP\\python\\Cleaning.py:116: SettingWithCopyWarning: \n",
      "A value is trying to be set on a copy of a slice from a DataFrame.\n",
      "Try using .loc[row_indexer,col_indexer] = value instead\n",
      "\n",
      "See the caveats in the documentation: https://pandas.pydata.org/pandas-docs/stable/user_guide/indexing.html#returning-a-view-versus-a-copy\n",
      "  df['Political Lean'] = df['Political Lean'].replace('Liberal',1)\n",
      "C:\\Users\\Andrew\\Documents\\LHL\\PoliticalNLP\\python\\Cleaning.py:117: SettingWithCopyWarning: \n",
      "A value is trying to be set on a copy of a slice from a DataFrame.\n",
      "Try using .loc[row_indexer,col_indexer] = value instead\n",
      "\n",
      "See the caveats in the documentation: https://pandas.pydata.org/pandas-docs/stable/user_guide/indexing.html#returning-a-view-versus-a-copy\n",
      "  df['Political Lean'] = df['Political Lean'].replace('Conservative',0)\n"
     ]
    }
   ],
   "source": [
    "X_train, X_test, y_train, y_test = cleaning_and_prep(df)"
   ]
  },
  {
   "cell_type": "code",
   "execution_count": 4,
   "id": "4c07ff43-bee3-4c11-9e29-29c25764a85d",
   "metadata": {},
   "outputs": [],
   "source": [
    "X_train_vec, X_test_vec, X_train, X_test = stack_vectors(X_train,X_test)"
   ]
  },
  {
   "cell_type": "code",
   "execution_count": 6,
   "id": "83645586-d576-4de0-ae1e-d3897c0b206b",
   "metadata": {},
   "outputs": [
    {
     "name": "stdout",
     "output_type": "stream",
     "text": [
      "Epoch 1/100\n",
      "441/441 [==============================] - 15s 23ms/step - loss: 0.6547 - accuracy: 0.6027 - auc: 0.6497 - val_loss: 0.6168 - val_accuracy: 0.6413 - val_auc: 0.7253\n",
      "Epoch 2/100\n",
      "441/441 [==============================] - 10s 22ms/step - loss: 0.6143 - accuracy: 0.6546 - auc: 0.7193 - val_loss: 0.5800 - val_accuracy: 0.6828 - val_auc: 0.7839\n",
      "Epoch 3/100\n",
      "441/441 [==============================] - 9s 21ms/step - loss: 0.5882 - accuracy: 0.6711 - auc: 0.7479 - val_loss: 0.5651 - val_accuracy: 0.7157 - val_auc: 0.7964\n",
      "Epoch 4/100\n",
      "441/441 [==============================] - 10s 22ms/step - loss: 0.5780 - accuracy: 0.6796 - auc: 0.7584 - val_loss: 0.5864 - val_accuracy: 0.6723 - val_auc: 0.7924\n",
      "Epoch 5/100\n",
      "441/441 [==============================] - 10s 24ms/step - loss: 0.5665 - accuracy: 0.6851 - auc: 0.7666 - val_loss: 0.5662 - val_accuracy: 0.7089 - val_auc: 0.7998\n",
      "Epoch 6/100\n",
      "441/441 [==============================] - 10s 22ms/step - loss: 0.5640 - accuracy: 0.6905 - auc: 0.7720 - val_loss: 0.5518 - val_accuracy: 0.7109 - val_auc: 0.7980\n",
      "Epoch 7/100\n",
      "441/441 [==============================] - 10s 22ms/step - loss: 0.5600 - accuracy: 0.6966 - auc: 0.7787 - val_loss: 0.5541 - val_accuracy: 0.6984 - val_auc: 0.7974\n",
      "Epoch 8/100\n",
      "441/441 [==============================] - 9s 21ms/step - loss: 0.5519 - accuracy: 0.7030 - auc: 0.7849 - val_loss: 0.5483 - val_accuracy: 0.7073 - val_auc: 0.8066\n",
      "Epoch 9/100\n",
      "441/441 [==============================] - 10s 22ms/step - loss: 0.5524 - accuracy: 0.7020 - auc: 0.7837 - val_loss: 0.5451 - val_accuracy: 0.7262 - val_auc: 0.8058\n",
      "Epoch 10/100\n",
      "441/441 [==============================] - 10s 22ms/step - loss: 0.5488 - accuracy: 0.7034 - auc: 0.7870 - val_loss: 0.5434 - val_accuracy: 0.7230 - val_auc: 0.8072\n",
      "Epoch 11/100\n",
      "441/441 [==============================] - 10s 22ms/step - loss: 0.5475 - accuracy: 0.7079 - auc: 0.7897 - val_loss: 0.5454 - val_accuracy: 0.7053 - val_auc: 0.8086\n",
      "Epoch 12/100\n",
      "441/441 [==============================] - 9s 21ms/step - loss: 0.5432 - accuracy: 0.7098 - auc: 0.7949 - val_loss: 0.5434 - val_accuracy: 0.7266 - val_auc: 0.8064\n",
      "Epoch 13/100\n",
      "441/441 [==============================] - 9s 21ms/step - loss: 0.5447 - accuracy: 0.7076 - auc: 0.7913 - val_loss: 0.5426 - val_accuracy: 0.7121 - val_auc: 0.8056\n",
      "Epoch 14/100\n",
      "441/441 [==============================] - 9s 21ms/step - loss: 0.5444 - accuracy: 0.7091 - auc: 0.7941 - val_loss: 0.5365 - val_accuracy: 0.7157 - val_auc: 0.8081\n",
      "Epoch 15/100\n",
      "441/441 [==============================] - 10s 22ms/step - loss: 0.5402 - accuracy: 0.7108 - auc: 0.7954 - val_loss: 0.5476 - val_accuracy: 0.7133 - val_auc: 0.8043\n",
      "Epoch 16/100\n",
      "441/441 [==============================] - 9s 21ms/step - loss: 0.5388 - accuracy: 0.7095 - auc: 0.7967 - val_loss: 0.5357 - val_accuracy: 0.7282 - val_auc: 0.8122\n",
      "Epoch 17/100\n",
      "441/441 [==============================] - 10s 22ms/step - loss: 0.5363 - accuracy: 0.7132 - auc: 0.7992 - val_loss: 0.5348 - val_accuracy: 0.7298 - val_auc: 0.8125\n",
      "Epoch 18/100\n",
      "441/441 [==============================] - 10s 22ms/step - loss: 0.5347 - accuracy: 0.7113 - auc: 0.8003 - val_loss: 0.5366 - val_accuracy: 0.7242 - val_auc: 0.8074\n",
      "Epoch 19/100\n",
      "441/441 [==============================] - 10s 22ms/step - loss: 0.5336 - accuracy: 0.7159 - auc: 0.8017 - val_loss: 0.5324 - val_accuracy: 0.7370 - val_auc: 0.8136\n",
      "Epoch 20/100\n",
      "441/441 [==============================] - 9s 21ms/step - loss: 0.5327 - accuracy: 0.7214 - auc: 0.8024 - val_loss: 0.5359 - val_accuracy: 0.7254 - val_auc: 0.8130\n",
      "Epoch 21/100\n",
      "441/441 [==============================] - 9s 21ms/step - loss: 0.5302 - accuracy: 0.7186 - auc: 0.8041 - val_loss: 0.5280 - val_accuracy: 0.7346 - val_auc: 0.8196\n",
      "Epoch 22/100\n",
      "441/441 [==============================] - 9s 21ms/step - loss: 0.5343 - accuracy: 0.7147 - auc: 0.8012 - val_loss: 0.5265 - val_accuracy: 0.7290 - val_auc: 0.8157\n",
      "Epoch 23/100\n",
      "441/441 [==============================] - 9s 21ms/step - loss: 0.5275 - accuracy: 0.7191 - auc: 0.8070 - val_loss: 0.5283 - val_accuracy: 0.7338 - val_auc: 0.8179\n",
      "Epoch 24/100\n",
      "441/441 [==============================] - 10s 22ms/step - loss: 0.5296 - accuracy: 0.7191 - auc: 0.8060 - val_loss: 0.5254 - val_accuracy: 0.7354 - val_auc: 0.8187\n",
      "Epoch 25/100\n",
      "441/441 [==============================] - 10s 22ms/step - loss: 0.5297 - accuracy: 0.7163 - auc: 0.8046 - val_loss: 0.5295 - val_accuracy: 0.7222 - val_auc: 0.8129\n",
      "Epoch 26/100\n",
      "441/441 [==============================] - 9s 21ms/step - loss: 0.5240 - accuracy: 0.7226 - auc: 0.8095 - val_loss: 0.5261 - val_accuracy: 0.7370 - val_auc: 0.8193\n",
      "Epoch 27/100\n",
      "441/441 [==============================] - 9s 21ms/step - loss: 0.5224 - accuracy: 0.7247 - auc: 0.8120 - val_loss: 0.5245 - val_accuracy: 0.7278 - val_auc: 0.8178\n",
      "Epoch 28/100\n",
      "441/441 [==============================] - 10s 22ms/step - loss: 0.5252 - accuracy: 0.7201 - auc: 0.8078 - val_loss: 0.5206 - val_accuracy: 0.7334 - val_auc: 0.8224\n",
      "Epoch 29/100\n",
      "441/441 [==============================] - 10s 22ms/step - loss: 0.5245 - accuracy: 0.7207 - auc: 0.8093 - val_loss: 0.5224 - val_accuracy: 0.7362 - val_auc: 0.8214\n",
      "78/78 [==============================] - 1s 4ms/step\n",
      "ROC-AUC: 0.8136090541632983\n",
      "Accuracy: 0.7370325693606755\n"
     ]
    },
    {
     "data": {
      "text/plain": [
       "<Axes: >"
      ]
     },
     "execution_count": 6,
     "metadata": {},
     "output_type": "execute_result"
    },
    {
     "data": {
      "image/png": "[encoded data removed]",
      "text/plain": [
       "<Figure size 640x480 with 2 Axes>"
      ]
     },
     "metadata": {},
     "output_type": "display_data"
    }
   ],
   "source": [
    "from keras.models import Model\n",
    "from keras.layers import Dense, LSTM, Dropout, Input, concatenate\n",
    "from keras.callbacks import EarlyStopping\n",
    "from sklearn.metrics import roc_auc_score, accuracy_score\n",
    "\n",
    "# First branch for the LSTM\n",
    "lstm_input = Input(shape=(1, 100))\n",
    "lstm_output = LSTM(units=256, return_sequences=True, activation='relu')(lstm_input)\n",
    "lstm_output = Dropout(0.2)(lstm_output)\n",
    "lstm_output = LSTM(units=256, return_sequences=True, activation='relu')(lstm_output)\n",
    "lstm_output = Dropout(0.2)(lstm_output)\n",
    "lstm_output = LSTM(units=128, return_sequences=True, activation='relu')(lstm_output)\n",
    "lstm_output = Dropout(0.2)(lstm_output)\n",
    "lstm_output = LSTM(units=64, activation='relu')(lstm_output)\n",
    "lstm_output = Dropout(0.2)(lstm_output)\n",
    "\n",
    "# Second branch for the dense layers\n",
    "dense_input = Input(shape=(6,))\n",
    "dense_output = Dense(units=64, activation='relu')(dense_input)\n",
    "dense_output = Dropout(0.2)(dense_output)\n",
    "dense_output = Dense(units=32, activation='relu')(dense_output)\n",
    "dense_output = Dropout(0.2)(dense_output)\n",
    "\n",
    "# Concatenate the outputs from both branches\n",
    "combined = concatenate([lstm_output, dense_output])\n",
    "\n",
    "combined = Dense(units = 64, activation='relu')(combined)\n",
    "\n",
    "# Final output layer\n",
    "output = Dense(units=1, activation='sigmoid')(combined)\n",
    "\n",
    "# Create the model\n",
    "model = Model(inputs=[lstm_input, dense_input], outputs=output)\n",
    "model.compile(optimizer='adam', loss='binary_crossentropy', metrics=['accuracy', 'AUC'])\n",
    "\n",
    "# Define the early stopping callback\n",
    "early_stopping = EarlyStopping(monitor='val_accuracy', patience=10, restore_best_weights=True)\n",
    "\n",
    "# Train the model with both LSTM and dense input\n",
    "model.fit([X_train_vec, X_train], y_train, epochs=100, batch_size=32,\n",
    "          validation_data=([X_test_vec, X_test], y_test),\n",
    "          callbacks=[early_stopping])\n",
    "\n",
    "# Predict and evaluate\n",
    "y_pred = model.predict([X_test_vec, X_test])\n",
    "roc_auc = roc_auc_score(y_test, y_pred)\n",
    "\n",
    "y_pred_class = (y_pred > .5).astype(int)\n",
    "accuracy = accuracy_score(y_test,y_pred_class)\n",
    "\n",
    "print('ROC-AUC:', roc_auc)\n",
    "print('Accuracy:', accuracy)\n",
    "\n",
    "from sklearn.metrics import confusion_matrix\n",
    "import seaborn as sns\n",
    "\n",
    "matrix = confusion_matrix(y_test, y_pred_class)\n",
    "\n",
    "sns.heatmap(matrix/np.sum(matrix), annot=True, fmt='.2%', cmap='Blues')"
   ]
  },
  {
   "cell_type": "code",
   "execution_count": null,
   "id": "59dc53ff-9c21-466a-8e9f-f10b3833b0ee",
   "metadata": {},
   "outputs": [],
   "source": [
    "#model containing character length, number of capital words, upvotes and # of comments\n",
    "#Model 2 adds POS tagging and standard scaling of variables\n",
    "#Only left in proper nouns as others decreased performance\n",
    "#Model 3 adds number of words (net decrease)"
   ]
  },
  {
   "cell_type": "code",
   "execution_count": null,
   "id": "77a3b55f-1112-4739-b2cf-337ce0205e57",
   "metadata": {},
   "outputs": [],
   "source": [
    "import numpy as np\n",
    "import pandas as pd\n",
    "from imblearn.over_sampling import RandomOverSampler\n",
    "from sklearn.utils import shuffle\n",
    "from sklearn.model_selection import train_test_split\n",
    "from gensim.models import Word2Vec\n",
    "\n",
    "#create extra variables for later\n",
    "df_other_var = create_other_var(df)\n",
    "\n",
    "#Create simple dataframe with only text and predictor\n",
    "df = df[['Title','Political Lean']] \n",
    "\n",
    "#dummy code predictor\n",
    "df['Political Lean'] = df['Political Lean'].replace('Liberal',1)\n",
    "df['Political Lean'] = df['Political Lean'].replace('Conservative',0)\n",
    "\n",
    "df = df.rename({'Political Lean':'y'},axis=1) #replace column name for simplicity\n",
    "\n",
    "df = pd.concat([df,df_other_var],axis=1)\n",
    "\n",
    "df = df[df['Length']>=15]\n",
    "\n",
    "#Split into X & y\n",
    "X = df.drop(['y'],axis=1)\n",
    "y = df['y']\n",
    "\n",
    "#oversample minority class\n",
    "oversample = RandomOverSampler(sampling_strategy='minority', random_state=13)\n",
    "X, y = oversample.fit_resample(X, y)"
   ]
  },
  {
   "cell_type": "code",
   "execution_count": null,
   "id": "eed9495c-923f-474f-9f74-dd19b9ac4074",
   "metadata": {},
   "outputs": [],
   "source": [
    "loss_df = X_test.merge(X[['Title']],left_index=True,right_index=True,how='left')\n",
    "loss_df = loss_df.merge(y,left_index=True,right_index=True,how='left')\n",
    "predictions = pd.DataFrame(y_pred, columns = ['prob'])\n",
    "loss_df = pd.concat([loss_df,predictions.set_index(loss_df.index)],axis=1)\n",
    "loss_df['prob'] = abs(loss_df['prob']-.5)"
   ]
  },
  {
   "cell_type": "code",
   "execution_count": null,
   "id": "83928af4-ce6f-427f-89a2-874bc4d50d9b",
   "metadata": {},
   "outputs": [],
   "source": [
    "loss_df.sort_values(by='prob').head(50)"
   ]
  },
  {
   "cell_type": "code",
   "execution_count": null,
   "id": "b4ea316a-dd0e-403b-941b-a187813ce181",
   "metadata": {},
   "outputs": [],
   "source": []
  }
 ],
 "metadata": {
  "kernelspec": {
   "display_name": "LHL_env",
   "language": "python",
   "name": "lhl_env"
  },
  "language_info": {
   "codemirror_mode": {
    "name": "ipython",
    "version": 3
   },
   "file_extension": ".py",
   "mimetype": "text/x-python",
   "name": "python",
   "nbconvert_exporter": "python",
   "pygments_lexer": "ipython3",
   "version": "3.10.9"
  }
 },
 "nbformat": 4,
 "nbformat_minor": 5
}
