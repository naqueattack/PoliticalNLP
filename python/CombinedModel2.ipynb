{
 "cells": [
  {
   "cell_type": "code",
   "execution_count": 1,
   "id": "67233b73-f1a2-4cab-a395-0acf30fb4ff0",
   "metadata": {},
   "outputs": [
    {
     "name": "stderr",
     "output_type": "stream",
     "text": [
      "[nltk_data] Downloading package wordnet to\n",
      "[nltk_data]     C:\\Users\\Andrew\\AppData\\Roaming\\nltk_data...\n",
      "[nltk_data]   Package wordnet is already up-to-date!\n",
      "[nltk_data] Downloading package averaged_perceptron_tagger to\n",
      "[nltk_data]     C:\\Users\\Andrew\\AppData\\Roaming\\nltk_data...\n",
      "[nltk_data]   Package averaged_perceptron_tagger is already up-to-\n",
      "[nltk_data]       date!\n"
     ]
    }
   ],
   "source": [
    "import pandas as pd\n",
    "import numpy as np\n",
    "import string\n",
    "import nltk\n",
    "nltk.download('wordnet')\n",
    "nltk.download('averaged_perceptron_tagger')\n",
    "\n",
    "df = pd.read_csv(\"../data/fulldata.csv\")"
   ]
  },
  {
   "cell_type": "code",
   "execution_count": 2,
   "id": "a16c2532-c2f2-48f7-84f6-7f9e0049ea0b",
   "metadata": {},
   "outputs": [],
   "source": [
    "from Cleaning import lowercase, unpunctuate, tokenize, lemmatize, count_capitalized_words, create_other_var, cleaning_and_prep, stack_vectors"
   ]
  },
  {
   "cell_type": "code",
   "execution_count": 3,
   "id": "bb47f54a-ec57-4308-a10d-62853364b7f4",
   "metadata": {},
   "outputs": [
    {
     "name": "stderr",
     "output_type": "stream",
     "text": [
      "C:\\Users\\Andrew\\Documents\\LHL\\PoliticalNLP\\python\\Cleaning.py:116: SettingWithCopyWarning: \n",
      "A value is trying to be set on a copy of a slice from a DataFrame.\n",
      "Try using .loc[row_indexer,col_indexer] = value instead\n",
      "\n",
      "See the caveats in the documentation: https://pandas.pydata.org/pandas-docs/stable/user_guide/indexing.html#returning-a-view-versus-a-copy\n",
      "  df['Political Lean'] = df['Political Lean'].replace('Liberal',1)\n",
      "C:\\Users\\Andrew\\Documents\\LHL\\PoliticalNLP\\python\\Cleaning.py:117: SettingWithCopyWarning: \n",
      "A value is trying to be set on a copy of a slice from a DataFrame.\n",
      "Try using .loc[row_indexer,col_indexer] = value instead\n",
      "\n",
      "See the caveats in the documentation: https://pandas.pydata.org/pandas-docs/stable/user_guide/indexing.html#returning-a-view-versus-a-copy\n",
      "  df['Political Lean'] = df['Political Lean'].replace('Conservative',0)\n"
     ]
    }
   ],
   "source": [
    "X_train, X_test, y_train, y_test = cleaning_and_prep(df)"
   ]
  },
  {
   "cell_type": "code",
   "execution_count": 4,
   "id": "4c07ff43-bee3-4c11-9e29-29c25764a85d",
   "metadata": {},
   "outputs": [],
   "source": [
    "X_train_vec, X_test_vec, X_train, X_test = stack_vectors(X_train,X_test)"
   ]
  },
  {
   "cell_type": "code",
   "execution_count": 5,
   "id": "83645586-d576-4de0-ae1e-d3897c0b206b",
   "metadata": {},
   "outputs": [
    {
     "name": "stdout",
     "output_type": "stream",
     "text": [
      "Epoch 1/100\n",
      "441/441 [==============================] - 15s 24ms/step - loss: 0.6541 - accuracy: 0.6064 - auc: 0.6541 - val_loss: 0.5893 - val_accuracy: 0.6799 - val_auc: 0.7582\n",
      "Epoch 2/100\n",
      "441/441 [==============================] - 9s 21ms/step - loss: 0.6032 - accuracy: 0.6668 - auc: 0.7326 - val_loss: 0.5587 - val_accuracy: 0.6996 - val_auc: 0.7932\n",
      "Epoch 3/100\n",
      "441/441 [==============================] - 9s 21ms/step - loss: 0.5837 - accuracy: 0.6757 - auc: 0.7526 - val_loss: 0.5485 - val_accuracy: 0.7081 - val_auc: 0.7942\n",
      "Epoch 4/100\n",
      "441/441 [==============================] - 9s 21ms/step - loss: 0.5713 - accuracy: 0.6836 - auc: 0.7647 - val_loss: 0.5509 - val_accuracy: 0.6844 - val_auc: 0.7977\n",
      "Epoch 5/100\n",
      "441/441 [==============================] - 10s 23ms/step - loss: 0.5629 - accuracy: 0.6949 - auc: 0.7747 - val_loss: 0.5465 - val_accuracy: 0.7073 - val_auc: 0.8040\n",
      "Epoch 6/100\n",
      "441/441 [==============================] - 10s 24ms/step - loss: 0.5624 - accuracy: 0.6910 - auc: 0.7740 - val_loss: 0.5411 - val_accuracy: 0.6980 - val_auc: 0.8034\n",
      "Epoch 7/100\n",
      "441/441 [==============================] - 10s 24ms/step - loss: 0.5595 - accuracy: 0.6965 - auc: 0.7783 - val_loss: 0.5344 - val_accuracy: 0.7153 - val_auc: 0.8087\n",
      "Epoch 8/100\n",
      "441/441 [==============================] - 10s 22ms/step - loss: 0.5552 - accuracy: 0.7042 - auc: 0.7823 - val_loss: 0.5366 - val_accuracy: 0.7125 - val_auc: 0.8043\n",
      "Epoch 9/100\n",
      "441/441 [==============================] - 10s 22ms/step - loss: 0.5543 - accuracy: 0.6993 - auc: 0.7833 - val_loss: 0.5273 - val_accuracy: 0.7270 - val_auc: 0.8110\n",
      "Epoch 10/100\n",
      "441/441 [==============================] - 9s 21ms/step - loss: 0.5501 - accuracy: 0.7096 - auc: 0.7893 - val_loss: 0.5421 - val_accuracy: 0.7141 - val_auc: 0.8105\n",
      "Epoch 11/100\n",
      "441/441 [==============================] - 10s 22ms/step - loss: 0.5443 - accuracy: 0.7133 - auc: 0.7930 - val_loss: 0.5287 - val_accuracy: 0.7153 - val_auc: 0.8167\n",
      "Epoch 12/100\n",
      "441/441 [==============================] - 10s 22ms/step - loss: 0.5450 - accuracy: 0.7124 - auc: 0.7937 - val_loss: 0.5258 - val_accuracy: 0.7250 - val_auc: 0.8136\n",
      "Epoch 13/100\n",
      "441/441 [==============================] - 10s 22ms/step - loss: 0.5443 - accuracy: 0.7102 - auc: 0.7948 - val_loss: 0.5285 - val_accuracy: 0.7133 - val_auc: 0.8170\n",
      "Epoch 14/100\n",
      "441/441 [==============================] - 10s 22ms/step - loss: 0.5417 - accuracy: 0.7145 - auc: 0.7965 - val_loss: 0.5200 - val_accuracy: 0.7346 - val_auc: 0.8199\n",
      "Epoch 15/100\n",
      "441/441 [==============================] - 10s 22ms/step - loss: 0.5367 - accuracy: 0.7188 - auc: 0.7999 - val_loss: 0.5196 - val_accuracy: 0.7238 - val_auc: 0.8183\n",
      "Epoch 16/100\n",
      "441/441 [==============================] - 9s 22ms/step - loss: 0.5373 - accuracy: 0.7140 - auc: 0.7998 - val_loss: 0.5220 - val_accuracy: 0.7270 - val_auc: 0.8171\n",
      "Epoch 17/100\n",
      "441/441 [==============================] - 10s 22ms/step - loss: 0.5376 - accuracy: 0.7144 - auc: 0.7987 - val_loss: 0.5282 - val_accuracy: 0.7097 - val_auc: 0.8195\n",
      "Epoch 18/100\n",
      "441/441 [==============================] - 10s 22ms/step - loss: 0.5321 - accuracy: 0.7222 - auc: 0.8040 - val_loss: 0.5144 - val_accuracy: 0.7314 - val_auc: 0.8224\n",
      "Epoch 19/100\n",
      "441/441 [==============================] - 10s 22ms/step - loss: 0.5333 - accuracy: 0.7210 - auc: 0.8032 - val_loss: 0.5164 - val_accuracy: 0.7330 - val_auc: 0.8235\n",
      "Epoch 20/100\n",
      "441/441 [==============================] - 10s 22ms/step - loss: 0.5340 - accuracy: 0.7130 - auc: 0.8024 - val_loss: 0.5163 - val_accuracy: 0.7326 - val_auc: 0.8203\n",
      "Epoch 21/100\n",
      "441/441 [==============================] - 10s 22ms/step - loss: 0.5307 - accuracy: 0.7199 - auc: 0.8045 - val_loss: 0.5219 - val_accuracy: 0.7242 - val_auc: 0.8202\n",
      "Epoch 22/100\n",
      "441/441 [==============================] - 10s 22ms/step - loss: 0.5329 - accuracy: 0.7203 - auc: 0.8051 - val_loss: 0.5156 - val_accuracy: 0.7218 - val_auc: 0.8226\n",
      "Epoch 23/100\n",
      "441/441 [==============================] - 19s 43ms/step - loss: 0.5313 - accuracy: 0.7213 - auc: 0.8046 - val_loss: 0.5185 - val_accuracy: 0.7334 - val_auc: 0.8219\n",
      "Epoch 24/100\n",
      "441/441 [==============================] - 10s 23ms/step - loss: 0.5293 - accuracy: 0.7220 - auc: 0.8075 - val_loss: 0.5186 - val_accuracy: 0.7354 - val_auc: 0.8222\n",
      "Epoch 25/100\n",
      "441/441 [==============================] - 10s 22ms/step - loss: 0.5291 - accuracy: 0.7221 - auc: 0.8060 - val_loss: 0.5186 - val_accuracy: 0.7258 - val_auc: 0.8177\n",
      "Epoch 26/100\n",
      "441/441 [==============================] - 10s 22ms/step - loss: 0.5247 - accuracy: 0.7240 - auc: 0.8104 - val_loss: 0.5091 - val_accuracy: 0.7394 - val_auc: 0.8289\n",
      "Epoch 27/100\n",
      "441/441 [==============================] - 10s 22ms/step - loss: 0.5270 - accuracy: 0.7235 - auc: 0.8090 - val_loss: 0.5058 - val_accuracy: 0.7374 - val_auc: 0.8308\n",
      "Epoch 28/100\n",
      "441/441 [==============================] - 10s 22ms/step - loss: 0.5229 - accuracy: 0.7243 - auc: 0.8118 - val_loss: 0.5159 - val_accuracy: 0.7294 - val_auc: 0.8256\n",
      "Epoch 29/100\n",
      "441/441 [==============================] - 10s 22ms/step - loss: 0.5259 - accuracy: 0.7240 - auc: 0.8099 - val_loss: 0.5113 - val_accuracy: 0.7342 - val_auc: 0.8259\n",
      "Epoch 30/100\n",
      "441/441 [==============================] - 10s 22ms/step - loss: 0.5243 - accuracy: 0.7230 - auc: 0.8101 - val_loss: 0.5126 - val_accuracy: 0.7342 - val_auc: 0.8267\n",
      "Epoch 31/100\n",
      "441/441 [==============================] - 10s 23ms/step - loss: 0.5220 - accuracy: 0.7257 - auc: 0.8117 - val_loss: 0.5083 - val_accuracy: 0.7326 - val_auc: 0.8265\n",
      "Epoch 32/100\n",
      "441/441 [==============================] - 9s 21ms/step - loss: 0.5231 - accuracy: 0.7264 - auc: 0.8113 - val_loss: 0.5109 - val_accuracy: 0.7290 - val_auc: 0.8267\n",
      "Epoch 33/100\n",
      "441/441 [==============================] - 10s 22ms/step - loss: 0.5239 - accuracy: 0.7206 - auc: 0.8100 - val_loss: 0.5100 - val_accuracy: 0.7358 - val_auc: 0.8267\n",
      "Epoch 34/100\n",
      "441/441 [==============================] - 10s 22ms/step - loss: 0.5233 - accuracy: 0.7240 - auc: 0.8119 - val_loss: 0.5126 - val_accuracy: 0.7415 - val_auc: 0.8290\n",
      "Epoch 35/100\n",
      "441/441 [==============================] - 10s 22ms/step - loss: 0.5217 - accuracy: 0.7270 - auc: 0.8130 - val_loss: 0.5096 - val_accuracy: 0.7423 - val_auc: 0.8261\n",
      "Epoch 36/100\n",
      "441/441 [==============================] - 10s 22ms/step - loss: 0.5200 - accuracy: 0.7271 - auc: 0.8140 - val_loss: 0.5185 - val_accuracy: 0.7318 - val_auc: 0.8204\n",
      "Epoch 37/100\n",
      "441/441 [==============================] - 10s 22ms/step - loss: 0.5213 - accuracy: 0.7255 - auc: 0.8126 - val_loss: 0.5056 - val_accuracy: 0.7439 - val_auc: 0.8286\n",
      "Epoch 38/100\n",
      "441/441 [==============================] - 10s 22ms/step - loss: 0.5186 - accuracy: 0.7284 - auc: 0.8154 - val_loss: 0.5171 - val_accuracy: 0.7234 - val_auc: 0.8259\n",
      "Epoch 39/100\n",
      "441/441 [==============================] - 10s 22ms/step - loss: 0.5196 - accuracy: 0.7265 - auc: 0.8153 - val_loss: 0.5181 - val_accuracy: 0.7330 - val_auc: 0.8289\n",
      "Epoch 40/100\n",
      "441/441 [==============================] - 10s 22ms/step - loss: 0.5171 - accuracy: 0.7293 - auc: 0.8168 - val_loss: 0.5104 - val_accuracy: 0.7411 - val_auc: 0.8299\n",
      "Epoch 41/100\n",
      "441/441 [==============================] - 10s 22ms/step - loss: 0.5204 - accuracy: 0.7290 - auc: 0.8147 - val_loss: 0.5130 - val_accuracy: 0.7366 - val_auc: 0.8256\n",
      "Epoch 42/100\n",
      "441/441 [==============================] - 10s 22ms/step - loss: 0.5175 - accuracy: 0.7274 - auc: 0.8164 - val_loss: 0.5080 - val_accuracy: 0.7423 - val_auc: 0.8303\n",
      "Epoch 43/100\n",
      "441/441 [==============================] - 10s 23ms/step - loss: 0.5159 - accuracy: 0.7294 - auc: 0.8175 - val_loss: 0.5152 - val_accuracy: 0.7294 - val_auc: 0.8311\n",
      "Epoch 44/100\n",
      "441/441 [==============================] - 10s 22ms/step - loss: 0.5163 - accuracy: 0.7307 - auc: 0.8174 - val_loss: 0.5156 - val_accuracy: 0.7298 - val_auc: 0.8294\n",
      "Epoch 45/100\n",
      "441/441 [==============================] - 10s 22ms/step - loss: 0.5149 - accuracy: 0.7282 - auc: 0.8187 - val_loss: 0.5079 - val_accuracy: 0.7411 - val_auc: 0.8303\n",
      "Epoch 46/100\n",
      "441/441 [==============================] - 10s 22ms/step - loss: 0.5171 - accuracy: 0.7278 - auc: 0.8161 - val_loss: 0.5113 - val_accuracy: 0.7407 - val_auc: 0.8291\n",
      "Epoch 47/100\n",
      "441/441 [==============================] - 10s 22ms/step - loss: 0.5140 - accuracy: 0.7323 - auc: 0.8192 - val_loss: 0.5094 - val_accuracy: 0.7310 - val_auc: 0.8296\n",
      "78/78 [==============================] - 1s 4ms/step\n",
      "ROC-AUC: 0.8283912830875029\n",
      "Accuracy: 0.7438681141938078\n"
     ]
    },
    {
     "data": {
      "text/plain": [
       "<Axes: >"
      ]
     },
     "execution_count": 5,
     "metadata": {},
     "output_type": "execute_result"
    },
    {
     "data": {
      "image/png": "[encoded data removed]",
      "text/plain": [
       "<Figure size 640x480 with 2 Axes>"
      ]
     },
     "metadata": {},
     "output_type": "display_data"
    }
   ],
   "source": [
    "from keras.models import Model\n",
    "from keras.layers import Dense, LSTM, Dropout, Input, concatenate\n",
    "from keras.callbacks import EarlyStopping\n",
    "from sklearn.metrics import roc_auc_score, accuracy_score\n",
    "\n",
    "# First branch for the LSTM\n",
    "lstm_input = Input(shape=(1, 100))\n",
    "lstm_output = LSTM(units=256, return_sequences=True, activation='relu')(lstm_input)\n",
    "lstm_output = Dropout(0.2)(lstm_output)\n",
    "lstm_output = LSTM(units=256, return_sequences=True, activation='relu')(lstm_output)\n",
    "lstm_output = Dropout(0.2)(lstm_output)\n",
    "lstm_output = LSTM(units=128, return_sequences=True, activation='relu')(lstm_output)\n",
    "lstm_output = Dropout(0.2)(lstm_output)\n",
    "lstm_output = LSTM(units=64, activation='relu')(lstm_output)\n",
    "lstm_output = Dropout(0.2)(lstm_output)\n",
    "\n",
    "# Second branch for the dense layers\n",
    "dense_input = Input(shape=(5,))\n",
    "dense_output = Dense(units=64, activation='relu')(dense_input)\n",
    "dense_output = Dropout(0.2)(dense_output)\n",
    "dense_output = Dense(units=32, activation='relu')(dense_output)\n",
    "dense_output = Dropout(0.2)(dense_output)\n",
    "\n",
    "# Concatenate the outputs from both branches\n",
    "combined = concatenate([lstm_output, dense_output])\n",
    "\n",
    "combined = Dense(units = 64, activation='relu')(combined)\n",
    "\n",
    "# Final output layer\n",
    "output = Dense(units=1, activation='sigmoid')(combined)\n",
    "\n",
    "# Create the model\n",
    "model = Model(inputs=[lstm_input, dense_input], outputs=output)\n",
    "model.compile(optimizer='adam', loss='binary_crossentropy', metrics=['accuracy', 'AUC'])\n",
    "\n",
    "# Define the early stopping callback\n",
    "early_stopping = EarlyStopping(monitor='val_accuracy', patience=10, restore_best_weights=True)\n",
    "\n",
    "# Train the model with both LSTM and dense input\n",
    "model.fit([X_train_vec, X_train], y_train, epochs=100, batch_size=32,\n",
    "          validation_data=([X_test_vec, X_test], y_test),\n",
    "          callbacks=[early_stopping])\n",
    "\n",
    "# Predict and evaluate\n",
    "y_pred = model.predict([X_test_vec, X_test])\n",
    "roc_auc = roc_auc_score(y_test, y_pred)\n",
    "\n",
    "y_pred_class = (y_pred > .5).astype(int)\n",
    "accuracy = accuracy_score(y_test,y_pred_class)\n",
    "print('ROC-AUC:', roc_auc)\n",
    "print('Accuracy:', accuracy)\n",
    "\n",
    "from sklearn.metrics import confusion_matrix\n",
    "import seaborn as sns\n",
    "\n",
    "matrix = confusion_matrix(y_test, y_pred_class)\n",
    "\n",
    "sns.heatmap(matrix/np.sum(matrix), annot=True, fmt='.2%', cmap='Blues')"
   ]
  },
  {
   "cell_type": "code",
   "execution_count": 6,
   "id": "59dc53ff-9c21-466a-8e9f-f10b3833b0ee",
   "metadata": {},
   "outputs": [],
   "source": [
    "#model containing character length, number of capital words, upvotes and # of comments\n",
    "#Model 2 adds POS tagging and standard scaling of variables\n",
    "#Only left in proper nouns as others decreased performance"
   ]
  },
  {
   "cell_type": "code",
   "execution_count": 7,
   "id": "77a3b55f-1112-4739-b2cf-337ce0205e57",
   "metadata": {},
   "outputs": [],
   "source": [
    "import numpy as np\n",
    "import pandas as pd\n",
    "from imblearn.over_sampling import RandomOverSampler\n",
    "from sklearn.utils import shuffle\n",
    "from sklearn.model_selection import train_test_split\n",
    "from gensim.models import Word2Vec\n",
    "\n",
    "#create extra variables for later\n",
    "df_other_var = create_other_var(df)\n",
    "\n",
    "#Create simple dataframe with only text and predictor\n",
    "df = df[['Title','Political Lean']] \n",
    "\n",
    "#dummy code predictor\n",
    "df['Political Lean'] = df['Political Lean'].replace('Liberal',1)\n",
    "df['Political Lean'] = df['Political Lean'].replace('Conservative',0)\n",
    "\n",
    "df = df.rename({'Political Lean':'y'},axis=1) #replace column name for simplicity\n",
    "\n",
    "df = pd.concat([df,df_other_var],axis=1)\n",
    "\n",
    "df = df[df['Length']>=15]\n",
    "\n",
    "#Split into X & y\n",
    "X = df.drop(['y'],axis=1)\n",
    "y = df['y']\n",
    "\n",
    "#oversample minority class\n",
    "oversample = RandomOverSampler(sampling_strategy='minority', random_state=13)\n",
    "X, y = oversample.fit_resample(X, y)"
   ]
  },
  {
   "cell_type": "code",
   "execution_count": 8,
   "id": "eed9495c-923f-474f-9f74-dd19b9ac4074",
   "metadata": {},
   "outputs": [
    {
     "ename": "AttributeError",
     "evalue": "'numpy.ndarray' object has no attribute 'merge'",
     "output_type": "error",
     "traceback": [
      "\u001b[1;31m---------------------------------------------------------------------------\u001b[0m",
      "\u001b[1;31mAttributeError\u001b[0m                            Traceback (most recent call last)",
      "Cell \u001b[1;32mIn[8], line 1\u001b[0m\n\u001b[1;32m----> 1\u001b[0m loss_df \u001b[38;5;241m=\u001b[39m \u001b[43mX_test\u001b[49m\u001b[38;5;241;43m.\u001b[39;49m\u001b[43mmerge\u001b[49m(X[[\u001b[38;5;124m'\u001b[39m\u001b[38;5;124mTitle\u001b[39m\u001b[38;5;124m'\u001b[39m]],left_index\u001b[38;5;241m=\u001b[39m\u001b[38;5;28;01mTrue\u001b[39;00m,right_index\u001b[38;5;241m=\u001b[39m\u001b[38;5;28;01mTrue\u001b[39;00m,how\u001b[38;5;241m=\u001b[39m\u001b[38;5;124m'\u001b[39m\u001b[38;5;124mleft\u001b[39m\u001b[38;5;124m'\u001b[39m)\n\u001b[0;32m      2\u001b[0m loss_df \u001b[38;5;241m=\u001b[39m loss_df\u001b[38;5;241m.\u001b[39mmerge(y,left_index\u001b[38;5;241m=\u001b[39m\u001b[38;5;28;01mTrue\u001b[39;00m,right_index\u001b[38;5;241m=\u001b[39m\u001b[38;5;28;01mTrue\u001b[39;00m,how\u001b[38;5;241m=\u001b[39m\u001b[38;5;124m'\u001b[39m\u001b[38;5;124mleft\u001b[39m\u001b[38;5;124m'\u001b[39m)\n\u001b[0;32m      3\u001b[0m predictions \u001b[38;5;241m=\u001b[39m pd\u001b[38;5;241m.\u001b[39mDataFrame(y_pred, columns \u001b[38;5;241m=\u001b[39m [\u001b[38;5;124m'\u001b[39m\u001b[38;5;124mprob\u001b[39m\u001b[38;5;124m'\u001b[39m])\n",
      "\u001b[1;31mAttributeError\u001b[0m: 'numpy.ndarray' object has no attribute 'merge'"
     ]
    }
   ],
   "source": [
    "loss_df = X_test.merge(X[['Title']],left_index=True,right_index=True,how='left')\n",
    "loss_df = loss_df.merge(y,left_index=True,right_index=True,how='left')\n",
    "predictions = pd.DataFrame(y_pred, columns = ['prob'])\n",
    "loss_df = pd.concat([loss_df,predictions.set_index(loss_df.index)],axis=1)\n",
    "loss_df['prob'] = abs(loss_df['prob']-.5)"
   ]
  },
  {
   "cell_type": "code",
   "execution_count": null,
   "id": "83928af4-ce6f-427f-89a2-874bc4d50d9b",
   "metadata": {},
   "outputs": [],
   "source": [
    "loss_df.sort_values(by='prob').head(50)"
   ]
  },
  {
   "cell_type": "code",
   "execution_count": null,
   "id": "b4ea316a-dd0e-403b-941b-a187813ce181",
   "metadata": {},
   "outputs": [],
   "source": []
  }
 ],
 "metadata": {
  "kernelspec": {
   "display_name": "LHL_env",
   "language": "python",
   "name": "lhl_env"
  },
  "language_info": {
   "codemirror_mode": {
    "name": "ipython",
    "version": 3
   },
   "file_extension": ".py",
   "mimetype": "text/x-python",
   "name": "python",
   "nbconvert_exporter": "python",
   "pygments_lexer": "ipython3",
   "version": "3.10.9"
  }
 },
 "nbformat": 4,
 "nbformat_minor": 5
}
