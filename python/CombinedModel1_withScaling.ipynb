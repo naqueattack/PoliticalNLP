{
 "cells": [
  {
   "cell_type": "code",
   "execution_count": 1,
   "id": "67233b73-f1a2-4cab-a395-0acf30fb4ff0",
   "metadata": {},
   "outputs": [
    {
     "name": "stderr",
     "output_type": "stream",
     "text": [
      "[nltk_data] Downloading package wordnet to\n",
      "[nltk_data]     C:\\Users\\Andrew\\AppData\\Roaming\\nltk_data...\n",
      "[nltk_data]   Package wordnet is already up-to-date!\n"
     ]
    }
   ],
   "source": [
    "import pandas as pd\n",
    "import numpy as np\n",
    "import string\n",
    "import nltk\n",
    "nltk.download('wordnet')\n",
    "\n",
    "df = pd.read_csv(\"../data/fulldata.csv\")"
   ]
  },
  {
   "cell_type": "code",
   "execution_count": 2,
   "id": "a16c2532-c2f2-48f7-84f6-7f9e0049ea0b",
   "metadata": {},
   "outputs": [],
   "source": [
    "from Cleaning import lowercase, unpunctuate, tokenize, lemmatize, count_capitalized_words, create_other_var, cleaning_and_prep, stack_vectors"
   ]
  },
  {
   "cell_type": "code",
   "execution_count": 3,
   "id": "bb47f54a-ec57-4308-a10d-62853364b7f4",
   "metadata": {},
   "outputs": [
    {
     "name": "stderr",
     "output_type": "stream",
     "text": [
      "C:\\Users\\Andrew\\Documents\\LHL\\PoliticalNLP\\python\\Cleaning.py:116: SettingWithCopyWarning: \n",
      "A value is trying to be set on a copy of a slice from a DataFrame.\n",
      "Try using .loc[row_indexer,col_indexer] = value instead\n",
      "\n",
      "See the caveats in the documentation: https://pandas.pydata.org/pandas-docs/stable/user_guide/indexing.html#returning-a-view-versus-a-copy\n",
      "  df['Political Lean'] = df['Political Lean'].replace('Liberal',1)\n",
      "C:\\Users\\Andrew\\Documents\\LHL\\PoliticalNLP\\python\\Cleaning.py:117: SettingWithCopyWarning: \n",
      "A value is trying to be set on a copy of a slice from a DataFrame.\n",
      "Try using .loc[row_indexer,col_indexer] = value instead\n",
      "\n",
      "See the caveats in the documentation: https://pandas.pydata.org/pandas-docs/stable/user_guide/indexing.html#returning-a-view-versus-a-copy\n",
      "  df['Political Lean'] = df['Political Lean'].replace('Conservative',0)\n"
     ]
    }
   ],
   "source": [
    "X_train, X_test, y_train, y_test = cleaning_and_prep(df)"
   ]
  },
  {
   "cell_type": "code",
   "execution_count": 4,
   "id": "4c07ff43-bee3-4c11-9e29-29c25764a85d",
   "metadata": {},
   "outputs": [],
   "source": [
    "X_train_vec, X_test_vec, X_train, X_test = stack_vectors(X_train,X_test)"
   ]
  },
  {
   "cell_type": "code",
   "execution_count": 5,
   "id": "fbb2f9fa-567e-4a44-b5f3-af3c3827ab2a",
   "metadata": {},
   "outputs": [],
   "source": [
    "X_train = X_train[:,0:4]\n",
    "X_test = X_test[:,0:4]"
   ]
  },
  {
   "cell_type": "code",
   "execution_count": 6,
   "id": "83645586-d576-4de0-ae1e-d3897c0b206b",
   "metadata": {},
   "outputs": [
    {
     "name": "stdout",
     "output_type": "stream",
     "text": [
      "Epoch 1/100\n",
      "433/433 [==============================] - 16s 28ms/step - loss: 0.6439 - accuracy: 0.6131 - auc: 0.6680 - val_loss: 0.6086 - val_accuracy: 0.6560 - val_auc: 0.7311\n",
      "Epoch 2/100\n",
      "433/433 [==============================] - 10s 23ms/step - loss: 0.5989 - accuracy: 0.6651 - auc: 0.7347 - val_loss: 0.5822 - val_accuracy: 0.6994 - val_auc: 0.7787\n",
      "Epoch 3/100\n",
      "433/433 [==============================] - 9s 20ms/step - loss: 0.5770 - accuracy: 0.6831 - auc: 0.7643 - val_loss: 0.5680 - val_accuracy: 0.6830 - val_auc: 0.7852\n",
      "Epoch 4/100\n",
      "433/433 [==============================] - 7s 17ms/step - loss: 0.5672 - accuracy: 0.6893 - auc: 0.7715 - val_loss: 0.5558 - val_accuracy: 0.7108 - val_auc: 0.7881\n",
      "Epoch 5/100\n",
      "433/433 [==============================] - 7s 17ms/step - loss: 0.5608 - accuracy: 0.6985 - auc: 0.7808 - val_loss: 0.5555 - val_accuracy: 0.6994 - val_auc: 0.7860\n",
      "Epoch 6/100\n",
      "433/433 [==============================] - 7s 17ms/step - loss: 0.5552 - accuracy: 0.7031 - auc: 0.7839 - val_loss: 0.5538 - val_accuracy: 0.6973 - val_auc: 0.7833\n",
      "Epoch 7/100\n",
      "433/433 [==============================] - 7s 16ms/step - loss: 0.5492 - accuracy: 0.7075 - auc: 0.7879 - val_loss: 0.5522 - val_accuracy: 0.7010 - val_auc: 0.7874\n",
      "Epoch 8/100\n",
      "433/433 [==============================] - 8s 19ms/step - loss: 0.5479 - accuracy: 0.7106 - auc: 0.7926 - val_loss: 0.5601 - val_accuracy: 0.6924 - val_auc: 0.7886\n",
      "Epoch 9/100\n",
      "433/433 [==============================] - 8s 18ms/step - loss: 0.5486 - accuracy: 0.7097 - auc: 0.7925 - val_loss: 0.5588 - val_accuracy: 0.7031 - val_auc: 0.7929\n",
      "Epoch 10/100\n",
      "433/433 [==============================] - 8s 18ms/step - loss: 0.5419 - accuracy: 0.7108 - auc: 0.7966 - val_loss: 0.5453 - val_accuracy: 0.7022 - val_auc: 0.7946\n",
      "Epoch 11/100\n",
      "433/433 [==============================] - 10s 23ms/step - loss: 0.5445 - accuracy: 0.7134 - auc: 0.7960 - val_loss: 0.5409 - val_accuracy: 0.7157 - val_auc: 0.7978\n",
      "Epoch 12/100\n",
      "433/433 [==============================] - 11s 25ms/step - loss: 0.5391 - accuracy: 0.7157 - auc: 0.7995 - val_loss: 0.5486 - val_accuracy: 0.6998 - val_auc: 0.7930\n",
      "Epoch 13/100\n",
      "433/433 [==============================] - 10s 23ms/step - loss: 0.5360 - accuracy: 0.7160 - auc: 0.8010 - val_loss: 0.5480 - val_accuracy: 0.6961 - val_auc: 0.7972\n",
      "Epoch 14/100\n",
      "433/433 [==============================] - 9s 20ms/step - loss: 0.5368 - accuracy: 0.7152 - auc: 0.8008 - val_loss: 0.5382 - val_accuracy: 0.7072 - val_auc: 0.7983\n",
      "Epoch 15/100\n",
      "433/433 [==============================] - 7s 17ms/step - loss: 0.5340 - accuracy: 0.7175 - auc: 0.8027 - val_loss: 0.5477 - val_accuracy: 0.7096 - val_auc: 0.7957\n",
      "Epoch 16/100\n",
      "433/433 [==============================] - 7s 17ms/step - loss: 0.5359 - accuracy: 0.7170 - auc: 0.8031 - val_loss: 0.5428 - val_accuracy: 0.7072 - val_auc: 0.7984\n",
      "Epoch 17/100\n",
      "433/433 [==============================] - 7s 17ms/step - loss: 0.5339 - accuracy: 0.7204 - auc: 0.8037 - val_loss: 0.5444 - val_accuracy: 0.7043 - val_auc: 0.7994\n",
      "Epoch 18/100\n",
      "433/433 [==============================] - 7s 17ms/step - loss: 0.5326 - accuracy: 0.7179 - auc: 0.8055 - val_loss: 0.5403 - val_accuracy: 0.7186 - val_auc: 0.8023\n",
      "Epoch 19/100\n",
      "433/433 [==============================] - 7s 17ms/step - loss: 0.5294 - accuracy: 0.7200 - auc: 0.8071 - val_loss: 0.5343 - val_accuracy: 0.7194 - val_auc: 0.8034\n",
      "Epoch 20/100\n",
      "433/433 [==============================] - 7s 17ms/step - loss: 0.5275 - accuracy: 0.7210 - auc: 0.8080 - val_loss: 0.5320 - val_accuracy: 0.7133 - val_auc: 0.8046\n",
      "Epoch 21/100\n",
      "433/433 [==============================] - 7s 17ms/step - loss: 0.5301 - accuracy: 0.7211 - auc: 0.8077 - val_loss: 0.5392 - val_accuracy: 0.7153 - val_auc: 0.8040\n",
      "Epoch 22/100\n",
      "433/433 [==============================] - 7s 17ms/step - loss: 0.5305 - accuracy: 0.7148 - auc: 0.8056 - val_loss: 0.5371 - val_accuracy: 0.7166 - val_auc: 0.8032\n",
      "Epoch 23/100\n",
      "433/433 [==============================] - 7s 17ms/step - loss: 0.5259 - accuracy: 0.7269 - auc: 0.8113 - val_loss: 0.5374 - val_accuracy: 0.7190 - val_auc: 0.8038\n",
      "Epoch 24/100\n",
      "433/433 [==============================] - 7s 17ms/step - loss: 0.5226 - accuracy: 0.7246 - auc: 0.8127 - val_loss: 0.5315 - val_accuracy: 0.7174 - val_auc: 0.8044\n",
      "Epoch 25/100\n",
      "433/433 [==============================] - 7s 17ms/step - loss: 0.5245 - accuracy: 0.7231 - auc: 0.8113 - val_loss: 0.5306 - val_accuracy: 0.7157 - val_auc: 0.8066\n",
      "Epoch 26/100\n",
      "433/433 [==============================] - 7s 17ms/step - loss: 0.5258 - accuracy: 0.7219 - auc: 0.8102 - val_loss: 0.5301 - val_accuracy: 0.7047 - val_auc: 0.8091\n",
      "Epoch 27/100\n",
      "433/433 [==============================] - 7s 17ms/step - loss: 0.5237 - accuracy: 0.7224 - auc: 0.8118 - val_loss: 0.5273 - val_accuracy: 0.7166 - val_auc: 0.8081\n",
      "Epoch 28/100\n",
      "433/433 [==============================] - 7s 17ms/step - loss: 0.5224 - accuracy: 0.7264 - auc: 0.8147 - val_loss: 0.5261 - val_accuracy: 0.7162 - val_auc: 0.8076\n",
      "Epoch 29/100\n",
      "433/433 [==============================] - 7s 16ms/step - loss: 0.5222 - accuracy: 0.7270 - auc: 0.8136 - val_loss: 0.5342 - val_accuracy: 0.7104 - val_auc: 0.8045\n",
      "77/77 [==============================] - 1s 3ms/step\n",
      "ROC-AUC: 0.8035429845719747\n"
     ]
    },
    {
     "data": {
      "text/plain": [
       "<Axes: >"
      ]
     },
     "execution_count": 6,
     "metadata": {},
     "output_type": "execute_result"
    },
    {
     "data": {
      "image/png": "[encoded data removed]",
      "text/plain": [
       "<Figure size 640x480 with 2 Axes>"
      ]
     },
     "metadata": {},
     "output_type": "display_data"
    }
   ],
   "source": [
    "from keras.models import Model\n",
    "from keras.layers import Dense, LSTM, Dropout, Input, concatenate\n",
    "from keras.callbacks import EarlyStopping\n",
    "from sklearn.metrics import roc_auc_score\n",
    "\n",
    "# First branch for the LSTM\n",
    "lstm_input = Input(shape=(1, 100))\n",
    "lstm_output = LSTM(units=256, return_sequences=True, activation='relu')(lstm_input)\n",
    "lstm_output = Dropout(0.2)(lstm_output)\n",
    "lstm_output = LSTM(units=256, return_sequences=True, activation='relu')(lstm_output)\n",
    "lstm_output = Dropout(0.2)(lstm_output)\n",
    "lstm_output = LSTM(units=128, return_sequences=True, activation='relu')(lstm_output)\n",
    "lstm_output = Dropout(0.2)(lstm_output)\n",
    "lstm_output = LSTM(units=64, activation='relu')(lstm_output)\n",
    "lstm_output = Dropout(0.2)(lstm_output)\n",
    "\n",
    "# Second branch for the dense layers\n",
    "dense_input = Input(shape=(4,))\n",
    "dense_output = Dense(units=64, activation='relu')(dense_input)\n",
    "dense_output = Dropout(0.2)(dense_output)\n",
    "dense_output = Dense(units=32, activation='relu')(dense_output)\n",
    "dense_output = Dropout(0.2)(dense_output)\n",
    "\n",
    "# Concatenate the outputs from both branches\n",
    "combined = concatenate([lstm_output, dense_output])\n",
    "\n",
    "combined = Dense(units = 64, activation='relu')(combined)\n",
    "\n",
    "# Final output layer\n",
    "output = Dense(units=1, activation='sigmoid')(combined)\n",
    "\n",
    "# Create the model\n",
    "model = Model(inputs=[lstm_input, dense_input], outputs=output)\n",
    "model.compile(optimizer='adam', loss='binary_crossentropy', metrics=['accuracy', 'AUC'])\n",
    "\n",
    "# Define the early stopping callback\n",
    "early_stopping = EarlyStopping(monitor='val_accuracy', patience=10, restore_best_weights=True)\n",
    "\n",
    "# Train the model with both LSTM and dense input\n",
    "model.fit([X_train_vec, X_train], y_train, epochs=100, batch_size=32,\n",
    "          validation_data=([X_test_vec, X_test], y_test),\n",
    "          callbacks=[early_stopping])\n",
    "\n",
    "# Predict and evaluate\n",
    "y_pred = model.predict([X_test_vec, X_test[:,0:4]])\n",
    "roc_auc = roc_auc_score(y_test, y_pred)\n",
    "print('ROC-AUC:', roc_auc)\n",
    "\n",
    "from sklearn.metrics import confusion_matrix\n",
    "import seaborn as sns\n",
    "y_pred_class = (y_pred > .5).astype(int)\n",
    "matrix = confusion_matrix(y_test, y_pred_class)\n",
    "\n",
    "sns.heatmap(matrix/np.sum(matrix), annot=True, fmt='.2%', cmap='Blues')"
   ]
  },
  {
   "cell_type": "code",
   "execution_count": 7,
   "id": "59dc53ff-9c21-466a-8e9f-f10b3833b0ee",
   "metadata": {},
   "outputs": [],
   "source": [
    "#model containing character length, number of capital words, upvotes and # of comments"
   ]
  },
  {
   "cell_type": "code",
   "execution_count": 8,
   "id": "77a3b55f-1112-4739-b2cf-337ce0205e57",
   "metadata": {},
   "outputs": [],
   "source": [
    "import numpy as np\n",
    "import pandas as pd\n",
    "from imblearn.over_sampling import RandomOverSampler\n",
    "from sklearn.utils import shuffle\n",
    "from sklearn.model_selection import train_test_split\n",
    "from gensim.models import Word2Vec\n",
    "\n",
    "#create extra variables for later\n",
    "df_other_var = create_other_var(df)\n",
    "\n",
    "#Create simple dataframe with only text and predictor\n",
    "df = df[['Title','Political Lean']] \n",
    "\n",
    "#dummy code predictor\n",
    "df['Political Lean'] = df['Political Lean'].replace('Liberal',1)\n",
    "df['Political Lean'] = df['Political Lean'].replace('Conservative',0)\n",
    "\n",
    "df = df.rename({'Political Lean':'y'},axis=1) #replace column name for simplicity\n",
    "\n",
    "df = pd.concat([df,df_other_var],axis=1)\n",
    "\n",
    "df = df[df['Length']>=15]\n",
    "\n",
    "#Split into X & y\n",
    "X = df.drop(['y'],axis=1)\n",
    "y = df['y']\n",
    "\n",
    "#oversample minority class\n",
    "oversample = RandomOverSampler(sampling_strategy='minority', random_state=13)\n",
    "X, y = oversample.fit_resample(X, y)"
   ]
  },
  {
   "cell_type": "code",
   "execution_count": 9,
   "id": "eed9495c-923f-474f-9f74-dd19b9ac4074",
   "metadata": {},
   "outputs": [
    {
     "ename": "AttributeError",
     "evalue": "'numpy.ndarray' object has no attribute 'merge'",
     "output_type": "error",
     "traceback": [
      "\u001b[1;31m---------------------------------------------------------------------------\u001b[0m",
      "\u001b[1;31mAttributeError\u001b[0m                            Traceback (most recent call last)",
      "Cell \u001b[1;32mIn[9], line 1\u001b[0m\n\u001b[1;32m----> 1\u001b[0m loss_df \u001b[38;5;241m=\u001b[39m \u001b[43mX_test\u001b[49m\u001b[38;5;241;43m.\u001b[39;49m\u001b[43mmerge\u001b[49m(X[[\u001b[38;5;124m'\u001b[39m\u001b[38;5;124mTitle\u001b[39m\u001b[38;5;124m'\u001b[39m]],left_index\u001b[38;5;241m=\u001b[39m\u001b[38;5;28;01mTrue\u001b[39;00m,right_index\u001b[38;5;241m=\u001b[39m\u001b[38;5;28;01mTrue\u001b[39;00m,how\u001b[38;5;241m=\u001b[39m\u001b[38;5;124m'\u001b[39m\u001b[38;5;124mleft\u001b[39m\u001b[38;5;124m'\u001b[39m)\n\u001b[0;32m      2\u001b[0m loss_df \u001b[38;5;241m=\u001b[39m loss_df\u001b[38;5;241m.\u001b[39mmerge(y,left_index\u001b[38;5;241m=\u001b[39m\u001b[38;5;28;01mTrue\u001b[39;00m,right_index\u001b[38;5;241m=\u001b[39m\u001b[38;5;28;01mTrue\u001b[39;00m,how\u001b[38;5;241m=\u001b[39m\u001b[38;5;124m'\u001b[39m\u001b[38;5;124mleft\u001b[39m\u001b[38;5;124m'\u001b[39m)\n\u001b[0;32m      3\u001b[0m predictions \u001b[38;5;241m=\u001b[39m pd\u001b[38;5;241m.\u001b[39mDataFrame(y_pred, columns \u001b[38;5;241m=\u001b[39m [\u001b[38;5;124m'\u001b[39m\u001b[38;5;124mprob\u001b[39m\u001b[38;5;124m'\u001b[39m])\n",
      "\u001b[1;31mAttributeError\u001b[0m: 'numpy.ndarray' object has no attribute 'merge'"
     ]
    }
   ],
   "source": [
    "loss_df = X_test.merge(X[['Title']],left_index=True,right_index=True,how='left')\n",
    "loss_df = loss_df.merge(y,left_index=True,right_index=True,how='left')\n",
    "predictions = pd.DataFrame(y_pred, columns = ['prob'])\n",
    "loss_df = pd.concat([loss_df,predictions.set_index(loss_df.index)],axis=1)\n",
    "loss_df['prob'] = abs(loss_df['prob']-.5)"
   ]
  },
  {
   "cell_type": "code",
   "execution_count": null,
   "id": "83928af4-ce6f-427f-89a2-874bc4d50d9b",
   "metadata": {},
   "outputs": [],
   "source": [
    "loss_df.sort_values(by='prob').head(50)"
   ]
  },
  {
   "cell_type": "code",
   "execution_count": null,
   "id": "b4ea316a-dd0e-403b-941b-a187813ce181",
   "metadata": {},
   "outputs": [],
   "source": []
  }
 ],
 "metadata": {
  "kernelspec": {
   "display_name": "LHL_env",
   "language": "python",
   "name": "lhl_env"
  },
  "language_info": {
   "codemirror_mode": {
    "name": "ipython",
    "version": 3
   },
   "file_extension": ".py",
   "mimetype": "text/x-python",
   "name": "python",
   "nbconvert_exporter": "python",
   "pygments_lexer": "ipython3",
   "version": "3.10.9"
  }
 },
 "nbformat": 4,
 "nbformat_minor": 5
}
