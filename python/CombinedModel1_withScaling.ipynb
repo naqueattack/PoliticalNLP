{
 "cells": [
  {
   "cell_type": "code",
   "execution_count": 1,
   "id": "67233b73-f1a2-4cab-a395-0acf30fb4ff0",
   "metadata": {},
   "outputs": [
    {
     "name": "stderr",
     "output_type": "stream",
     "text": [
      "[nltk_data] Downloading package wordnet to\n",
      "[nltk_data]     C:\\Users\\Andrew\\AppData\\Roaming\\nltk_data...\n",
      "[nltk_data]   Package wordnet is already up-to-date!\n"
     ]
    }
   ],
   "source": [
    "import pandas as pd\n",
    "import numpy as np\n",
    "import string\n",
    "import nltk\n",
    "nltk.download('wordnet')\n",
    "\n",
    "df = pd.read_csv(\"../data/fulldata.csv\")"
   ]
  },
  {
   "cell_type": "code",
   "execution_count": 2,
   "id": "a16c2532-c2f2-48f7-84f6-7f9e0049ea0b",
   "metadata": {},
   "outputs": [],
   "source": [
    "from Cleaning import lowercase, unpunctuate, tokenize, lemmatize, count_capitalized_words, create_other_var, cleaning_and_prep, stack_vectors"
   ]
  },
  {
   "cell_type": "code",
   "execution_count": 3,
   "id": "bb47f54a-ec57-4308-a10d-62853364b7f4",
   "metadata": {},
   "outputs": [
    {
     "name": "stderr",
     "output_type": "stream",
     "text": [
      "C:\\Users\\Andrew\\Documents\\LHL\\PoliticalNLP\\python\\Cleaning.py:116: SettingWithCopyWarning: \n",
      "A value is trying to be set on a copy of a slice from a DataFrame.\n",
      "Try using .loc[row_indexer,col_indexer] = value instead\n",
      "\n",
      "See the caveats in the documentation: https://pandas.pydata.org/pandas-docs/stable/user_guide/indexing.html#returning-a-view-versus-a-copy\n",
      "  df['Political Lean'] = df['Political Lean'].replace('Liberal',1)\n",
      "C:\\Users\\Andrew\\Documents\\LHL\\PoliticalNLP\\python\\Cleaning.py:117: SettingWithCopyWarning: \n",
      "A value is trying to be set on a copy of a slice from a DataFrame.\n",
      "Try using .loc[row_indexer,col_indexer] = value instead\n",
      "\n",
      "See the caveats in the documentation: https://pandas.pydata.org/pandas-docs/stable/user_guide/indexing.html#returning-a-view-versus-a-copy\n",
      "  df['Political Lean'] = df['Political Lean'].replace('Conservative',0)\n"
     ]
    }
   ],
   "source": [
    "X_train, X_test, y_train, y_test = cleaning_and_prep(df)"
   ]
  },
  {
   "cell_type": "code",
   "execution_count": 4,
   "id": "4c07ff43-bee3-4c11-9e29-29c25764a85d",
   "metadata": {},
   "outputs": [],
   "source": [
    "X_train_vec, X_test_vec, X_train, X_test = stack_vectors(X_train,X_test)"
   ]
  },
  {
   "cell_type": "code",
   "execution_count": 14,
   "id": "fbb2f9fa-567e-4a44-b5f3-af3c3827ab2a",
   "metadata": {},
   "outputs": [],
   "source": [
    "X_train = X_train[:,0:4]\n",
    "X_test = X_test[:,0:4]"
   ]
  },
  {
   "cell_type": "code",
   "execution_count": 15,
   "id": "83645586-d576-4de0-ae1e-d3897c0b206b",
   "metadata": {},
   "outputs": [
    {
     "name": "stdout",
     "output_type": "stream",
     "text": [
      "Epoch 1/100\n",
      "433/433 [==============================] - 12s 18ms/step - loss: 0.6386 - accuracy: 0.6175 - auc: 0.6729 - val_loss: 0.6038 - val_accuracy: 0.6871 - val_auc: 0.7922\n",
      "Epoch 2/100\n",
      "433/433 [==============================] - 7s 17ms/step - loss: 0.5913 - accuracy: 0.6715 - auc: 0.7463 - val_loss: 0.5727 - val_accuracy: 0.6863 - val_auc: 0.7935\n",
      "Epoch 3/100\n",
      "433/433 [==============================] - 8s 18ms/step - loss: 0.5723 - accuracy: 0.6888 - auc: 0.7666 - val_loss: 0.5524 - val_accuracy: 0.7027 - val_auc: 0.8084\n",
      "Epoch 4/100\n",
      "433/433 [==============================] - 8s 17ms/step - loss: 0.5645 - accuracy: 0.6941 - auc: 0.7741 - val_loss: 0.5494 - val_accuracy: 0.6969 - val_auc: 0.8052\n",
      "Epoch 5/100\n",
      "433/433 [==============================] - 8s 18ms/step - loss: 0.5597 - accuracy: 0.6947 - auc: 0.7800 - val_loss: 0.5392 - val_accuracy: 0.7182 - val_auc: 0.8097\n",
      "Epoch 6/100\n",
      "433/433 [==============================] - 7s 16ms/step - loss: 0.5520 - accuracy: 0.7030 - auc: 0.7867 - val_loss: 0.5341 - val_accuracy: 0.7178 - val_auc: 0.8061\n",
      "Epoch 7/100\n",
      "433/433 [==============================] - 7s 17ms/step - loss: 0.5516 - accuracy: 0.7075 - auc: 0.7890 - val_loss: 0.5483 - val_accuracy: 0.7059 - val_auc: 0.8156\n",
      "Epoch 8/100\n",
      "433/433 [==============================] - 8s 18ms/step - loss: 0.5493 - accuracy: 0.7034 - auc: 0.7891 - val_loss: 0.5297 - val_accuracy: 0.7313 - val_auc: 0.8159\n",
      "Epoch 9/100\n",
      "433/433 [==============================] - 9s 20ms/step - loss: 0.5433 - accuracy: 0.7135 - auc: 0.7961 - val_loss: 0.5230 - val_accuracy: 0.7325 - val_auc: 0.8160\n",
      "Epoch 10/100\n",
      "433/433 [==============================] - 9s 20ms/step - loss: 0.5395 - accuracy: 0.7149 - auc: 0.7993 - val_loss: 0.5294 - val_accuracy: 0.7174 - val_auc: 0.8151\n",
      "Epoch 11/100\n",
      "433/433 [==============================] - 7s 17ms/step - loss: 0.5417 - accuracy: 0.7132 - auc: 0.7966 - val_loss: 0.5219 - val_accuracy: 0.7272 - val_auc: 0.8195\n",
      "Epoch 12/100\n",
      "433/433 [==============================] - 8s 18ms/step - loss: 0.5372 - accuracy: 0.7167 - auc: 0.8017 - val_loss: 0.5328 - val_accuracy: 0.7047 - val_auc: 0.8217\n",
      "Epoch 13/100\n",
      "433/433 [==============================] - 8s 17ms/step - loss: 0.5350 - accuracy: 0.7226 - auc: 0.8034 - val_loss: 0.5161 - val_accuracy: 0.7374 - val_auc: 0.8242\n",
      "Epoch 14/100\n",
      "433/433 [==============================] - 8s 17ms/step - loss: 0.5351 - accuracy: 0.7188 - auc: 0.8029 - val_loss: 0.5254 - val_accuracy: 0.7211 - val_auc: 0.8210\n",
      "Epoch 15/100\n",
      "433/433 [==============================] - 7s 17ms/step - loss: 0.5328 - accuracy: 0.7183 - auc: 0.8047 - val_loss: 0.5169 - val_accuracy: 0.7219 - val_auc: 0.8234\n",
      "Epoch 16/100\n",
      "433/433 [==============================] - 7s 17ms/step - loss: 0.5330 - accuracy: 0.7157 - auc: 0.8048 - val_loss: 0.5165 - val_accuracy: 0.7292 - val_auc: 0.8212\n",
      "Epoch 17/100\n",
      "433/433 [==============================] - 8s 18ms/step - loss: 0.5310 - accuracy: 0.7210 - auc: 0.8061 - val_loss: 0.5212 - val_accuracy: 0.7297 - val_auc: 0.8198\n",
      "Epoch 18/100\n",
      "433/433 [==============================] - 8s 19ms/step - loss: 0.5316 - accuracy: 0.7200 - auc: 0.8059 - val_loss: 0.5087 - val_accuracy: 0.7399 - val_auc: 0.8275\n",
      "Epoch 19/100\n",
      "433/433 [==============================] - 8s 19ms/step - loss: 0.5279 - accuracy: 0.7258 - auc: 0.8091 - val_loss: 0.5111 - val_accuracy: 0.7329 - val_auc: 0.8287\n",
      "Epoch 20/100\n",
      "433/433 [==============================] - 9s 21ms/step - loss: 0.5289 - accuracy: 0.7238 - auc: 0.8081 - val_loss: 0.5158 - val_accuracy: 0.7235 - val_auc: 0.8290\n",
      "Epoch 21/100\n",
      "433/433 [==============================] - 9s 22ms/step - loss: 0.5264 - accuracy: 0.7233 - auc: 0.8102 - val_loss: 0.5313 - val_accuracy: 0.7268 - val_auc: 0.8188\n",
      "Epoch 22/100\n",
      "433/433 [==============================] - 9s 21ms/step - loss: 0.5234 - accuracy: 0.7279 - auc: 0.8131 - val_loss: 0.5081 - val_accuracy: 0.7366 - val_auc: 0.8314\n",
      "Epoch 23/100\n",
      "433/433 [==============================] - 10s 22ms/step - loss: 0.5256 - accuracy: 0.7263 - auc: 0.8114 - val_loss: 0.5086 - val_accuracy: 0.7321 - val_auc: 0.8294\n",
      "Epoch 24/100\n",
      "433/433 [==============================] - 10s 23ms/step - loss: 0.5222 - accuracy: 0.7249 - auc: 0.8134 - val_loss: 0.5238 - val_accuracy: 0.7321 - val_auc: 0.8253\n",
      "Epoch 25/100\n",
      "433/433 [==============================] - 9s 21ms/step - loss: 0.5265 - accuracy: 0.7252 - auc: 0.8101 - val_loss: 0.5093 - val_accuracy: 0.7346 - val_auc: 0.8321\n",
      "Epoch 26/100\n",
      "433/433 [==============================] - 9s 20ms/step - loss: 0.5215 - accuracy: 0.7272 - auc: 0.8144 - val_loss: 0.5074 - val_accuracy: 0.7419 - val_auc: 0.8345\n",
      "Epoch 27/100\n",
      "433/433 [==============================] - 9s 22ms/step - loss: 0.5209 - accuracy: 0.7261 - auc: 0.8150 - val_loss: 0.5128 - val_accuracy: 0.7325 - val_auc: 0.8295\n",
      "Epoch 28/100\n",
      "433/433 [==============================] - 9s 22ms/step - loss: 0.5208 - accuracy: 0.7296 - auc: 0.8147 - val_loss: 0.5043 - val_accuracy: 0.7419 - val_auc: 0.8320\n",
      "Epoch 29/100\n",
      "433/433 [==============================] - 9s 20ms/step - loss: 0.5224 - accuracy: 0.7287 - auc: 0.8140 - val_loss: 0.4989 - val_accuracy: 0.7333 - val_auc: 0.8343\n",
      "Epoch 30/100\n",
      "433/433 [==============================] - 9s 20ms/step - loss: 0.5205 - accuracy: 0.7269 - auc: 0.8148 - val_loss: 0.5105 - val_accuracy: 0.7395 - val_auc: 0.8316\n",
      "Epoch 31/100\n",
      "433/433 [==============================] - 9s 22ms/step - loss: 0.5185 - accuracy: 0.7324 - auc: 0.8171 - val_loss: 0.5118 - val_accuracy: 0.7342 - val_auc: 0.8292\n",
      "Epoch 32/100\n",
      "433/433 [==============================] - 9s 20ms/step - loss: 0.5160 - accuracy: 0.7303 - auc: 0.8189 - val_loss: 0.5044 - val_accuracy: 0.7354 - val_auc: 0.8307\n",
      "Epoch 33/100\n",
      "433/433 [==============================] - 9s 20ms/step - loss: 0.5177 - accuracy: 0.7295 - auc: 0.8174 - val_loss: 0.5028 - val_accuracy: 0.7346 - val_auc: 0.8351\n",
      "Epoch 34/100\n",
      "433/433 [==============================] - 9s 21ms/step - loss: 0.5167 - accuracy: 0.7340 - auc: 0.8191 - val_loss: 0.5015 - val_accuracy: 0.7382 - val_auc: 0.8348\n",
      "77/77 [==============================] - 1s 5ms/step\n",
      "ROC-AUC: 0.8343077952492473\n"
     ]
    },
    {
     "data": {
      "text/plain": [
       "<Axes: >"
      ]
     },
     "execution_count": 15,
     "metadata": {},
     "output_type": "execute_result"
    },
    {
     "data": {
      "image/png": "[encoded data removed]",
      "text/plain": [
       "<Figure size 640x480 with 2 Axes>"
      ]
     },
     "metadata": {},
     "output_type": "display_data"
    }
   ],
   "source": [
    "from keras.models import Model\n",
    "from keras.layers import Dense, LSTM, Dropout, Input, concatenate\n",
    "from keras.callbacks import EarlyStopping\n",
    "from sklearn.metrics import roc_auc_score\n",
    "\n",
    "# First branch for the LSTM\n",
    "lstm_input = Input(shape=(1, 100))\n",
    "lstm_output = LSTM(units=256, return_sequences=True, activation='relu')(lstm_input)\n",
    "lstm_output = Dropout(0.2)(lstm_output)\n",
    "lstm_output = LSTM(units=256, return_sequences=True, activation='relu')(lstm_output)\n",
    "lstm_output = Dropout(0.2)(lstm_output)\n",
    "lstm_output = LSTM(units=128, return_sequences=True, activation='relu')(lstm_output)\n",
    "lstm_output = Dropout(0.2)(lstm_output)\n",
    "lstm_output = LSTM(units=64, activation='relu')(lstm_output)\n",
    "lstm_output = Dropout(0.2)(lstm_output)\n",
    "\n",
    "# Second branch for the dense layers\n",
    "dense_input = Input(shape=(4,))\n",
    "dense_output = Dense(units=64, activation='relu')(dense_input)\n",
    "dense_output = Dropout(0.2)(dense_output)\n",
    "dense_output = Dense(units=32, activation='relu')(dense_output)\n",
    "dense_output = Dropout(0.2)(dense_output)\n",
    "\n",
    "# Concatenate the outputs from both branches\n",
    "combined = concatenate([lstm_output, dense_output])\n",
    "\n",
    "combined = Dense(units = 64, activation='relu')(combined)\n",
    "\n",
    "# Final output layer\n",
    "output = Dense(units=1, activation='sigmoid')(combined)\n",
    "\n",
    "# Create the model\n",
    "model = Model(inputs=[lstm_input, dense_input], outputs=output)\n",
    "model.compile(optimizer='adam', loss='binary_crossentropy', metrics=['accuracy', 'AUC'])\n",
    "\n",
    "# Define the early stopping callback\n",
    "early_stopping = EarlyStopping(monitor='val_loss', patience=5, restore_best_weights=True)\n",
    "\n",
    "# Train the model with both LSTM and dense input\n",
    "model.fit([X_train_vec, X_train], y_train, epochs=100, batch_size=32,\n",
    "          validation_data=([X_test_vec, X_test], y_test),\n",
    "          callbacks=[early_stopping])\n",
    "\n",
    "# Predict and evaluate\n",
    "y_pred = model.predict([X_test_vec, X_test[:,0:4]])\n",
    "roc_auc = roc_auc_score(y_test, y_pred)\n",
    "print('ROC-AUC:', roc_auc)\n",
    "\n",
    "from sklearn.metrics import confusion_matrix\n",
    "import seaborn as sns\n",
    "y_pred_class = (y_pred > .5).astype(int)\n",
    "matrix = confusion_matrix(y_test, y_pred_class)\n",
    "\n",
    "sns.heatmap(matrix/np.sum(matrix), annot=True, fmt='.2%', cmap='Blues')"
   ]
  },
  {
   "cell_type": "code",
   "execution_count": null,
   "id": "59dc53ff-9c21-466a-8e9f-f10b3833b0ee",
   "metadata": {},
   "outputs": [],
   "source": [
    "#model containing character length, number of capital words, upvotes and # of comments"
   ]
  },
  {
   "cell_type": "code",
   "execution_count": null,
   "id": "77a3b55f-1112-4739-b2cf-337ce0205e57",
   "metadata": {},
   "outputs": [],
   "source": [
    "import numpy as np\n",
    "import pandas as pd\n",
    "from imblearn.over_sampling import RandomOverSampler\n",
    "from sklearn.utils import shuffle\n",
    "from sklearn.model_selection import train_test_split\n",
    "from gensim.models import Word2Vec\n",
    "\n",
    "#create extra variables for later\n",
    "df_other_var = create_other_var(df)\n",
    "\n",
    "#Create simple dataframe with only text and predictor\n",
    "df = df[['Title','Political Lean']] \n",
    "\n",
    "#dummy code predictor\n",
    "df['Political Lean'] = df['Political Lean'].replace('Liberal',1)\n",
    "df['Political Lean'] = df['Political Lean'].replace('Conservative',0)\n",
    "\n",
    "df = df.rename({'Political Lean':'y'},axis=1) #replace column name for simplicity\n",
    "\n",
    "df = pd.concat([df,df_other_var],axis=1)\n",
    "\n",
    "df = df[df['Length']>=15]\n",
    "\n",
    "#Split into X & y\n",
    "X = df.drop(['y'],axis=1)\n",
    "y = df['y']\n",
    "\n",
    "#oversample minority class\n",
    "oversample = RandomOverSampler(sampling_strategy='minority', random_state=13)\n",
    "X, y = oversample.fit_resample(X, y)"
   ]
  },
  {
   "cell_type": "code",
   "execution_count": null,
   "id": "eed9495c-923f-474f-9f74-dd19b9ac4074",
   "metadata": {},
   "outputs": [],
   "source": [
    "loss_df = X_test.merge(X[['Title']],left_index=True,right_index=True,how='left')\n",
    "loss_df = loss_df.merge(y,left_index=True,right_index=True,how='left')\n",
    "predictions = pd.DataFrame(y_pred, columns = ['prob'])\n",
    "loss_df = pd.concat([loss_df,predictions.set_index(loss_df.index)],axis=1)\n",
    "loss_df['prob'] = abs(loss_df['prob']-.5)"
   ]
  },
  {
   "cell_type": "code",
   "execution_count": null,
   "id": "83928af4-ce6f-427f-89a2-874bc4d50d9b",
   "metadata": {},
   "outputs": [],
   "source": [
    "loss_df.sort_values(by='prob').head(50)"
   ]
  },
  {
   "cell_type": "code",
   "execution_count": null,
   "id": "b4ea316a-dd0e-403b-941b-a187813ce181",
   "metadata": {},
   "outputs": [],
   "source": []
  }
 ],
 "metadata": {
  "kernelspec": {
   "display_name": "LHL_env",
   "language": "python",
   "name": "lhl_env"
  },
  "language_info": {
   "codemirror_mode": {
    "name": "ipython",
    "version": 3
   },
   "file_extension": ".py",
   "mimetype": "text/x-python",
   "name": "python",
   "nbconvert_exporter": "python",
   "pygments_lexer": "ipython3",
   "version": "3.10.9"
  }
 },
 "nbformat": 4,
 "nbformat_minor": 5
}
